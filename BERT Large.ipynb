{
 "cells": [
  {
   "cell_type": "code",
   "execution_count": 1,
   "metadata": {},
   "outputs": [
    {
     "name": "stderr",
     "output_type": "stream",
     "text": [
      "c:\\Users\\Joe\\miniconda3\\envs\\tf\\lib\\site-packages\\tqdm\\auto.py:22: TqdmWarning: IProgress not found. Please update jupyter and ipywidgets. See https://ipywidgets.readthedocs.io/en/stable/user_install.html\n",
      "  from .autonotebook import tqdm as notebook_tqdm\n"
     ]
    }
   ],
   "source": [
    "import tensorflow as tf\n",
    "import transformers"
   ]
  },
  {
   "cell_type": "code",
   "execution_count": 2,
   "metadata": {},
   "outputs": [
    {
     "data": {
      "text/plain": [
       "'2.10.0'"
      ]
     },
     "execution_count": 2,
     "metadata": {},
     "output_type": "execute_result"
    }
   ],
   "source": [
    "tf.__version__"
   ]
  },
  {
   "cell_type": "code",
   "execution_count": 3,
   "metadata": {},
   "outputs": [],
   "source": [
    "import numpy as np\n",
    "import pandas as pd"
   ]
  },
  {
   "cell_type": "code",
   "execution_count": 4,
   "metadata": {},
   "outputs": [],
   "source": [
    "from transformers import TFAutoModel, AutoTokenizer\n",
    "\n",
    "tokenizer = AutoTokenizer.from_pretrained(\"bert-large-uncased\")"
   ]
  },
  {
   "cell_type": "code",
   "execution_count": 5,
   "metadata": {},
   "outputs": [],
   "source": [
    "x_train_df = pd.read_csv('data/data_reviews/x_train.csv')\n",
    "y_train_df = pd.read_csv('data/data_reviews/y_train.csv')\n",
    "\n",
    "tr_text_list = x_train_df['text'].values.tolist()"
   ]
  },
  {
   "cell_type": "code",
   "execution_count": 6,
   "metadata": {},
   "outputs": [],
   "source": [
    "x_test_df = pd.read_csv('data/data_reviews/x_test.csv')\n",
    "\n",
    "test_text_list = x_test_df['text'].values.tolist()"
   ]
  },
  {
   "cell_type": "code",
   "execution_count": 7,
   "metadata": {},
   "outputs": [],
   "source": [
    "x_test_df = x_test_df['text']"
   ]
  },
  {
   "cell_type": "code",
   "execution_count": 8,
   "metadata": {},
   "outputs": [],
   "source": [
    "all_data = pd.concat([x_train_df,y_train_df], axis=1)"
   ]
  },
  {
   "cell_type": "code",
   "execution_count": 9,
   "metadata": {},
   "outputs": [],
   "source": [
    "all_data = all_data[['text','is_positive_sentiment']]"
   ]
  },
  {
   "cell_type": "code",
   "execution_count": 10,
   "metadata": {},
   "outputs": [],
   "source": [
    "testids = np.zeros((len(x_test_df),100))\n",
    "testmask = np.zeros((len(x_test_df),100))\n"
   ]
  },
  {
   "cell_type": "code",
   "execution_count": 11,
   "metadata": {},
   "outputs": [],
   "source": [
    "xids = np.zeros((len(all_data),100))\n",
    "xmask = np.zeros((len(all_data),100))"
   ]
  },
  {
   "cell_type": "code",
   "execution_count": 12,
   "metadata": {},
   "outputs": [
    {
     "data": {
      "text/plain": [
       "(2400, 100)"
      ]
     },
     "execution_count": 12,
     "metadata": {},
     "output_type": "execute_result"
    }
   ],
   "source": [
    "xids.shape"
   ]
  },
  {
   "cell_type": "code",
   "execution_count": 13,
   "metadata": {},
   "outputs": [],
   "source": [
    "for i , sequence in enumerate(all_data['text']):\n",
    "    tokens = tokenizer.encode_plus(sequence, max_length=100, truncation=True,\n",
    "                      padding='max_length', add_special_tokens=True,\n",
    "                      return_attention_mask=True, return_token_type_ids=False,\n",
    "                      return_tensors='tf')\n",
    "    xids[i, :], xmask[i,:] = tokens['input_ids'], tokens['attention_mask']\n"
   ]
  },
  {
   "cell_type": "code",
   "execution_count": 14,
   "metadata": {},
   "outputs": [],
   "source": [
    "for i , sequence in enumerate(x_test_df):\n",
    "    tokens = tokenizer.encode_plus(sequence, max_length=100, truncation=True,\n",
    "                      padding='max_length', add_special_tokens=True,\n",
    "                      return_attention_mask=True, return_token_type_ids=False,\n",
    "                      return_tensors='tf')\n",
    "    testids[i, :], testmask[i,:] = tokens['input_ids'], tokens['attention_mask']\n"
   ]
  },
  {
   "cell_type": "code",
   "execution_count": 15,
   "metadata": {},
   "outputs": [
    {
     "name": "stdout",
     "output_type": "stream",
     "text": [
      "[[  101.  2821.  1998. ...     0.     0.     0.]\n",
      " [  101.  2008.  2028. ...     0.     0.     0.]\n",
      " [  101.  5949.  1997. ...     0.     0.     0.]\n",
      " ...\n",
      " [  101.  2572. 11283. ...     0.     0.     0.]\n",
      " [  101.  2057.  3641. ...     0.     0.     0.]\n",
      " [  101.  2326.  2001. ...     0.     0.     0.]]\n",
      "[[1. 1. 1. ... 0. 0. 0.]\n",
      " [1. 1. 1. ... 0. 0. 0.]\n",
      " [1. 1. 1. ... 0. 0. 0.]\n",
      " ...\n",
      " [1. 1. 1. ... 0. 0. 0.]\n",
      " [1. 1. 1. ... 0. 0. 0.]\n",
      " [1. 1. 1. ... 0. 0. 0.]]\n"
     ]
    }
   ],
   "source": [
    "print(xids)\n",
    "print(xmask)"
   ]
  },
  {
   "cell_type": "code",
   "execution_count": 16,
   "metadata": {},
   "outputs": [
    {
     "name": "stdout",
     "output_type": "stream",
     "text": [
      "[[  101. 10892.  1010. ...     0.     0.     0.]\n",
      " [  101.   999.  1012. ...     0.     0.     0.]\n",
      " [  101.  2054.  1037. ...     0.     0.     0.]\n",
      " ...\n",
      " [  101.  1996.  2069. ...     0.     0.     0.]\n",
      " [  101.  2026.  2217. ...     0.     0.     0.]\n",
      " [  101.  2174.  1010. ...     0.     0.     0.]]\n",
      "[[1. 1. 1. ... 0. 0. 0.]\n",
      " [1. 1. 1. ... 0. 0. 0.]\n",
      " [1. 1. 1. ... 0. 0. 0.]\n",
      " ...\n",
      " [1. 1. 1. ... 0. 0. 0.]\n",
      " [1. 1. 1. ... 0. 0. 0.]\n",
      " [1. 1. 1. ... 0. 0. 0.]]\n"
     ]
    }
   ],
   "source": [
    "print(testids)\n",
    "print(testmask)"
   ]
  },
  {
   "cell_type": "code",
   "execution_count": 17,
   "metadata": {},
   "outputs": [],
   "source": [
    "labels = all_data.is_positive_sentiment.values"
   ]
  },
  {
   "cell_type": "code",
   "execution_count": 18,
   "metadata": {},
   "outputs": [
    {
     "data": {
      "text/plain": [
       "[PhysicalDevice(name='/physical_device:GPU:0', device_type='GPU')]"
      ]
     },
     "execution_count": 18,
     "metadata": {},
     "output_type": "execute_result"
    }
   ],
   "source": [
    "import tensorflow as tf\n",
    "tf.config.experimental.list_physical_devices('GPU')"
   ]
  },
  {
   "cell_type": "code",
   "execution_count": 19,
   "metadata": {},
   "outputs": [],
   "source": [
    "dataset = tf.data.Dataset.from_tensor_slices((xids, xmask, labels))"
   ]
  },
  {
   "cell_type": "code",
   "execution_count": 20,
   "metadata": {},
   "outputs": [],
   "source": [
    "testdata = tf.data.Dataset.from_tensor_slices((testids,testmask))"
   ]
  },
  {
   "cell_type": "code",
   "execution_count": 21,
   "metadata": {},
   "outputs": [
    {
     "data": {
      "text/plain": [
       "<TensorSliceDataset element_spec=(TensorSpec(shape=(100,), dtype=tf.float64, name=None), TensorSpec(shape=(100,), dtype=tf.float64, name=None))>"
      ]
     },
     "execution_count": 21,
     "metadata": {},
     "output_type": "execute_result"
    }
   ],
   "source": [
    "testdata"
   ]
  },
  {
   "cell_type": "code",
   "execution_count": 22,
   "metadata": {},
   "outputs": [
    {
     "name": "stdout",
     "output_type": "stream",
     "text": [
      "(<tf.Tensor: shape=(100,), dtype=float64, numpy=\n",
      "array([ 101., 2821., 1998., 1045., 9471., 2000., 2036., 5254., 1996.,\n",
      "       6881., 3609., 3466., 2009., 2038., 2006., 2115., 3042., 1012.,\n",
      "        102.,    0.,    0.,    0.,    0.,    0.,    0.,    0.,    0.,\n",
      "          0.,    0.,    0.,    0.,    0.,    0.,    0.,    0.,    0.,\n",
      "          0.,    0.,    0.,    0.,    0.,    0.,    0.,    0.,    0.,\n",
      "          0.,    0.,    0.,    0.,    0.,    0.,    0.,    0.,    0.,\n",
      "          0.,    0.,    0.,    0.,    0.,    0.,    0.,    0.,    0.,\n",
      "          0.,    0.,    0.,    0.,    0.,    0.,    0.,    0.,    0.,\n",
      "          0.,    0.,    0.,    0.,    0.,    0.,    0.,    0.,    0.,\n",
      "          0.,    0.,    0.,    0.,    0.,    0.,    0.,    0.,    0.,\n",
      "          0.,    0.,    0.,    0.,    0.,    0.,    0.,    0.,    0.,\n",
      "          0.])>, <tf.Tensor: shape=(100,), dtype=float64, numpy=\n",
      "array([1., 1., 1., 1., 1., 1., 1., 1., 1., 1., 1., 1., 1., 1., 1., 1., 1.,\n",
      "       1., 1., 0., 0., 0., 0., 0., 0., 0., 0., 0., 0., 0., 0., 0., 0., 0.,\n",
      "       0., 0., 0., 0., 0., 0., 0., 0., 0., 0., 0., 0., 0., 0., 0., 0., 0.,\n",
      "       0., 0., 0., 0., 0., 0., 0., 0., 0., 0., 0., 0., 0., 0., 0., 0., 0.,\n",
      "       0., 0., 0., 0., 0., 0., 0., 0., 0., 0., 0., 0., 0., 0., 0., 0., 0.,\n",
      "       0., 0., 0., 0., 0., 0., 0., 0., 0., 0., 0., 0., 0., 0., 0.])>, <tf.Tensor: shape=(), dtype=int64, numpy=0>)\n"
     ]
    }
   ],
   "source": [
    "for i in dataset.take(1):\n",
    "    print(i)"
   ]
  },
  {
   "cell_type": "code",
   "execution_count": 23,
   "metadata": {},
   "outputs": [],
   "source": [
    "def map_func(input_ids, masks, labels):\n",
    "\n",
    "    return {'inputs_ids': input_ids, 'attention_mask': masks}, labels"
   ]
  },
  {
   "cell_type": "code",
   "execution_count": 24,
   "metadata": {},
   "outputs": [],
   "source": [
    "def new_map(input_ids, masks):\n",
    "    return {'inputs_ids': input_ids, 'attention_mask' : masks}"
   ]
  },
  {
   "cell_type": "code",
   "execution_count": 25,
   "metadata": {},
   "outputs": [],
   "source": [
    "testdata = testdata.map(new_map)"
   ]
  },
  {
   "cell_type": "code",
   "execution_count": 26,
   "metadata": {},
   "outputs": [],
   "source": [
    "dataset = dataset.map(map_func)"
   ]
  },
  {
   "cell_type": "code",
   "execution_count": 27,
   "metadata": {},
   "outputs": [
    {
     "data": {
      "text/plain": [
       "<MapDataset element_spec={'inputs_ids': TensorSpec(shape=(100,), dtype=tf.float64, name=None), 'attention_mask': TensorSpec(shape=(100,), dtype=tf.float64, name=None)}>"
      ]
     },
     "execution_count": 27,
     "metadata": {},
     "output_type": "execute_result"
    }
   ],
   "source": [
    "testdata"
   ]
  },
  {
   "cell_type": "code",
   "execution_count": 28,
   "metadata": {},
   "outputs": [
    {
     "name": "stdout",
     "output_type": "stream",
     "text": [
      "({'inputs_ids': <tf.Tensor: shape=(100,), dtype=float64, numpy=\n",
      "array([ 101., 2821., 1998., 1045., 9471., 2000., 2036., 5254., 1996.,\n",
      "       6881., 3609., 3466., 2009., 2038., 2006., 2115., 3042., 1012.,\n",
      "        102.,    0.,    0.,    0.,    0.,    0.,    0.,    0.,    0.,\n",
      "          0.,    0.,    0.,    0.,    0.,    0.,    0.,    0.,    0.,\n",
      "          0.,    0.,    0.,    0.,    0.,    0.,    0.,    0.,    0.,\n",
      "          0.,    0.,    0.,    0.,    0.,    0.,    0.,    0.,    0.,\n",
      "          0.,    0.,    0.,    0.,    0.,    0.,    0.,    0.,    0.,\n",
      "          0.,    0.,    0.,    0.,    0.,    0.,    0.,    0.,    0.,\n",
      "          0.,    0.,    0.,    0.,    0.,    0.,    0.,    0.,    0.,\n",
      "          0.,    0.,    0.,    0.,    0.,    0.,    0.,    0.,    0.,\n",
      "          0.,    0.,    0.,    0.,    0.,    0.,    0.,    0.,    0.,\n",
      "          0.])>, 'attention_mask': <tf.Tensor: shape=(100,), dtype=float64, numpy=\n",
      "array([1., 1., 1., 1., 1., 1., 1., 1., 1., 1., 1., 1., 1., 1., 1., 1., 1.,\n",
      "       1., 1., 0., 0., 0., 0., 0., 0., 0., 0., 0., 0., 0., 0., 0., 0., 0.,\n",
      "       0., 0., 0., 0., 0., 0., 0., 0., 0., 0., 0., 0., 0., 0., 0., 0., 0.,\n",
      "       0., 0., 0., 0., 0., 0., 0., 0., 0., 0., 0., 0., 0., 0., 0., 0., 0.,\n",
      "       0., 0., 0., 0., 0., 0., 0., 0., 0., 0., 0., 0., 0., 0., 0., 0., 0.,\n",
      "       0., 0., 0., 0., 0., 0., 0., 0., 0., 0., 0., 0., 0., 0., 0.])>}, <tf.Tensor: shape=(), dtype=int64, numpy=0>)\n"
     ]
    }
   ],
   "source": [
    "for i in dataset.take(1):\n",
    "    print(i)"
   ]
  },
  {
   "cell_type": "code",
   "execution_count": 29,
   "metadata": {},
   "outputs": [],
   "source": [
    "dataset = dataset.shuffle(100000).batch(32)"
   ]
  },
  {
   "cell_type": "code",
   "execution_count": 30,
   "metadata": {},
   "outputs": [],
   "source": [
    "testdata = testdata.batch(32)"
   ]
  },
  {
   "cell_type": "code",
   "execution_count": 31,
   "metadata": {},
   "outputs": [
    {
     "data": {
      "text/plain": [
       "<BatchDataset element_spec={'inputs_ids': TensorSpec(shape=(None, 100), dtype=tf.float64, name=None), 'attention_mask': TensorSpec(shape=(None, 100), dtype=tf.float64, name=None)}>"
      ]
     },
     "execution_count": 31,
     "metadata": {},
     "output_type": "execute_result"
    }
   ],
   "source": [
    "testdata"
   ]
  },
  {
   "cell_type": "code",
   "execution_count": 32,
   "metadata": {},
   "outputs": [],
   "source": [
    "DS_LEN = len(list(dataset))"
   ]
  },
  {
   "cell_type": "code",
   "execution_count": 33,
   "metadata": {},
   "outputs": [
    {
     "data": {
      "text/plain": [
       "75"
      ]
     },
     "execution_count": 33,
     "metadata": {},
     "output_type": "execute_result"
    }
   ],
   "source": [
    "DS_LEN"
   ]
  },
  {
   "cell_type": "code",
   "execution_count": 34,
   "metadata": {},
   "outputs": [],
   "source": [
    "SPLIT = .8\n",
    "\n",
    "train = dataset.take(round(DS_LEN*SPLIT))\n",
    "val = dataset.skip(round(DS_LEN*SPLIT))"
   ]
  },
  {
   "cell_type": "code",
   "execution_count": 35,
   "metadata": {},
   "outputs": [
    {
     "name": "stderr",
     "output_type": "stream",
     "text": [
      "Downloading: 100%|██████████| 1.47G/1.47G [01:31<00:00, 16.2MB/s]\n",
      "c:\\Users\\Joe\\miniconda3\\envs\\tf\\lib\\site-packages\\huggingface_hub\\file_download.py:127: UserWarning: `huggingface_hub` cache-system uses symlinks by default to efficiently store duplicated files but your machine does not support them in C:\\Users\\Joe\\.cache\\huggingface\\hub. Caching files will still work but in a degraded version that might require more space on your disk. This warning can be disabled by setting the `HF_HUB_DISABLE_SYMLINKS_WARNING` environment variable. For more details, see https://huggingface.co/docs/huggingface_hub/how-to-cache#limitations.\n",
      "To support symlinks on Windows, you either need to activate Developer Mode or to run Python as an administrator. In order to see activate developer mode, see this article: https://docs.microsoft.com/en-us/windows/apps/get-started/enable-your-device-for-development\n",
      "  warnings.warn(message)\n",
      "Some layers from the model checkpoint at bert-large-uncased were not used when initializing TFBertModel: ['nsp___cls', 'mlm___cls']\n",
      "- This IS expected if you are initializing TFBertModel from the checkpoint of a model trained on another task or with another architecture (e.g. initializing a BertForSequenceClassification model from a BertForPreTraining model).\n",
      "- This IS NOT expected if you are initializing TFBertModel from the checkpoint of a model that you expect to be exactly identical (initializing a BertForSequenceClassification model from a BertForSequenceClassification model).\n",
      "All the layers of TFBertModel were initialized from the model checkpoint at bert-large-uncased.\n",
      "If your task is similar to the task the model of the checkpoint was trained on, you can already use TFBertModel for predictions without further training.\n"
     ]
    }
   ],
   "source": [
    "model = TFAutoModel.from_pretrained(\"bert-large-uncased\")"
   ]
  },
  {
   "cell_type": "code",
   "execution_count": 36,
   "metadata": {},
   "outputs": [],
   "source": [
    "input_ids = tf.keras.layers.Input(shape=(100,), name='inputs_ids', dtype='int32')\n",
    "mask = tf.keras.layers.Input(shape=(100,), name='attention_mask', dtype='int32')\n",
    "\n",
    "embeddings = model(input_ids, attention_mask = mask)[0]\n",
    "\n",
    "#x = tf.keras.layers.Bidirectional(tf.keras.layers.GRU(128))(embeddings)\n",
    "x = tf.keras.layers.GlobalMaxPool1D()(embeddings)\n",
    "x = tf.keras.layers.BatchNormalization()(x)\n",
    "x = tf.keras.layers.Dense(128, activation='relu')(x)\n",
    "x = tf.keras.layers.Dropout(0.50)(x)\n",
    "x = tf.keras.layers.Dense(32, activation='relu')(x)\n",
    "y = tf.keras.layers.Dense(1, activation='sigmoid', name='outputs')(x)\n",
    "\n",
    "modelt = tf.keras.Model(inputs=[input_ids,mask], outputs = y)\n",
    "\n",
    "modelt.layers[2].trainable = False"
   ]
  },
  {
   "cell_type": "code",
   "execution_count": 37,
   "metadata": {},
   "outputs": [
    {
     "name": "stdout",
     "output_type": "stream",
     "text": [
      "Model: \"model\"\n",
      "__________________________________________________________________________________________________\n",
      " Layer (type)                   Output Shape         Param #     Connected to                     \n",
      "==================================================================================================\n",
      " inputs_ids (InputLayer)        [(None, 100)]        0           []                               \n",
      "                                                                                                  \n",
      " attention_mask (InputLayer)    [(None, 100)]        0           []                               \n",
      "                                                                                                  \n",
      " tf_bert_model (TFBertModel)    TFBaseModelOutputWi  335141888   ['inputs_ids[0][0]',             \n",
      "                                thPoolingAndCrossAt               'attention_mask[0][0]']         \n",
      "                                tentions(last_hidde                                               \n",
      "                                n_state=(None, 100,                                               \n",
      "                                 1024),                                                           \n",
      "                                 pooler_output=(Non                                               \n",
      "                                e, 1024),                                                         \n",
      "                                 past_key_values=No                                               \n",
      "                                ne, hidden_states=N                                               \n",
      "                                one, attentions=Non                                               \n",
      "                                e, cross_attentions                                               \n",
      "                                =None)                                                            \n",
      "                                                                                                  \n",
      " global_max_pooling1d (GlobalMa  (None, 1024)        0           ['tf_bert_model[0][0]']          \n",
      " xPooling1D)                                                                                      \n",
      "                                                                                                  \n",
      " batch_normalization (BatchNorm  (None, 1024)        4096        ['global_max_pooling1d[0][0]']   \n",
      " alization)                                                                                       \n",
      "                                                                                                  \n",
      " dense (Dense)                  (None, 128)          131200      ['batch_normalization[0][0]']    \n",
      "                                                                                                  \n",
      " dropout_73 (Dropout)           (None, 128)          0           ['dense[0][0]']                  \n",
      "                                                                                                  \n",
      " dense_1 (Dense)                (None, 32)           4128        ['dropout_73[0][0]']             \n",
      "                                                                                                  \n",
      " outputs (Dense)                (None, 1)            33          ['dense_1[0][0]']                \n",
      "                                                                                                  \n",
      "==================================================================================================\n",
      "Total params: 335,281,345\n",
      "Trainable params: 137,409\n",
      "Non-trainable params: 335,143,936\n",
      "__________________________________________________________________________________________________\n"
     ]
    }
   ],
   "source": [
    "modelt.summary()"
   ]
  },
  {
   "cell_type": "code",
   "execution_count": 38,
   "metadata": {},
   "outputs": [],
   "source": [
    "modelt.compile(\n",
    "    loss='binary_crossentropy', optimizer='adam', metrics=['accuracy']\n",
    ")"
   ]
  },
  {
   "cell_type": "code",
   "execution_count": 59,
   "metadata": {},
   "outputs": [
    {
     "name": "stdout",
     "output_type": "stream",
     "text": [
      "Epoch 1/5\n",
      "60/60 [==============================] - 115s 2s/step - loss: 0.1608 - accuracy: 0.9318 - val_loss: 0.0502 - val_accuracy: 0.9833\n",
      "Epoch 2/5\n",
      "60/60 [==============================] - 117s 2s/step - loss: 0.1720 - accuracy: 0.9302 - val_loss: 0.0456 - val_accuracy: 0.9854\n",
      "Epoch 3/5\n",
      "60/60 [==============================] - 115s 2s/step - loss: 0.1792 - accuracy: 0.9302 - val_loss: 0.0545 - val_accuracy: 0.9792\n",
      "Epoch 4/5\n",
      "60/60 [==============================] - 115s 2s/step - loss: 0.1828 - accuracy: 0.9323 - val_loss: 0.0510 - val_accuracy: 0.9812\n",
      "Epoch 5/5\n",
      "60/60 [==============================] - 115s 2s/step - loss: 0.1473 - accuracy: 0.9448 - val_loss: 0.0456 - val_accuracy: 0.9875\n"
     ]
    }
   ],
   "source": [
    "large_bert_20epochs = modelt.fit(train, validation_data=val, epochs=5)"
   ]
  },
  {
   "cell_type": "code",
   "execution_count": 60,
   "metadata": {},
   "outputs": [
    {
     "name": "stdout",
     "output_type": "stream",
     "text": [
      "19/19 [==============================] - 28s 1s/step\n"
     ]
    }
   ],
   "source": [
    "y_hat = modelt.predict(testdata)"
   ]
  },
  {
   "cell_type": "code",
   "execution_count": 61,
   "metadata": {},
   "outputs": [
    {
     "data": {
      "text/plain": [
       "array([303.76147], dtype=float32)"
      ]
     },
     "execution_count": 61,
     "metadata": {},
     "output_type": "execute_result"
    }
   ],
   "source": [
    "sum(y_hat)"
   ]
  },
  {
   "cell_type": "code",
   "execution_count": 64,
   "metadata": {},
   "outputs": [],
   "source": [
    "np.savetxt('yproba1_test.txt', y_hat)"
   ]
  },
  {
   "cell_type": "code",
   "execution_count": 47,
   "metadata": {},
   "outputs": [
    {
     "data": {
      "text/plain": [
       "{'loss': [0.5113472938537598,\n",
       "  0.3058689832687378,\n",
       "  0.30716678500175476,\n",
       "  0.2871303856372833,\n",
       "  0.25936999917030334],\n",
       " 'accuracy': [0.7541666626930237,\n",
       "  0.8828125,\n",
       "  0.8692708611488342,\n",
       "  0.8895833492279053,\n",
       "  0.8973958492279053],\n",
       " 'val_loss': [0.36610695719718933,\n",
       "  0.24979664385318756,\n",
       "  0.20176438987255096,\n",
       "  0.17870689928531647,\n",
       "  0.1389053612947464],\n",
       " 'val_accuracy': [0.8958333134651184,\n",
       "  0.9333333373069763,\n",
       "  0.9541666507720947,\n",
       "  0.9333333373069763,\n",
       "  0.9583333134651184]}"
      ]
     },
     "execution_count": 47,
     "metadata": {},
     "output_type": "execute_result"
    }
   ],
   "source": [
    "large_bert_5epochs.history"
   ]
  },
  {
   "cell_type": "code",
   "execution_count": 46,
   "metadata": {},
   "outputs": [
    {
     "data": {
      "text/plain": [
       "{'loss': [0.2557823359966278,\n",
       "  0.20119866728782654,\n",
       "  0.22503328323364258,\n",
       "  0.2106754034757614,\n",
       "  0.19390887022018433],\n",
       " 'accuracy': [0.8942708373069763,\n",
       "  0.9203125238418579,\n",
       "  0.9067708253860474,\n",
       "  0.9161458611488342,\n",
       "  0.9234374761581421],\n",
       " 'val_loss': [0.12419228255748749,\n",
       "  0.10641037672758102,\n",
       "  0.1110009253025055,\n",
       "  0.12103091180324554,\n",
       "  0.08944468945264816],\n",
       " 'val_accuracy': [0.9437500238418579,\n",
       "  0.9604166746139526,\n",
       "  0.9520833492279053,\n",
       "  0.956250011920929,\n",
       "  0.9729166626930237]}"
      ]
     },
     "execution_count": 46,
     "metadata": {},
     "output_type": "execute_result"
    }
   ],
   "source": [
    "large_bert_10epochs.history"
   ]
  },
  {
   "cell_type": "code",
   "execution_count": 53,
   "metadata": {},
   "outputs": [
    {
     "data": {
      "text/plain": [
       "{'loss': [0.1964070051908493,\n",
       "  0.1807035505771637,\n",
       "  0.1770988255739212,\n",
       "  0.16364528238773346,\n",
       "  0.16011841595172882],\n",
       " 'accuracy': [0.9213541746139526,\n",
       "  0.9255208373069763,\n",
       "  0.9203125238418579,\n",
       "  0.9270833134651184,\n",
       "  0.9338541626930237],\n",
       " 'val_loss': [0.1085747554898262,\n",
       "  0.07881902158260345,\n",
       "  0.05200693756341934,\n",
       "  0.05487578362226486,\n",
       "  0.05959884077310562],\n",
       " 'val_accuracy': [0.9520833492279053,\n",
       "  0.96875,\n",
       "  0.9895833134651184,\n",
       "  0.987500011920929,\n",
       "  0.9895833134651184]}"
      ]
     },
     "execution_count": 53,
     "metadata": {},
     "output_type": "execute_result"
    }
   ],
   "source": [
    "large_bert_15epochs.history"
   ]
  },
  {
   "cell_type": "code",
   "execution_count": 62,
   "metadata": {},
   "outputs": [
    {
     "data": {
      "text/plain": [
       "{'loss': [0.16082985699176788,\n",
       "  0.17200492322444916,\n",
       "  0.17917422950267792,\n",
       "  0.18283192813396454,\n",
       "  0.14733736217021942],\n",
       " 'accuracy': [0.9317708611488342,\n",
       "  0.9302083253860474,\n",
       "  0.9302083253860474,\n",
       "  0.9322916865348816,\n",
       "  0.9447916746139526],\n",
       " 'val_loss': [0.05016572028398514,\n",
       "  0.04556383565068245,\n",
       "  0.054529670625925064,\n",
       "  0.05100691318511963,\n",
       "  0.04560530185699463],\n",
       " 'val_accuracy': [0.9833333492279053,\n",
       "  0.9854166507720947,\n",
       "  0.9791666865348816,\n",
       "  0.981249988079071,\n",
       "  0.987500011920929]}"
      ]
     },
     "execution_count": 62,
     "metadata": {},
     "output_type": "execute_result"
    }
   ],
   "source": [
    "\n",
    "large_bert_20epochs.history"
   ]
  },
  {
   "cell_type": "code",
   "execution_count": 65,
   "metadata": {},
   "outputs": [],
   "source": [
    "import pickle"
   ]
  },
  {
   "cell_type": "code",
   "execution_count": 63,
   "metadata": {},
   "outputs": [],
   "source": [
    "with open('large_bert_20epochs.pkl','wb') as f:\n",
    "    pickle.dump(large_bert_20epochs.history,f)"
   ]
  },
  {
   "cell_type": "code",
   "execution_count": 70,
   "metadata": {},
   "outputs": [],
   "source": [
    "with open('large_bert_5epochs.pkl','rb') as f:\n",
    "    large_bert_5epochs = pickle.load(f)"
   ]
  },
  {
   "cell_type": "code",
   "execution_count": 72,
   "metadata": {},
   "outputs": [],
   "source": [
    "lb5_train = large_bert_5epochs.get('accuracy')\n",
    "lb10_train = large_bert_10epochs.get('accuracy')\n",
    "lb15_train = large_bert_15epochs.get('accuracy')\n",
    "lb20_train = large_bert_20epochs.get('accuracy')\n",
    "\n",
    "lb5_val = large_bert_5epochs.get('val_accuracy')\n",
    "lb10_val = large_bert_10epochs.get('val_accuracy')\n",
    "lb15_val = large_bert_15epochs.get('val_accuracy')\n",
    "lb20_val = large_bert_20epochs.get('val_accuracy')\n",
    "\n"
   ]
  },
  {
   "cell_type": "code",
   "execution_count": 77,
   "metadata": {},
   "outputs": [],
   "source": [
    "lb_val = lb5_val + lb10_val + lb15_val + lb20_val\n",
    "lb_train = lb5_train + lb10_train + lb15_train + lb20_train"
   ]
  },
  {
   "cell_type": "code",
   "execution_count": 78,
   "metadata": {},
   "outputs": [],
   "source": [
    "lb_val = np.array(lb_val)\n",
    "lb_train = np.array(lb_train)"
   ]
  },
  {
   "cell_type": "code",
   "execution_count": 79,
   "metadata": {},
   "outputs": [],
   "source": [
    "epochs = np.arange(1,21)"
   ]
  },
  {
   "cell_type": "code",
   "execution_count": 80,
   "metadata": {},
   "outputs": [],
   "source": [
    "import matplotlib.pyplot as plt\n",
    "import seaborn as sns"
   ]
  },
  {
   "cell_type": "code",
   "execution_count": 85,
   "metadata": {},
   "outputs": [
    {
     "data": {
      "image/png": "[encoded data removed]",
      "text/plain": [
       "<Figure size 640x480 with 1 Axes>"
      ]
     },
     "metadata": {},
     "output_type": "display_data"
    }
   ],
   "source": [
    "sns.lineplot(x=epochs, y = lb_train, errorbar=None)\n",
    "sns.lineplot(x=epochs, y = lb_val, errorbar=None)\n",
    "plt.xlabel('Epochs')\n",
    "plt.ylabel('Accuracy')\n",
    "plt.title('BERT Large Training and Validation Accuracy Through Epochs')\n",
    "plt.legend(labels=['Training Accuracy','Validation Accuracy'])\n",
    "plt.show;"
   ]
  },
  {
   "cell_type": "code",
   "execution_count": null,
   "metadata": {},
   "outputs": [],
   "source": []
  },
  {
   "cell_type": "code",
   "execution_count": 94,
   "metadata": {},
   "outputs": [],
   "source": [
    "'''with open('history_dr1.pkl','wb') as f:\n",
    "    pickle.dump(history_dr1.history,f)'''"
   ]
  },
  {
   "cell_type": "code",
   "execution_count": 95,
   "metadata": {},
   "outputs": [],
   "source": [
    "with open('history_dr1.pkl','rb') as f:\n",
    "    history_dr1 = pickle.load(f)"
   ]
  },
  {
   "cell_type": "code",
   "execution_count": 104,
   "metadata": {},
   "outputs": [],
   "source": [
    "'''with open('history_dr25.pkl','wb') as f:\n",
    "    pickle.dump(history_dr25.history,f)'''"
   ]
  },
  {
   "cell_type": "code",
   "execution_count": 105,
   "metadata": {},
   "outputs": [],
   "source": [
    "with open('history_dr25.pkl','rb') as f:\n",
    "    history_dr25 = pickle.load(f)"
   ]
  },
  {
   "cell_type": "code",
   "execution_count": 115,
   "metadata": {},
   "outputs": [],
   "source": [
    "'''with open('history_dr50.pkl','wb') as f:\n",
    "    pickle.dump(history_dr50.history,f)'''"
   ]
  },
  {
   "cell_type": "code",
   "execution_count": 116,
   "metadata": {},
   "outputs": [],
   "source": [
    "with open('history_dr50.pkl','rb') as f:\n",
    "    history_dr50 = pickle.load(f)"
   ]
  },
  {
   "cell_type": "code",
   "execution_count": 117,
   "metadata": {},
   "outputs": [],
   "source": [
    "#analyze results"
   ]
  },
  {
   "cell_type": "code",
   "execution_count": 121,
   "metadata": {},
   "outputs": [
    {
     "data": {
      "text/plain": [
       "[0.8687499761581421,\n",
       " 0.8812500238418579,\n",
       " 0.8729166388511658,\n",
       " 0.9354166388511658,\n",
       " 0.9437500238418579,\n",
       " 0.9541666507720947,\n",
       " 0.9666666388511658,\n",
       " 0.9666666388511658,\n",
       " 0.9854166507720947,\n",
       " 0.9833333492279053,\n",
       " 0.9791666865348816,\n",
       " 0.9895833134651184,\n",
       " 0.9958333373069763,\n",
       " 0.9937499761581421,\n",
       " 0.9854166507720947]"
      ]
     },
     "execution_count": 121,
     "metadata": {},
     "output_type": "execute_result"
    }
   ],
   "source": [
    "history_dr1.get('val_accuracy')"
   ]
  },
  {
   "cell_type": "code",
   "execution_count": 122,
   "metadata": {},
   "outputs": [
    {
     "data": {
      "text/plain": [
       "[0.7666666507720947,\n",
       " 0.9083333611488342,\n",
       " 0.9229166507720947,\n",
       " 0.9291666746139526,\n",
       " 0.956250011920929,\n",
       " 0.9395833611488342,\n",
       " 0.9375,\n",
       " 0.9666666388511658,\n",
       " 0.9624999761581421,\n",
       " 0.9750000238418579,\n",
       " 0.981249988079071,\n",
       " 0.981249988079071,\n",
       " 0.981249988079071,\n",
       " 0.9916666746139526,\n",
       " 0.9937499761581421]"
      ]
     },
     "execution_count": 122,
     "metadata": {},
     "output_type": "execute_result"
    }
   ],
   "source": [
    "history_dr25.get('val_accuracy')"
   ]
  },
  {
   "cell_type": "code",
   "execution_count": 123,
   "metadata": {},
   "outputs": [
    {
     "data": {
      "text/plain": [
       "[0.887499988079071,\n",
       " 0.8812500238418579,\n",
       " 0.8958333134651184,\n",
       " 0.893750011920929,\n",
       " 0.9229166507720947,\n",
       " 0.9208333492279053,\n",
       " 0.9312499761581421,\n",
       " 0.9520833492279053,\n",
       " 0.96875,\n",
       " 0.949999988079071,\n",
       " 0.956250011920929,\n",
       " 0.9583333134651184,\n",
       " 0.9583333134651184,\n",
       " 0.9583333134651184,\n",
       " 0.9708333611488342]"
      ]
     },
     "execution_count": 123,
     "metadata": {},
     "output_type": "execute_result"
    }
   ],
   "source": [
    "history_dr50.get('val_accuracy')"
   ]
  },
  {
   "cell_type": "code",
   "execution_count": null,
   "metadata": {},
   "outputs": [],
   "source": []
  }
 ],
 "metadata": {
  "kernelspec": {
   "display_name": "Python 3.9.0 ('tf')",
   "language": "python",
   "name": "python3"
  },
  "language_info": {
   "codemirror_mode": {
    "name": "ipython",
    "version": 3
   },
   "file_extension": ".py",
   "mimetype": "text/x-python",
   "name": "python",
   "nbconvert_exporter": "python",
   "pygments_lexer": "ipython3",
   "version": "3.9.0"
  },
  "orig_nbformat": 4,
  "vscode": {
   "interpreter": {
    "hash": "2af03d7e22c24bf2e6d190a35b261c407267ffc2225e910495761a73f1323185"
   }
  }
 },
 "nbformat": 4,
 "nbformat_minor": 2
}
