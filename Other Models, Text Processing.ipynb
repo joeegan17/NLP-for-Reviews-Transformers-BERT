{
 "cells": [
  {
   "cell_type": "code",
   "execution_count": 1,
   "metadata": {},
   "outputs": [],
   "source": [
    "#THINGS TO ADD:\n",
    "\n",
    "#charts and graphs\n"
   ]
  },
  {
   "cell_type": "code",
   "execution_count": 1,
   "metadata": {},
   "outputs": [],
   "source": [
    "import numpy as np\n",
    "import pandas as pd\n",
    "import matplotlib.pyplot as plt\n",
    "import seaborn as sns\n",
    "import os"
   ]
  },
  {
   "cell_type": "code",
   "execution_count": 2,
   "metadata": {},
   "outputs": [],
   "source": [
    "from textblob import TextBlob\n",
    "import tensorflow as tf\n",
    "from tensorflow import keras\n",
    "import nltk\n",
    "import string\n",
    "import scipy\n",
    "from nltk.stem import WordNetLemmatizer"
   ]
  },
  {
   "cell_type": "code",
   "execution_count": 3,
   "metadata": {},
   "outputs": [],
   "source": [
    "from keras.preprocessing.text import Tokenizer\n",
    "from keras.utils import pad_sequences"
   ]
  },
  {
   "cell_type": "code",
   "execution_count": 4,
   "metadata": {},
   "outputs": [],
   "source": [
    "from nltk import WordPunctTokenizer"
   ]
  },
  {
   "cell_type": "code",
   "execution_count": 246,
   "metadata": {},
   "outputs": [],
   "source": [
    "x_train_df = pd.read_csv('data/data_reviews/x_train.csv')\n",
    "y_train_df = pd.read_csv('data/data_reviews/y_train.csv')\n",
    "\n",
    "tr_text_list = x_train_df['text'].values.tolist()"
   ]
  },
  {
   "cell_type": "code",
   "execution_count": 78,
   "metadata": {},
   "outputs": [],
   "source": [
    "x_test_df = pd.read_csv('data/data_reviews/x_test.csv')\n",
    "\n",
    "test_text_list = x_test_df['text'].values.tolist()"
   ]
  },
  {
   "cell_type": "code",
   "execution_count": 79,
   "metadata": {},
   "outputs": [],
   "source": [
    "train_df = pd.merge(x_train_df, y_train_df, left_index=True, right_index=True)"
   ]
  },
  {
   "cell_type": "code",
   "execution_count": 80,
   "metadata": {},
   "outputs": [],
   "source": [
    "train_chart_one = pd.DataFrame(train_df[['website_name','is_positive_sentiment']].value_counts())"
   ]
  },
  {
   "cell_type": "code",
   "execution_count": 81,
   "metadata": {},
   "outputs": [
    {
     "data": {
      "text/html": [
       "<div>\n",
       "<style scoped>\n",
       "    .dataframe tbody tr th:only-of-type {\n",
       "        vertical-align: middle;\n",
       "    }\n",
       "\n",
       "    .dataframe tbody tr th {\n",
       "        vertical-align: top;\n",
       "    }\n",
       "\n",
       "    .dataframe thead th {\n",
       "        text-align: right;\n",
       "    }\n",
       "</style>\n",
       "<table border=\"1\" class=\"dataframe\">\n",
       "  <thead>\n",
       "    <tr style=\"text-align: right;\">\n",
       "      <th></th>\n",
       "      <th></th>\n",
       "      <th>0</th>\n",
       "    </tr>\n",
       "    <tr>\n",
       "      <th>website_name</th>\n",
       "      <th>is_positive_sentiment</th>\n",
       "      <th></th>\n",
       "    </tr>\n",
       "  </thead>\n",
       "  <tbody>\n",
       "    <tr>\n",
       "      <th rowspan=\"2\" valign=\"top\">amazon</th>\n",
       "      <th>0</th>\n",
       "      <td>400</td>\n",
       "    </tr>\n",
       "    <tr>\n",
       "      <th>1</th>\n",
       "      <td>400</td>\n",
       "    </tr>\n",
       "    <tr>\n",
       "      <th rowspan=\"2\" valign=\"top\">imdb</th>\n",
       "      <th>0</th>\n",
       "      <td>400</td>\n",
       "    </tr>\n",
       "    <tr>\n",
       "      <th>1</th>\n",
       "      <td>400</td>\n",
       "    </tr>\n",
       "    <tr>\n",
       "      <th rowspan=\"2\" valign=\"top\">yelp</th>\n",
       "      <th>0</th>\n",
       "      <td>400</td>\n",
       "    </tr>\n",
       "    <tr>\n",
       "      <th>1</th>\n",
       "      <td>400</td>\n",
       "    </tr>\n",
       "  </tbody>\n",
       "</table>\n",
       "</div>"
      ],
      "text/plain": [
       "                                      0\n",
       "website_name is_positive_sentiment     \n",
       "amazon       0                      400\n",
       "             1                      400\n",
       "imdb         0                      400\n",
       "             1                      400\n",
       "yelp         0                      400\n",
       "             1                      400"
      ]
     },
     "execution_count": 81,
     "metadata": {},
     "output_type": "execute_result"
    }
   ],
   "source": [
    "train_chart_one"
   ]
  },
  {
   "cell_type": "code",
   "execution_count": 82,
   "metadata": {},
   "outputs": [],
   "source": [
    "test_chart_one = pd.DataFrame(x_test_df['website_name'].value_counts())\n"
   ]
  },
  {
   "cell_type": "code",
   "execution_count": 83,
   "metadata": {},
   "outputs": [
    {
     "name": "stdout",
     "output_type": "stream",
     "text": [
      "        website_name\n",
      "imdb             200\n",
      "yelp             200\n",
      "amazon           200\n"
     ]
    }
   ],
   "source": [
    "print(test_chart_one)"
   ]
  },
  {
   "cell_type": "code",
   "execution_count": 84,
   "metadata": {},
   "outputs": [],
   "source": [
    "from sklearn.preprocessing import OneHotEncoder"
   ]
  },
  {
   "cell_type": "code",
   "execution_count": 85,
   "metadata": {},
   "outputs": [],
   "source": [
    "onehot = OneHotEncoder(sparse=False)\n"
   ]
  },
  {
   "cell_type": "code",
   "execution_count": 86,
   "metadata": {},
   "outputs": [],
   "source": [
    "train_sites = np.array(x_train_df.website_name)\n",
    "test_sites = np.array(x_test_df.website_name)"
   ]
  },
  {
   "cell_type": "code",
   "execution_count": 87,
   "metadata": {},
   "outputs": [],
   "source": [
    "train_onehot_encoded = onehot.fit_transform(train_sites.reshape(-1,1))\n",
    "test_onehot_encoded = onehot.transform(test_sites.reshape(-1,1))\n"
   ]
  },
  {
   "cell_type": "code",
   "execution_count": 88,
   "metadata": {},
   "outputs": [],
   "source": [
    "train_text_lengths = np.zeros(len(x_train_df))\n",
    "test_text_lengths = np.zeros(len(x_test_df))"
   ]
  },
  {
   "cell_type": "code",
   "execution_count": 89,
   "metadata": {},
   "outputs": [],
   "source": [
    "for i in range(len(train_text_lengths)):\n",
    "    train_text_lengths[i] = len(x_train_df.text[i])\n",
    "\n",
    "for i in range(len(test_text_lengths)):\n",
    "    test_text_lengths[i] = len(x_test_df.text[i])\n"
   ]
  },
  {
   "cell_type": "code",
   "execution_count": 90,
   "metadata": {},
   "outputs": [],
   "source": [
    "#min max scale the lengths\n",
    "\n",
    "for i in range(len(train_text_lengths)):\n",
    "    train_text_lengths[i] = (train_text_lengths[i] - min(train_text_lengths))/(max(train_text_lengths)-min(train_text_lengths))\n",
    "\n",
    "\n",
    "for i in range(len(test_text_lengths)):\n",
    "    test_text_lengths[i] = (test_text_lengths[i] - min(train_text_lengths))/(max(train_text_lengths)-min(train_text_lengths))\n",
    "\n"
   ]
  },
  {
   "cell_type": "code",
   "execution_count": 91,
   "metadata": {},
   "outputs": [],
   "source": [
    "train_meta_data = np.hstack((train_onehot_encoded,train_text_lengths.reshape(-1,1)))\n",
    "test_meta_data = np.hstack((test_onehot_encoded,test_text_lengths.reshape(-1,1)))\n"
   ]
  },
  {
   "cell_type": "code",
   "execution_count": 92,
   "metadata": {},
   "outputs": [
    {
     "name": "stdout",
     "output_type": "stream",
     "text": [
      "[[1.         0.         0.         0.20972644]\n",
      " [1.         0.         0.         0.08276081]\n",
      " [1.         0.         0.         0.05333825]\n",
      " ...\n",
      " [0.         0.         1.         0.20391303]\n",
      " [0.         0.         1.         1.        ]\n",
      " [0.         0.         1.         1.        ]]\n"
     ]
    }
   ],
   "source": [
    "print(train_meta_data)"
   ]
  },
  {
   "cell_type": "code",
   "execution_count": 93,
   "metadata": {},
   "outputs": [],
   "source": [
    "stopword_list = nltk.corpus.stopwords.words('english') #removes words like 'the', 'a','is'"
   ]
  },
  {
   "cell_type": "code",
   "execution_count": 94,
   "metadata": {},
   "outputs": [
    {
     "data": {
      "text/plain": [
       "['i',\n",
       " 'me',\n",
       " 'my',\n",
       " 'myself',\n",
       " 'we',\n",
       " 'our',\n",
       " 'ours',\n",
       " 'ourselves',\n",
       " 'you',\n",
       " \"you're\",\n",
       " \"you've\",\n",
       " \"you'll\",\n",
       " \"you'd\",\n",
       " 'your',\n",
       " 'yours',\n",
       " 'yourself',\n",
       " 'yourselves',\n",
       " 'he',\n",
       " 'him',\n",
       " 'his',\n",
       " 'himself',\n",
       " 'she',\n",
       " \"she's\",\n",
       " 'her',\n",
       " 'hers',\n",
       " 'herself',\n",
       " 'it',\n",
       " \"it's\",\n",
       " 'its',\n",
       " 'itself',\n",
       " 'they',\n",
       " 'them',\n",
       " 'their',\n",
       " 'theirs',\n",
       " 'themselves',\n",
       " 'what',\n",
       " 'which',\n",
       " 'who',\n",
       " 'whom',\n",
       " 'this',\n",
       " 'that',\n",
       " \"that'll\",\n",
       " 'these',\n",
       " 'those',\n",
       " 'am',\n",
       " 'is',\n",
       " 'are',\n",
       " 'was',\n",
       " 'were',\n",
       " 'be',\n",
       " 'been',\n",
       " 'being',\n",
       " 'have',\n",
       " 'has',\n",
       " 'had',\n",
       " 'having',\n",
       " 'do',\n",
       " 'does',\n",
       " 'did',\n",
       " 'doing',\n",
       " 'a',\n",
       " 'an',\n",
       " 'the',\n",
       " 'and',\n",
       " 'but',\n",
       " 'if',\n",
       " 'or',\n",
       " 'because',\n",
       " 'as',\n",
       " 'until',\n",
       " 'while',\n",
       " 'of',\n",
       " 'at',\n",
       " 'by',\n",
       " 'for',\n",
       " 'with',\n",
       " 'about',\n",
       " 'against',\n",
       " 'between',\n",
       " 'into',\n",
       " 'through',\n",
       " 'during',\n",
       " 'before',\n",
       " 'after',\n",
       " 'above',\n",
       " 'below',\n",
       " 'to',\n",
       " 'from',\n",
       " 'up',\n",
       " 'down',\n",
       " 'in',\n",
       " 'out',\n",
       " 'on',\n",
       " 'off',\n",
       " 'over',\n",
       " 'under',\n",
       " 'again',\n",
       " 'further',\n",
       " 'then',\n",
       " 'once',\n",
       " 'here',\n",
       " 'there',\n",
       " 'when',\n",
       " 'where',\n",
       " 'why',\n",
       " 'how',\n",
       " 'all',\n",
       " 'any',\n",
       " 'both',\n",
       " 'each',\n",
       " 'few',\n",
       " 'more',\n",
       " 'most',\n",
       " 'other',\n",
       " 'some',\n",
       " 'such',\n",
       " 'no',\n",
       " 'nor',\n",
       " 'not',\n",
       " 'only',\n",
       " 'own',\n",
       " 'same',\n",
       " 'so',\n",
       " 'than',\n",
       " 'too',\n",
       " 'very',\n",
       " 's',\n",
       " 't',\n",
       " 'can',\n",
       " 'will',\n",
       " 'just',\n",
       " 'don',\n",
       " \"don't\",\n",
       " 'should',\n",
       " \"should've\",\n",
       " 'now',\n",
       " 'd',\n",
       " 'll',\n",
       " 'm',\n",
       " 'o',\n",
       " 're',\n",
       " 've',\n",
       " 'y',\n",
       " 'ain',\n",
       " 'aren',\n",
       " \"aren't\",\n",
       " 'couldn',\n",
       " \"couldn't\",\n",
       " 'didn',\n",
       " \"didn't\",\n",
       " 'doesn',\n",
       " \"doesn't\",\n",
       " 'hadn',\n",
       " \"hadn't\",\n",
       " 'hasn',\n",
       " \"hasn't\",\n",
       " 'haven',\n",
       " \"haven't\",\n",
       " 'isn',\n",
       " \"isn't\",\n",
       " 'ma',\n",
       " 'mightn',\n",
       " \"mightn't\",\n",
       " 'mustn',\n",
       " \"mustn't\",\n",
       " 'needn',\n",
       " \"needn't\",\n",
       " 'shan',\n",
       " \"shan't\",\n",
       " 'shouldn',\n",
       " \"shouldn't\",\n",
       " 'wasn',\n",
       " \"wasn't\",\n",
       " 'weren',\n",
       " \"weren't\",\n",
       " 'won',\n",
       " \"won't\",\n",
       " 'wouldn',\n",
       " \"wouldn't\"]"
      ]
     },
     "execution_count": 94,
     "metadata": {},
     "output_type": "execute_result"
    }
   ],
   "source": [
    "stopword_list"
   ]
  },
  {
   "cell_type": "code",
   "execution_count": 95,
   "metadata": {},
   "outputs": [],
   "source": [
    "def convert_to_arr(y_df):\n",
    "    y_ar = np.array(y_df)\n",
    "    y_train_ar = np.zeros(len(y_ar))\n",
    "    for i in range(len(y_ar)):\n",
    "        y_train_ar[i] = y_ar[i][0]\n",
    "    return y_train_ar"
   ]
  },
  {
   "cell_type": "code",
   "execution_count": 96,
   "metadata": {},
   "outputs": [],
   "source": [
    "y_train = convert_to_arr(y_train_df)\n"
   ]
  },
  {
   "cell_type": "code",
   "execution_count": 24,
   "metadata": {},
   "outputs": [],
   "source": [
    "#removes punctuation and makes lowercase\n",
    "#fixes spelling errors\n",
    "\n",
    "def blob(sent):\n",
    "    sent = sent.translate(str.maketrans('','',string.punctuation)).lower() #make lower case and remove punctuation\n",
    "    sent = sent.translate(str.maketrans('', '', string.digits)) # remove numbers\n",
    "    blb = TextBlob(sent)\n",
    "    sent = blb.correct().string\n",
    "    return sent"
   ]
  },
  {
   "cell_type": "code",
   "execution_count": 25,
   "metadata": {},
   "outputs": [],
   "source": [
    "lemmatizer = WordNetLemmatizer()\n",
    "#attempts to modify words to base word\n",
    "def lemma(sent):\n",
    "    sent_list = sent.split()\n",
    "    new_sent = ''\n",
    "    for i in sent_list:\n",
    "        new = lemmatizer.lemmatize(i)\n",
    "        new_sent = new_sent + new + ' '\n",
    "    new_sent = new_sent.strip()\n",
    "    return new_sent\n"
   ]
  },
  {
   "cell_type": "code",
   "execution_count": 26,
   "metadata": {},
   "outputs": [
    {
     "data": {
      "text/plain": [
       "0.5"
      ]
     },
     "execution_count": 26,
     "metadata": {},
     "output_type": "execute_result"
    }
   ],
   "source": [
    "len(y_train_df[y_train_df.is_positive_sentiment == 1])/len(y_train_df) #equal amounts of positive and negative reviews"
   ]
  },
  {
   "cell_type": "code",
   "execution_count": 27,
   "metadata": {},
   "outputs": [],
   "source": [
    "retain_words = ['not', 'nor','no','don',\"don't\",'very','aren',\n",
    " \"aren't\",\n",
    " 'couldn',\n",
    " \"couldn't\",\n",
    " 'didn',\n",
    " \"didn't\",\n",
    " 'doesn',\n",
    " \"doesn't\",\n",
    " 'hadn',\n",
    " \"hadn't\",\n",
    " 'hasn',\n",
    " \"hasn't\",\n",
    " 'haven',\n",
    " \"haven't\",\n",
    " 'isn',\n",
    " \"isn't\",\n",
    " 'mightn',\n",
    " \"mightn't\",\n",
    " 'mustn',\n",
    " \"mustn't\",\n",
    " 'needn',\n",
    " \"needn't\",\n",
    " 'shan',\n",
    " \"shan't\",\n",
    " 'shouldn',\n",
    " \"shouldn't\",\n",
    " 'wasn',\n",
    " \"wasn't\",\n",
    " 'weren',\n",
    " \"weren't\",\n",
    " 'won',\n",
    " \"won't\",\n",
    " 'wouldn',\n",
    " \"wouldn't\"]"
   ]
  },
  {
   "cell_type": "code",
   "execution_count": 28,
   "metadata": {},
   "outputs": [],
   "source": [
    "for x in stopword_list:\n",
    "    if x in retain_words:\n",
    "        stopword_list.remove(x)"
   ]
  },
  {
   "cell_type": "code",
   "execution_count": 29,
   "metadata": {},
   "outputs": [
    {
     "name": "stdout",
     "output_type": "stream",
     "text": [
      "['i', 'me', 'my', 'myself', 'we', 'our', 'ours', 'ourselves', 'you', \"you're\", \"you've\", \"you'll\", \"you'd\", 'your', 'yours', 'yourself', 'yourselves', 'he', 'him', 'his', 'himself', 'she', \"she's\", 'her', 'hers', 'herself', 'it', \"it's\", 'its', 'itself', 'they', 'them', 'their', 'theirs', 'themselves', 'what', 'which', 'who', 'whom', 'this', 'that', \"that'll\", 'these', 'those', 'am', 'is', 'are', 'was', 'were', 'be', 'been', 'being', 'have', 'has', 'had', 'having', 'do', 'does', 'did', 'doing', 'a', 'an', 'the', 'and', 'but', 'if', 'or', 'because', 'as', 'until', 'while', 'of', 'at', 'by', 'for', 'with', 'about', 'against', 'between', 'into', 'through', 'during', 'before', 'after', 'above', 'below', 'to', 'from', 'up', 'down', 'in', 'out', 'on', 'off', 'over', 'under', 'again', 'further', 'then', 'once', 'here', 'there', 'when', 'where', 'why', 'how', 'all', 'any', 'both', 'each', 'few', 'more', 'most', 'other', 'some', 'such', 'nor', 'only', 'own', 'same', 'so', 'than', 'too', 's', 't', 'can', 'will', 'just', \"don't\", 'should', \"should've\", 'now', 'd', 'll', 'm', 'o', 're', 've', 'y', 'ain', \"aren't\", \"couldn't\", \"didn't\", \"hadn't\", \"hasn't\", \"haven't\", 'ma', \"mightn't\", \"mustn't\", \"needn't\", \"shan't\", \"shouldn't\", \"wasn't\", \"weren't\", \"wouldn't\"]\n"
     ]
    }
   ],
   "source": [
    "stopword_list.remove(\"doesn't\")\n",
    "stopword_list.remove(\"isn't\")\n",
    "stopword_list.remove(\"won't\")\n",
    "print(stopword_list)"
   ]
  },
  {
   "cell_type": "code",
   "execution_count": 60,
   "metadata": {},
   "outputs": [],
   "source": [
    "'''def remove_stops(sent):\n",
    "    text = sent.copy()\n",
    "    for i in range(len(text)):\n",
    "        toks = text[i].split()\n",
    "        toks = [tok.strip() for tok in toks]\n",
    "        filt_toks = [tok for tok in toks if tok not in stopword_list]\n",
    "        text[i] = ' '.join(filt_toks)\n",
    "    return text\n",
    "\n",
    "x_tr_short = remove_stops(tr_text_list)\n",
    "x_test_short = remove_stops(test_text_list)\n",
    "import re\n",
    "\n",
    "def remove_special_characters(text, remove_digits=True):\n",
    "    pattern=r'[^a-zA-z0-9\\s]'\n",
    "    text=re.sub(pattern,'',text)\n",
    "    return text\n",
    "\n",
    "\n",
    "x_tr_short = pd.DataFrame(x_tr_short, columns=['text'])\n",
    "x_test_short = pd.DataFrame(x_test_short, columns =['text'])\n",
    "x_tr_short=x_tr_short['text'].apply(remove_special_characters)\n",
    "x_test_short=x_test_short['text'].apply(remove_special_characters)\n",
    "x_tr_norm = x_tr_short.apply(blob)\n",
    "x_test_norm = x_test_short.apply(blob)\n",
    "x_tr_norm_list = []\n",
    "x_test_norm_list = []\n",
    "\n",
    "for item in x_tr_norm:\n",
    "    x_tr_norm_list.append(item)\n",
    "\n",
    "for item in x_test_norm:\n",
    "    x_test_norm_list.append(item)\n",
    "'''\n"
   ]
  },
  {
   "cell_type": "code",
   "execution_count": 83,
   "metadata": {},
   "outputs": [],
   "source": [
    "'''with open('x_tr_norm_list.txt','w', encoding='utf-8') as filehandle:\n",
    "    for listitem in x_tr_norm_list:\n",
    "        filehandle.write(f'{listitem}\\n')'''"
   ]
  },
  {
   "cell_type": "code",
   "execution_count": 84,
   "metadata": {},
   "outputs": [],
   "source": [
    "'''with open('x_test_norm_list.txt','w', encoding='utf-8') as filehandle:\n",
    "    for listitem in x_test_norm_list:\n",
    "        filehandle.write(f'{listitem}\\n')'''"
   ]
  },
  {
   "cell_type": "code",
   "execution_count": 52,
   "metadata": {},
   "outputs": [],
   "source": [
    "with open(\"C:\\\\Users\\\\Joe\\\\Desktop\\\\Tufts Fall 2022\\\\CS 135\\\\project02\\\\x_tr_norm_list.txt\", 'r') as filehandle:\n",
    "    x_tr_norm_list=[current_place.rstrip() for current_place in filehandle.readlines()]"
   ]
  },
  {
   "cell_type": "code",
   "execution_count": 53,
   "metadata": {},
   "outputs": [],
   "source": [
    "with open(\"C:\\\\Users\\\\Joe\\\\Desktop\\\\Tufts Fall 2022\\\\CS 135\\\\project02\\\\x_test_norm_list.txt\", 'r') as filehandle:\n",
    "    x_test_norm_list=[current_place.rstrip() for current_place in filehandle.readlines()]"
   ]
  },
  {
   "cell_type": "code",
   "execution_count": 54,
   "metadata": {},
   "outputs": [
    {
     "data": {
      "text/plain": [
       "['technically film well made impressive camerawork solid acting effective music rid ortolani  particularly good recurring unaccompanied female vocal sounds like coming distant hill',\n",
       " 'the owners really really need quit soooooo cheap let wrap breaking sandwich two papers not one',\n",
       " 'disappointment',\n",
       " 'the movie terribly boring places',\n",
       " 'one best mexican moves ever one less understood even mexican themselves no matter identified felt it']"
      ]
     },
     "execution_count": 54,
     "metadata": {},
     "output_type": "execute_result"
    }
   ],
   "source": [
    "x_test_norm_list[0:5]"
   ]
  },
  {
   "cell_type": "code",
   "execution_count": 55,
   "metadata": {},
   "outputs": [],
   "source": [
    "from sklearn.model_selection import train_test_split\n",
    "from sklearn.feature_extraction.text import TfidfVectorizer"
   ]
  },
  {
   "cell_type": "code",
   "execution_count": 247,
   "metadata": {},
   "outputs": [
    {
     "data": {
      "text/plain": [
       "0.07317073170731707"
      ]
     },
     "execution_count": 247,
     "metadata": {},
     "output_type": "execute_result"
    }
   ],
   "source": [
    "300/4100"
   ]
  },
  {
   "cell_type": "code",
   "execution_count": 316,
   "metadata": {},
   "outputs": [],
   "source": [
    "tv = TfidfVectorizer()\n",
    "#tv = TfidfVectorizer(max_df=.30, max_features=1200)"
   ]
  },
  {
   "cell_type": "code",
   "execution_count": 317,
   "metadata": {},
   "outputs": [],
   "source": [
    "x_train_tfidf = tv.fit_transform(x_tr_norm_list)\n",
    "x_test_tfidf = tv.transform(x_test_norm_list)"
   ]
  },
  {
   "cell_type": "code",
   "execution_count": 318,
   "metadata": {},
   "outputs": [
    {
     "data": {
      "text/plain": [
       "(2400, 4138)"
      ]
     },
     "execution_count": 318,
     "metadata": {},
     "output_type": "execute_result"
    }
   ],
   "source": [
    "x_train_tfidf.shape"
   ]
  },
  {
   "cell_type": "code",
   "execution_count": 319,
   "metadata": {},
   "outputs": [
    {
     "data": {
      "text/plain": [
       "{'oh': 2478,\n",
       " 'forgot': 1466,\n",
       " 'also': 101,\n",
       " 'mention': 2257,\n",
       " 'weird': 4008,\n",
       " 'color': 664,\n",
       " 'effect': 1143,\n",
       " 'phone': 2648,\n",
       " 'that': 3616,\n",
       " 'one': 2491,\n",
       " 'didn': 981,\n",
       " 'work': 4087,\n",
       " 'either': 1152,\n",
       " 'waste': 3976,\n",
       " 'bucks': 446,\n",
       " 'product': 2790,\n",
       " 'useless': 3874,\n",
       " 'since': 3272,\n",
       " 'not': 2440,\n",
       " 'enough': 1200,\n",
       " 'charging': 572,\n",
       " 'current': 866,\n",
       " 'charge': 568,\n",
       " 'cellphones': 544,\n",
       " 'planning': 2678,\n",
       " 'use': 3870,\n",
       " 'with': 4065,\n",
       " 'none': 2428,\n",
       " 'three': 3657,\n",
       " 'sizes': 3289,\n",
       " 'sent': 3179,\n",
       " 'heads': 1684,\n",
       " 'would': 4106,\n",
       " 'stay': 3426,\n",
       " 'ears': 1124,\n",
       " 'worst': 4101,\n",
       " 'customer': 870,\n",
       " 'service': 3191,\n",
       " 'the': 3618,\n",
       " 'engage': 1192,\n",
       " 'still': 3448,\n",
       " 'lacking': 1996,\n",
       " 'earbuds': 1117,\n",
       " 'it': 1921,\n",
       " 'always': 105,\n",
       " 'cuts': 877,\n",
       " 'makes': 2181,\n",
       " 'been': 312,\n",
       " 'sound': 3362,\n",
       " 'says': 3112,\n",
       " 'signal': 3258,\n",
       " 'failed': 1314,\n",
       " 'very': 3909,\n",
       " 'disappointing': 1006,\n",
       " 'thing': 3636,\n",
       " 'no': 2419,\n",
       " 'speakerphone': 3382,\n",
       " 'disappointed': 1005,\n",
       " 'accessoryone': 20,\n",
       " 'basically': 287,\n",
       " 'bad': 254,\n",
       " 'choice': 615,\n",
       " 'disappoint': 1004,\n",
       " 'infra': 1861,\n",
       " 'red': 2928,\n",
       " 'port': 2718,\n",
       " 'ida': 1799,\n",
       " 'horrible': 1760,\n",
       " 'switch': 3551,\n",
       " 'times': 3682,\n",
       " 'feels': 1362,\n",
       " 'poorly': 2714,\n",
       " 'constructed': 748,\n",
       " 'venus': 3901,\n",
       " 'difficult': 986,\n",
       " 'navigable': 2387,\n",
       " 'buttons': 468,\n",
       " 'recesses': 2921,\n",
       " 'push': 2842,\n",
       " 'them': 3625,\n",
       " 'dont': 1055,\n",
       " 'make': 2179,\n",
       " 'mistake': 2299,\n",
       " 'did': 980,\n",
       " 'muddy': 2356,\n",
       " 'low': 2147,\n",
       " 'quality': 2850,\n",
       " 'causing': 539,\n",
       " 'around': 178,\n",
       " 'wires': 4061,\n",
       " 'insert': 1866,\n",
       " 'super': 3524,\n",
       " 'glued': 1575,\n",
       " 'slid': 3297,\n",
       " 'off': 2471,\n",
       " 'advise': 64,\n",
       " 'everyone': 1241,\n",
       " 'do': 1037,\n",
       " 'be': 295,\n",
       " 'fooled': 1450,\n",
       " 'doesn': 1043,\n",
       " 'hold': 1735,\n",
       " 'what': 4017,\n",
       " 'time': 3679,\n",
       " 'in': 1834,\n",
       " 'decision': 913,\n",
       " 'like': 2076,\n",
       " 'on': 2488,\n",
       " 'button': 467,\n",
       " 'felt': 1367,\n",
       " 'crack': 818,\n",
       " 'bought': 407,\n",
       " 'hoping': 1756,\n",
       " 'could': 798,\n",
       " 'bluetooth': 377,\n",
       " 'fit': 1406,\n",
       " 'better': 339,\n",
       " 'things': 3637,\n",
       " 'made': 2165,\n",
       " 'impossible': 1824,\n",
       " 'wear': 3996,\n",
       " 'we': 3993,\n",
       " 'tried': 3763,\n",
       " 'units': 3838,\n",
       " 'within': 4066,\n",
       " 'months': 2323,\n",
       " 'pro': 2775,\n",
       " 'put': 2844,\n",
       " 'and': 126,\n",
       " 'recommend': 2923,\n",
       " 'avoiding': 235,\n",
       " 'down': 1063,\n",
       " 'drain': 1073,\n",
       " 'absolutely': 10,\n",
       " 'june': 1960,\n",
       " 'can': 496,\n",
       " 'store': 3458,\n",
       " 'anything': 151,\n",
       " 'numbers': 2451,\n",
       " 'him': 1724,\n",
       " 'item': 1924,\n",
       " 'anyone': 150,\n",
       " 'big': 343,\n",
       " 'disappointment': 1007,\n",
       " 'calendar': 485,\n",
       " 'son': 3348,\n",
       " 'impressed': 1825,\n",
       " 'just': 1961,\n",
       " 'even': 1232,\n",
       " 'fully': 1510,\n",
       " 'charged': 569,\n",
       " 'went': 4014,\n",
       " 'bed': 310,\n",
       " 'turned': 3786,\n",
       " 'blue': 374,\n",
       " 'tooth': 3717,\n",
       " 'wife': 4042,\n",
       " 'noticed': 2447,\n",
       " 'left': 2047,\n",
       " 'morning': 2331,\n",
       " 'plus': 2701,\n",
       " 'seriously': 3186,\n",
       " 'believe': 324,\n",
       " 'worth': 4102,\n",
       " 'steep': 3434,\n",
       " 'price': 2765,\n",
       " 'point': 2707,\n",
       " 'house': 1773,\n",
       " 'getting': 1554,\n",
       " 'dropped': 1100,\n",
       " 'coverage': 812,\n",
       " 'upstairs': 3867,\n",
       " 'basement': 285,\n",
       " 'takes': 3565,\n",
       " 'forever': 1461,\n",
       " 'hours': 1771,\n",
       " 'literally': 2095,\n",
       " 'reliable': 2961,\n",
       " 'mobile': 2304,\n",
       " 'weak': 3994,\n",
       " 'snap': 3328,\n",
       " 'this': 3643,\n",
       " 'simple': 3268,\n",
       " 'little': 2097,\n",
       " 'leakage': 2037,\n",
       " 'unacceptable': 3801,\n",
       " 'pretty': 2761,\n",
       " 'piece': 2659,\n",
       " 'embarrassing': 1167,\n",
       " 'hurt': 1793,\n",
       " 'try': 3779,\n",
       " 'ear': 1116,\n",
       " 'plug': 2698,\n",
       " 'unfortunately': 3828,\n",
       " 'ability': 2,\n",
       " 'actually': 48,\n",
       " 'know': 1988,\n",
       " 'receiving': 2916,\n",
       " 'call': 487,\n",
       " 'rather': 2883,\n",
       " 'important': 1823,\n",
       " 'feature': 1356,\n",
       " 'pitiful': 2668,\n",
       " 'respect': 2996,\n",
       " 'first': 1402,\n",
       " 'give': 1563,\n",
       " 'cheaply': 584,\n",
       " 'awkward': 241,\n",
       " 'if': 1808,\n",
       " 'looking': 2121,\n",
       " 'good': 1587,\n",
       " 'motorola': 2338,\n",
       " 'keep': 1965,\n",
       " 'isn': 1919,\n",
       " 'my': 2372,\n",
       " 'father': 1344,\n",
       " 'battery': 292,\n",
       " 'dying': 1113,\n",
       " 'after': 71,\n",
       " 'year': 4123,\n",
       " 'completely': 701,\n",
       " 'dead': 897,\n",
       " 'defective': 920,\n",
       " 'cap': 504,\n",
       " 'poor': 2712,\n",
       " 'construction': 749,\n",
       " 'they': 3633,\n",
       " 'weeks': 4006,\n",
       " 'break': 417,\n",
       " 'get': 1552,\n",
       " 'strong': 3478,\n",
       " 'really': 2904,\n",
       " 'wanted': 3960,\n",
       " 'plantronics': 2681,\n",
       " 'right': 3028,\n",
       " 'many': 2197,\n",
       " 'issues': 1920,\n",
       " 'metre': 2269,\n",
       " 'excellent': 1255,\n",
       " 'started': 3417,\n",
       " 'tireless': 3693,\n",
       " 'performed': 2630,\n",
       " 'awful': 240,\n",
       " 'muffled': 2357,\n",
       " 'tiny': 3687,\n",
       " 'oncoming': 2490,\n",
       " 'severe': 3199,\n",
       " 'echo': 1135,\n",
       " 'end': 1185,\n",
       " 'design': 952,\n",
       " 'might': 2277,\n",
       " 'economic': 1136,\n",
       " 'theory': 3629,\n",
       " 'stand': 3409,\n",
       " 'camera': 494,\n",
       " 'balance': 262,\n",
       " 'nikita': 2417,\n",
       " 'looks': 2122,\n",
       " 'picture': 2657,\n",
       " 'case': 526,\n",
       " 'huge': 1780,\n",
       " 'bluetoooth': 376,\n",
       " 'comfortable': 676,\n",
       " 'way': 3989,\n",
       " 'fits': 1407,\n",
       " 'wrong': 4117,\n",
       " 'size': 3288,\n",
       " 'unable': 3800,\n",
       " 'new': 2409,\n",
       " 'take': 3562,\n",
       " 'drops': 1102,\n",
       " 'bar': 272,\n",
       " 'starts': 3418,\n",
       " 'keeping': 1966,\n",
       " 'letting': 2060,\n",
       " 'dining': 988,\n",
       " 'its': 1925,\n",
       " 'stupid': 3488,\n",
       " 'buying': 472,\n",
       " 'charges': 571,\n",
       " 'car': 508,\n",
       " 'cradle': 821,\n",
       " 'headphones': 1683,\n",
       " 'kits': 1984,\n",
       " 'every': 1238,\n",
       " 'comes': 674,\n",
       " 'out': 2529,\n",
       " 'bit': 355,\n",
       " 'talking': 3572,\n",
       " 'real': 2899,\n",
       " 'loud': 2134,\n",
       " 'shouting': 3242,\n",
       " 'telephone': 3594,\n",
       " 'gets': 1553,\n",
       " 'old': 2482,\n",
       " 'told': 3701,\n",
       " 'want': 3959,\n",
       " 'great': 1606,\n",
       " 'there': 3630,\n",
       " 'tick': 3670,\n",
       " 'background': 251,\n",
       " 'calls': 491,\n",
       " 'never': 2405,\n",
       " 'experienced': 1281,\n",
       " 'before': 315,\n",
       " 'odd': 2469,\n",
       " 'clip': 641,\n",
       " 'all': 89,\n",
       " 'at': 206,\n",
       " 'thought': 3651,\n",
       " 'deal': 901,\n",
       " 'plugged': 2699,\n",
       " 've': 3889,\n",
       " 'razor': 2890,\n",
       " 'buy': 469,\n",
       " 'so': 3331,\n",
       " 'us': 3868,\n",
       " 'unless': 3841,\n",
       " 'go': 1576,\n",
       " 'converted': 773,\n",
       " 'soto': 3360,\n",
       " 'technology': 3590,\n",
       " 'sucks': 3506,\n",
       " 'last': 2009,\n",
       " 'long': 2116,\n",
       " 'waiting': 3951,\n",
       " 'sure': 3535,\n",
       " 'well': 4010,\n",
       " 'ever': 1237,\n",
       " 'receive': 2913,\n",
       " 'construct': 747,\n",
       " 'hinge': 1726,\n",
       " 'think': 3638,\n",
       " 'plan': 2675,\n",
       " 'onethis': 2494,\n",
       " 'motor': 2337,\n",
       " 'me': 2226,\n",
       " 'problem': 2777,\n",
       " 'loops': 2124,\n",
       " 'material': 2214,\n",
       " 'easily': 1128,\n",
       " 'bottom': 406,\n",
       " 'lineanother': 2083,\n",
       " 'worthless': 4103,\n",
       " 'cheap': 582,\n",
       " 'gimmick': 1557,\n",
       " 'spring': 3402,\n",
       " 'pair': 2577,\n",
       " 'soundwise': 3366,\n",
       " 'att': 210,\n",
       " 'clear': 634,\n",
       " 'distorted': 1030,\n",
       " 'yell': 4126,\n",
       " 'talk': 3571,\n",
       " 'purchase': 2835,\n",
       " 'worked': 4088,\n",
       " 'look': 2119,\n",
       " 'cool': 780,\n",
       " 'mainly': 2172,\n",
       " 'broke': 435,\n",
       " 'soon': 3352,\n",
       " 'purchasing': 2838,\n",
       " 'latest': 2017,\n",
       " 'os': 2521,\n",
       " 'likes': 2078,\n",
       " 'slow': 3305,\n",
       " 'crawl': 827,\n",
       " 'lock': 2108,\n",
       " 'while': 4026,\n",
       " 'nothing': 2446,\n",
       " 'say': 3110,\n",
       " 'sending': 3173,\n",
       " 'back': 248,\n",
       " 'came': 492,\n",
       " 'horizon': 1757,\n",
       " 'singular': 3276,\n",
       " 'nicer': 2412,\n",
       " 'cell': 543,\n",
       " 'giving': 1566,\n",
       " 'up': 3857,\n",
       " 'got': 1591,\n",
       " 'slowly': 3306,\n",
       " 'breaking': 420,\n",
       " 'despite': 960,\n",
       " 'much': 2354,\n",
       " 'care': 512,\n",
       " 'part': 2593,\n",
       " 'money': 2315,\n",
       " 'due': 1106,\n",
       " 'happening': 1657,\n",
       " 'forced': 1456,\n",
       " 'stop': 3454,\n",
       " 'using': 3877,\n",
       " 'checked': 586,\n",
       " 'everywhere': 1243,\n",
       " 'does': 1042,\n",
       " 'ill': 1811,\n",
       " 'apiece': 155,\n",
       " 'however': 1777,\n",
       " 'keypads': 1973,\n",
       " 'sometimes': 3345,\n",
       " 'reach': 2891,\n",
       " 'couldn': 799,\n",
       " 'figure': 1376,\n",
       " 'software': 3334,\n",
       " 'used': 3871,\n",
       " 'zero': 4137,\n",
       " 'stars': 3415,\n",
       " 'louse': 2139,\n",
       " 'lasted': 2010,\n",
       " 'day': 893,\n",
       " 'blew': 368,\n",
       " 'mother': 2335,\n",
       " 'volume': 3940,\n",
       " 'buyers': 471,\n",
       " 'careful': 513,\n",
       " 'were': 4015,\n",
       " 'jerks': 1937,\n",
       " 'but': 464,\n",
       " 'check': 585,\n",
       " 'voice': 3935,\n",
       " 'mail': 2170,\n",
       " 'night': 2414,\n",
       " 'keypad': 1972,\n",
       " 'backlight': 252,\n",
       " 'turns': 3787,\n",
       " 'seconds': 3154,\n",
       " 'message': 2266,\n",
       " 'lost': 2131,\n",
       " 'results': 3003,\n",
       " 'week': 4003,\n",
       " 'broken': 436,\n",
       " 'smoking': 3322,\n",
       " 'find': 1390,\n",
       " 'excusable': 1268,\n",
       " 'probably': 2776,\n",
       " 'returning': 3008,\n",
       " 'perhaps': 2631,\n",
       " 'changing': 561,\n",
       " 'carriers': 518,\n",
       " 'you': 4131,\n",
       " 'pay': 2611,\n",
       " 'guess': 1629,\n",
       " 'is': 1917,\n",
       " 'kind': 1981,\n",
       " 'mostly': 2334,\n",
       " 'childlike': 605,\n",
       " 'company': 691,\n",
       " 'id': 1798,\n",
       " 'expected': 1277,\n",
       " 'consumer': 750,\n",
       " 'experience': 1280,\n",
       " 'everything': 1242,\n",
       " 'wrongfirst': 4118,\n",
       " 'feel': 1358,\n",
       " 'days': 894,\n",
       " 'falls': 1322,\n",
       " 'happened': 1656,\n",
       " 'cracking': 819,\n",
       " 'links': 2087,\n",
       " 'exchange': 1260,\n",
       " 'return': 3006,\n",
       " 'unit': 3837,\n",
       " 'something': 3344,\n",
       " 'must': 2370,\n",
       " 'study': 3484,\n",
       " 'interested': 1898,\n",
       " 'sins': 3279,\n",
       " 'industrial': 1852,\n",
       " 'now': 2449,\n",
       " 'tell': 3596,\n",
       " 'lose': 2129,\n",
       " 'll': 2103,\n",
       " 'working': 4091,\n",
       " 'earned': 1121,\n",
       " 'breaks': 421,\n",
       " 'barely': 275,\n",
       " 'hear': 1687,\n",
       " 'constantly': 746,\n",
       " 'saying': 3111,\n",
       " 'europe': 1230,\n",
       " 'asia': 190,\n",
       " 'ordered': 2512,\n",
       " 'unhappy': 3829,\n",
       " 'immediately': 1819,\n",
       " 'protector': 2810,\n",
       " 'rip': 3036,\n",
       " 'over': 2540,\n",
       " 'shipping': 3227,\n",
       " 'less': 2054,\n",
       " 'extra': 1295,\n",
       " 'originally': 2519,\n",
       " 'later': 2016,\n",
       " 'discarded': 1009,\n",
       " 'scratched': 3132,\n",
       " 'problems': 2778,\n",
       " 'reading': 2897,\n",
       " 'memory': 2254,\n",
       " 'card': 509,\n",
       " 'turn': 3785,\n",
       " 'again': 73,\n",
       " 'flies': 1426,\n",
       " 'plastic': 2683,\n",
       " 'front': 1500,\n",
       " 'side': 3253,\n",
       " 'protection': 2808,\n",
       " 'whatsoever': 4019,\n",
       " 'biggest': 346,\n",
       " 'complaint': 697,\n",
       " 'drains': 1075,\n",
       " 'superfast': 3526,\n",
       " 'together': 3699,\n",
       " 'start': 3416,\n",
       " 'people': 2623,\n",
       " 'cannot': 503,\n",
       " 'player': 2688,\n",
       " 'may': 2221,\n",
       " 'potentially': 2734,\n",
       " 'cry': 859,\n",
       " 'improper': 1828,\n",
       " 'description': 945,\n",
       " 'computer': 709,\n",
       " 'bother': 404,\n",
       " 'contracting': 762,\n",
       " 'dollar': 1047,\n",
       " 'learned': 2040,\n",
       " 'lesson': 2057,\n",
       " 'form': 1468,\n",
       " 'online': 2496,\n",
       " 'anyway': 152,\n",
       " 'reaching': 2893,\n",
       " 'row': 3065,\n",
       " 'uncomfortable': 3807,\n",
       " 'send': 3172,\n",
       " 'keys': 1974,\n",
       " 'expect': 1275,\n",
       " 'drop': 1099,\n",
       " 'will': 4047,\n",
       " 'screen': 3134,\n",
       " 'goes': 1581,\n",
       " 'black': 360,\n",
       " 'stops': 3456,\n",
       " 'ringing': 3032,\n",
       " 'intermittently': 1902,\n",
       " 'commercial': 685,\n",
       " 'misleading': 2295,\n",
       " 'steer': 3435,\n",
       " 'genuine': 1547,\n",
       " 'palm': 2580,\n",
       " 'replacement': 2984,\n",
       " 'pens': 2621,\n",
       " 'come': 672,\n",
       " 'threepack': 3658,\n",
       " 'securely': 3157,\n",
       " 'belt': 332,\n",
       " 'strange': 3463,\n",
       " 'ticking': 3672,\n",
       " 'noise': 2424,\n",
       " 'ends': 1189,\n",
       " 'kept': 1969,\n",
       " 'catching': 534,\n",
       " 'cable': 478,\n",
       " 'seat': 3148,\n",
       " 'pull': 2828,\n",
       " 'trash': 3752,\n",
       " 'auto': 228,\n",
       " 'reverse': 3010,\n",
       " 'tape': 3575,\n",
       " 'then': 3628,\n",
       " 'puff': 2827,\n",
       " 'smoke': 3321,\n",
       " 'exchanged': 1261,\n",
       " 'cumbersome': 864,\n",
       " 'two': 3793,\n",
       " 'hate': 1668,\n",
       " 'mode': 2305,\n",
       " 'set': 3194,\n",
       " 'managed': 2191,\n",
       " 'bend': 334,\n",
       " 'leaf': 2036,\n",
       " 'place': 2671,\n",
       " 'metal': 2268,\n",
       " 'stress': 3470,\n",
       " 'next': 2410,\n",
       " 'although': 103,\n",
       " 'rate': 2881,\n",
       " 'impressive': 1827,\n",
       " 'megapixels': 2244,\n",
       " 'renders': 2974,\n",
       " 'images': 1812,\n",
       " 'fall': 1320,\n",
       " 'expectations': 1276,\n",
       " 'relatively': 2954,\n",
       " 'high': 1716,\n",
       " 'resolution': 2994,\n",
       " 'smudge': 3327,\n",
       " 'touches': 3727,\n",
       " 'face': 1304,\n",
       " 'match': 2213,\n",
       " 'essentially': 1222,\n",
       " 'communications': 688,\n",
       " 'tool': 3715,\n",
       " 'communicate': 687,\n",
       " 'away': 238,\n",
       " 'of': 2470,\n",
       " 'sucked': 3505,\n",
       " 'stuff': 3485,\n",
       " 'adapted': 52,\n",
       " 'provide': 2815,\n",
       " 'tied': 3673,\n",
       " 'conversations': 772,\n",
       " 'lasting': 2011,\n",
       " 'minutesmajor': 2292,\n",
       " 'pictures': 2658,\n",
       " 'sense': 3175,\n",
       " 'covered': 813,\n",
       " 'please': 2693,\n",
       " 'headsets': 1685,\n",
       " 'quite': 2862,\n",
       " 'compared': 692,\n",
       " 'previous': 2764,\n",
       " 'wired': 4060,\n",
       " 'additional': 56,\n",
       " 'provided': 2816,\n",
       " 'instructions': 1881,\n",
       " 'problemvery': 2780,\n",
       " 'unsatisfactory': 3851,\n",
       " 'these': 3632,\n",
       " 'products': 2792,\n",
       " 'cover': 811,\n",
       " 'light': 2070,\n",
       " 'senior': 3174,\n",
       " 'outlet': 2533,\n",
       " 'tones': 3708,\n",
       " 'acceptable': 17,\n",
       " 'infuriating': 1862,\n",
       " 'loudspeaker': 2138,\n",
       " 'option': 2509,\n",
       " 'lights': 2074,\n",
       " 'appealing': 160,\n",
       " 'click': 638,\n",
       " 'wonder': 4076,\n",
       " 'mechanism': 2237,\n",
       " 'found': 1476,\n",
       " 'explain': 1285,\n",
       " 'microphone': 2272,\n",
       " 'jack': 1926,\n",
       " 'particular': 2594,\n",
       " 'angle': 131,\n",
       " 'party': 2598,\n",
       " 'clearly': 636,\n",
       " 'unload': 3843,\n",
       " 'ringtones': 3034,\n",
       " 'third': 3641,\n",
       " 'gotten': 1592,\n",
       " 'defect': 919,\n",
       " 'risk': 3038,\n",
       " 'built': 454,\n",
       " 'alone': 97,\n",
       " 'video': 3916,\n",
       " 'forget': 1463,\n",
       " 'bars': 280,\n",
       " 'home': 1744,\n",
       " 'life': 2068,\n",
       " 'internet': 1903,\n",
       " 'access': 18,\n",
       " 'fine': 1392,\n",
       " 'rare': 2878,\n",
       " 'instance': 1876,\n",
       " 'shaggy': 3202,\n",
       " 'floppy': 1430,\n",
       " 'wont': 4080,\n",
       " 'least': 2041,\n",
       " 'audit': 223,\n",
       " 'missed': 2297,\n",
       " 'numerous': 2452,\n",
       " 'reason': 2906,\n",
       " 'received': 2914,\n",
       " 'counterfeit': 801,\n",
       " 'rubberpetroleum': 3068,\n",
       " 'smell': 3315,\n",
       " 'unbearable': 3803,\n",
       " 'caused': 538,\n",
       " 'reception': 2919,\n",
       " 'flaps': 1414,\n",
       " 'leather': 2042,\n",
       " 'improvement': 1831,\n",
       " 'truly': 3772,\n",
       " 'as': 189,\n",
       " 'earlier': 1119,\n",
       " 'review': 3013,\n",
       " 'noted': 2444,\n",
       " 'happens': 1658,\n",
       " 'going': 1583,\n",
       " 'minutes': 2291,\n",
       " 'maintain': 2174,\n",
       " 'connection': 732,\n",
       " 'lap': 2004,\n",
       " 'warning': 3970,\n",
       " 'performance': 2628,\n",
       " 'bolster': 389,\n",
       " 'versions': 3908,\n",
       " 'bills': 348,\n",
       " 'understand': 3818,\n",
       " 'though': 3650,\n",
       " 'pricking': 2767,\n",
       " 'plans': 2679,\n",
       " 'chinese': 609,\n",
       " 'forgeries': 1462,\n",
       " 'abound': 4,\n",
       " 'lasts': 2012,\n",
       " 'honey': 1749,\n",
       " 'who': 4032,\n",
       " 'mind': 2283,\n",
       " 'donna': 1054,\n",
       " 'disgusting': 1018,\n",
       " 'need': 2391,\n",
       " 'book': 393,\n",
       " 'phonebattery': 2649,\n",
       " 'short': 3236,\n",
       " 'small': 3310,\n",
       " 'install': 1874,\n",
       " 'brand': 415,\n",
       " 'whine': 4027,\n",
       " 'goeth': 1582,\n",
       " 'avoid': 233,\n",
       " 'text': 3611,\n",
       " 'essaying': 1221,\n",
       " 'tricky': 3762,\n",
       " 'thin': 3635,\n",
       " 'scar': 3114,\n",
       " 'supposedly': 3534,\n",
       " 'apparently': 159,\n",
       " 'obviously': 2461,\n",
       " 'adhesive': 57,\n",
       " 'rocket': 3051,\n",
       " 'destination': 962,\n",
       " 'unknown': 3840,\n",
       " 'bow': 408,\n",
       " 'series': 3184,\n",
       " 'fairly': 1317,\n",
       " 'quiet': 2859,\n",
       " 'trouble': 3770,\n",
       " 'hearing': 1689,\n",
       " 'person': 2635,\n",
       " 'teach': 3585,\n",
       " 'support': 3532,\n",
       " 'walked': 3953,\n",
       " 'procedures': 2782,\n",
       " 'ended': 1186,\n",
       " 'hard': 1663,\n",
       " 'rest': 2997,\n",
       " 'wiping': 4059,\n",
       " 'data': 888,\n",
       " 'white': 4030,\n",
       " 'colored': 665,\n",
       " 'couple': 803,\n",
       " 'hoursthe': 1772,\n",
       " 'original': 2517,\n",
       " 'longer': 2117,\n",
       " 'thereplacement': 3631,\n",
       " 'sounded': 3363,\n",
       " 'ok': 2480,\n",
       " 'almost': 96,\n",
       " 'totally': 3724,\n",
       " 'unintelligible': 3831,\n",
       " 'word': 4084,\n",
       " 'said': 3084,\n",
       " 'refuse': 2936,\n",
       " 'refund': 2935,\n",
       " 'replace': 2983,\n",
       " 'flaw': 1423,\n",
       " 'correctly': 790,\n",
       " 'had': 1638,\n",
       " 'only': 2497,\n",
       " 'device': 973,\n",
       " 'unacceptableunless': 3802,\n",
       " 'area': 174,\n",
       " 'trying': 3780,\n",
       " 'motorolas': 2339,\n",
       " 'webster': 4000,\n",
       " 'followed': 1445,\n",
       " 'directions': 996,\n",
       " 'improve': 1829,\n",
       " 'leads': 2035,\n",
       " 'given': 1564,\n",
       " 'star': 3413,\n",
       " 'able': 3,\n",
       " 'pads': 2570,\n",
       " 'needed': 2392,\n",
       " 'years': 4124,\n",
       " 'contract': 760,\n",
       " 'sudden': 3507,\n",
       " 'moving': 2351,\n",
       " 'freely': 1485,\n",
       " 'speed': 3388,\n",
       " 'contracted': 761,\n",
       " 'warranty': 3971,\n",
       " 'produce': 2786,\n",
       " 'receipt': 2912,\n",
       " 'luck': 2152,\n",
       " 'creaks': 830,\n",
       " 'wooden': 4082,\n",
       " 'floor': 1429,\n",
       " 'killer': 1979,\n",
       " 'course': 806,\n",
       " 'addition': 55,\n",
       " 'amp': 120,\n",
       " 'lightweight': 2075,\n",
       " 'sitting': 3284,\n",
       " 'vehicle': 3895,\n",
       " 'recently': 2918,\n",
       " 'connected': 730,\n",
       " 'disconnected': 1011,\n",
       " 'garage': 1528,\n",
       " 'died': 983,\n",
       " 'arrived': 181,\n",
       " 'photo': 2652,\n",
       " 'ad': 49,\n",
       " 'terrible': 3607,\n",
       " 'full': 1509,\n",
       " 'static': 3423,\n",
       " 'easy': 1130,\n",
       " 'howeverthe': 1778,\n",
       " 'riingtones': 3030,\n",
       " 'best': 338,\n",
       " 'neither': 2401,\n",
       " 'games': 1525,\n",
       " 'ready': 2898,\n",
       " 'prime': 2771,\n",
       " 'coming': 680,\n",
       " 'wind': 4051,\n",
       " 'excrutiatingly': 1267,\n",
       " 'locks': 2111,\n",
       " 'screens': 3136,\n",
       " 'flash': 1415,\n",
       " 'random': 2873,\n",
       " 'pocket': 2703,\n",
       " 'locked': 2109,\n",
       " 'earphone': 1122,\n",
       " 'ca': 476,\n",
       " 'runs': 3076,\n",
       " 'quickly': 2858,\n",
       " 'tracfone': 3735,\n",
       " 'holds': 1738,\n",
       " 'lot': 2132,\n",
       " 'simply': 3271,\n",
       " 'deaf': 900,\n",
       " 'vi': 3912,\n",
       " 'highly': 1720,\n",
       " 'wouldn': 4107,\n",
       " 'several': 3198,\n",
       " 'dozen': 1067,\n",
       " 'hundred': 1791,\n",
       " 'contact': 751,\n",
       " 'imagine': 1816,\n",
       " 'fun': 1512,\n",
       " 'earpieces': 1123,\n",
       " 'sonya': 3351,\n",
       " 'ericsson': 1216,\n",
       " 'lip': 2089,\n",
       " 'elsewhere': 1164,\n",
       " 'bells': 328,\n",
       " 'whistles': 4029,\n",
       " 'mediocre': 2240,\n",
       " 'buzzing': 473,\n",
       " 'overrule': 2551,\n",
       " 'being': 322,\n",
       " 'for': 1453,\n",
       " 'how': 1776,\n",
       " 'expensive': 1279,\n",
       " 'jingle': 1942,\n",
       " 'line': 2082,\n",
       " 'decent': 911,\n",
       " 'beware': 340,\n",
       " 'certain': 552,\n",
       " 'places': 2673,\n",
       " 'negative': 2397,\n",
       " 'anna': 137,\n",
       " 'happy': 1662,\n",
       " 'widely': 4039,\n",
       " 'cingularatt': 624,\n",
       " 'inform': 1859,\n",
       " 'practice': 2742,\n",
       " 'when': 4020,\n",
       " 'placed': 2672,\n",
       " 'tree': 3758,\n",
       " 'snug': 3330,\n",
       " 'room': 3060,\n",
       " 'sides': 3255,\n",
       " 'thorn': 3646,\n",
       " 'abhor': 1,\n",
       " 'accidentally': 22,\n",
       " 'activate': 42,\n",
       " 'gentletouch': 1545,\n",
       " 'touch': 3725,\n",
       " 'listening': 2093,\n",
       " 'reoccurebottom': 2977,\n",
       " 'somewhere': 3347,\n",
       " 'else': 1163,\n",
       " 'music': 2367,\n",
       " 'update': 3859,\n",
       " 'procedure': 2781,\n",
       " 'hands': 1651,\n",
       " 'operate': 2503,\n",
       " 'screenthis': 3137,\n",
       " 'interface': 1900,\n",
       " 'decade': 909,\n",
       " 'compete': 694,\n",
       " 'designs': 955,\n",
       " 'threw': 3660,\n",
       " 'window': 4052,\n",
       " 'describe': 941,\n",
       " 'amazon': 113,\n",
       " 'painful': 2573,\n",
       " 'displeased': 1027,\n",
       " 'instruction': 1880,\n",
       " 'manual': 2196,\n",
       " 'strength': 3469,\n",
       " 'extremely': 1298,\n",
       " 'hot': 1769,\n",
       " 'dirty': 1002,\n",
       " 'majority': 2178,\n",
       " 'logitech': 2114,\n",
       " 'trust': 3776,\n",
       " 'helpful': 1702,\n",
       " 'different': 985,\n",
       " 'monkeys': 2317,\n",
       " 'shouldn': 3241,\n",
       " 'share': 3209,\n",
       " 'da': 880,\n",
       " 'copy': 781,\n",
       " 'humans': 1784,\n",
       " 'remorse': 2970,\n",
       " 'currently': 867,\n",
       " 'firstperson': 1403,\n",
       " 'shutters': 3251,\n",
       " 'delay': 924,\n",
       " 'masses': 2208,\n",
       " 'buds': 448,\n",
       " 'play': 2686,\n",
       " 'clarity': 628,\n",
       " 'loose': 2125,\n",
       " 'feet': 1363,\n",
       " 'holder': 1736,\n",
       " 'large': 2005,\n",
       " 'heavy': 1695,\n",
       " 'keeps': 1967,\n",
       " 'falling': 1321,\n",
       " 'ugly': 3798,\n",
       " 'drained': 1074,\n",
       " 'having': 1675,\n",
       " 'seem': 3160,\n",
       " 'accept': 16,\n",
       " 'except': 1256,\n",
       " 'mrs': 2352,\n",
       " 'preferably': 2746,\n",
       " 'gripped': 1618,\n",
       " 'windows': 4053,\n",
       " 'media': 2238,\n",
       " 'buyer': 470,\n",
       " 'flush': 1434,\n",
       " 'toilet': 3700,\n",
       " 'bathe': 289,\n",
       " 'save': 3105,\n",
       " 'costs': 796,\n",
       " 'far': 1334,\n",
       " 'greater': 1607,\n",
       " 'ease': 1126,\n",
       " 'promised': 2798,\n",
       " 'timeframe': 3680,\n",
       " 'same': 3090,\n",
       " 'others': 2524,\n",
       " 'mentioned': 2258,\n",
       " 'allows': 94,\n",
       " 'possibility': 2728,\n",
       " 'double': 1058,\n",
       " 'booking': 394,\n",
       " 'date': 889,\n",
       " 'earbugs': 1118,\n",
       " 'means': 2231,\n",
       " 'another': 141,\n",
       " 'note': 2443,\n",
       " 'appearance': 161,\n",
       " 'bland': 364,\n",
       " 'especially': 1220,\n",
       " 'model': 2306,\n",
       " 'top': 3718,\n",
       " 'discomfort': 1010,\n",
       " 'continue': 757,\n",
       " 'paring': 2590,\n",
       " 'periodically': 2633,\n",
       " 'somehow': 3342,\n",
       " 'dropping': 1101,\n",
       " 'standard': 3410,\n",
       " 'connecting': 731,\n",
       " 'multiple': 2359,\n",
       " 'power': 2737,\n",
       " 'sources': 3371,\n",
       " 'mac': 2162,\n",
       " ...}"
      ]
     },
     "execution_count": 319,
     "metadata": {},
     "output_type": "execute_result"
    }
   ],
   "source": [
    "tv.vocabulary_"
   ]
  },
  {
   "cell_type": "code",
   "execution_count": 320,
   "metadata": {},
   "outputs": [
    {
     "data": {
      "text/plain": [
       "scipy.sparse._csr.csr_matrix"
      ]
     },
     "execution_count": 320,
     "metadata": {},
     "output_type": "execute_result"
    }
   ],
   "source": [
    "type(x_train_tfidf)"
   ]
  },
  {
   "cell_type": "code",
   "execution_count": 321,
   "metadata": {},
   "outputs": [
    {
     "data": {
      "text/plain": [
       "(600, 4138)"
      ]
     },
     "execution_count": 321,
     "metadata": {},
     "output_type": "execute_result"
    }
   ],
   "source": [
    "x_test_tfidf.shape"
   ]
  },
  {
   "cell_type": "code",
   "execution_count": 322,
   "metadata": {},
   "outputs": [],
   "source": [
    "#Combine the meta data backinto the tfidfs"
   ]
  },
  {
   "cell_type": "code",
   "execution_count": 323,
   "metadata": {},
   "outputs": [],
   "source": [
    "x_train_ifdf_non_sparse = scipy.sparse.csr_matrix.toarray(x_train_tfidf)\n",
    "x_test_ifdf_non_sparse = scipy.sparse.csr_matrix.toarray(x_test_tfidf)"
   ]
  },
  {
   "cell_type": "code",
   "execution_count": 324,
   "metadata": {},
   "outputs": [
    {
     "name": "stdout",
     "output_type": "stream",
     "text": [
      "(2400, 4138)\n"
     ]
    }
   ],
   "source": [
    "print(x_train_ifdf_non_sparse.shape)\n",
    "#print(train_meta_data.shape)"
   ]
  },
  {
   "cell_type": "code",
   "execution_count": 325,
   "metadata": {},
   "outputs": [],
   "source": [
    "meta = False\n",
    "\n",
    "if meta:\n",
    "    x_train_full = np.hstack((train_meta_data,x_train_ifdf_non_sparse))\n",
    "    x_test_full = np.hstack((test_meta_data,x_test_ifdf_non_sparse))\n",
    "else:\n",
    "    x_train_full = x_train_ifdf_non_sparse\n",
    "    x_test_full = x_test_ifdf_non_sparse"
   ]
  },
  {
   "cell_type": "code",
   "execution_count": 326,
   "metadata": {},
   "outputs": [],
   "source": [
    "#make sparse again\n",
    "x_train_sparse = scipy.sparse.csr_matrix(x_train_full)\n",
    "x_test_sparse = scipy.sparse.csr_matrix(x_test_full)"
   ]
  },
  {
   "cell_type": "code",
   "execution_count": 395,
   "metadata": {},
   "outputs": [],
   "source": [
    "#x_train, x_val, y_train, y_val = train_test_split(x_tfidf,y_train_df, test_size = .2, random_state=2)\n",
    "#shouldn't need this since cross validation is being built into the models"
   ]
  },
  {
   "cell_type": "code",
   "execution_count": 44,
   "metadata": {},
   "outputs": [],
   "source": [
    "from sklearn.linear_model import LogisticRegressionCV"
   ]
  },
  {
   "cell_type": "code",
   "execution_count": 10,
   "metadata": {},
   "outputs": [],
   "source": [
    "ratios = np.linspace(0,1,5)\n",
    "strengths = np.logspace(-2, 2, 5)\n",
    "results = np.zeros(len(ratios)*len(strengths)).reshape(len(ratios),len(strengths))"
   ]
  },
  {
   "cell_type": "code",
   "execution_count": 398,
   "metadata": {},
   "outputs": [],
   "source": [
    "log_model = LogisticRegressionCV(Cs=strengths, cv=5, solver='saga',penalty='elasticnet', l1_ratios=ratios,max_iter=3000)"
   ]
  },
  {
   "cell_type": "code",
   "execution_count": 399,
   "metadata": {},
   "outputs": [
    {
     "name": "stderr",
     "output_type": "stream",
     "text": [
      "c:\\Users\\Joe\\miniconda3\\envs\\tf\\lib\\site-packages\\sklearn\\linear_model\\_sag.py:350: ConvergenceWarning: The max_iter was reached which means the coef_ did not converge\n",
      "  warnings.warn(\n"
     ]
    },
    {
     "data": {
      "text/html": [
       "<style>#sk-container-id-15 {color: black;background-color: white;}#sk-container-id-15 pre{padding: 0;}#sk-container-id-15 div.sk-toggleable {background-color: white;}#sk-container-id-15 label.sk-toggleable__label {cursor: pointer;display: block;width: 100%;margin-bottom: 0;padding: 0.3em;box-sizing: border-box;text-align: center;}#sk-container-id-15 label.sk-toggleable__label-arrow:before {content: \"▸\";float: left;margin-right: 0.25em;color: #696969;}#sk-container-id-15 label.sk-toggleable__label-arrow:hover:before {color: black;}#sk-container-id-15 div.sk-estimator:hover label.sk-toggleable__label-arrow:before {color: black;}#sk-container-id-15 div.sk-toggleable__content {max-height: 0;max-width: 0;overflow: hidden;text-align: left;background-color: #f0f8ff;}#sk-container-id-15 div.sk-toggleable__content pre {margin: 0.2em;color: black;border-radius: 0.25em;background-color: #f0f8ff;}#sk-container-id-15 input.sk-toggleable__control:checked~div.sk-toggleable__content {max-height: 200px;max-width: 100%;overflow: auto;}#sk-container-id-15 input.sk-toggleable__control:checked~label.sk-toggleable__label-arrow:before {content: \"▾\";}#sk-container-id-15 div.sk-estimator input.sk-toggleable__control:checked~label.sk-toggleable__label {background-color: #d4ebff;}#sk-container-id-15 div.sk-label input.sk-toggleable__control:checked~label.sk-toggleable__label {background-color: #d4ebff;}#sk-container-id-15 input.sk-hidden--visually {border: 0;clip: rect(1px 1px 1px 1px);clip: rect(1px, 1px, 1px, 1px);height: 1px;margin: -1px;overflow: hidden;padding: 0;position: absolute;width: 1px;}#sk-container-id-15 div.sk-estimator {font-family: monospace;background-color: #f0f8ff;border: 1px dotted black;border-radius: 0.25em;box-sizing: border-box;margin-bottom: 0.5em;}#sk-container-id-15 div.sk-estimator:hover {background-color: #d4ebff;}#sk-container-id-15 div.sk-parallel-item::after {content: \"\";width: 100%;border-bottom: 1px solid gray;flex-grow: 1;}#sk-container-id-15 div.sk-label:hover label.sk-toggleable__label {background-color: #d4ebff;}#sk-container-id-15 div.sk-serial::before {content: \"\";position: absolute;border-left: 1px solid gray;box-sizing: border-box;top: 0;bottom: 0;left: 50%;z-index: 0;}#sk-container-id-15 div.sk-serial {display: flex;flex-direction: column;align-items: center;background-color: white;padding-right: 0.2em;padding-left: 0.2em;position: relative;}#sk-container-id-15 div.sk-item {position: relative;z-index: 1;}#sk-container-id-15 div.sk-parallel {display: flex;align-items: stretch;justify-content: center;background-color: white;position: relative;}#sk-container-id-15 div.sk-item::before, #sk-container-id-15 div.sk-parallel-item::before {content: \"\";position: absolute;border-left: 1px solid gray;box-sizing: border-box;top: 0;bottom: 0;left: 50%;z-index: -1;}#sk-container-id-15 div.sk-parallel-item {display: flex;flex-direction: column;z-index: 1;position: relative;background-color: white;}#sk-container-id-15 div.sk-parallel-item:first-child::after {align-self: flex-end;width: 50%;}#sk-container-id-15 div.sk-parallel-item:last-child::after {align-self: flex-start;width: 50%;}#sk-container-id-15 div.sk-parallel-item:only-child::after {width: 0;}#sk-container-id-15 div.sk-dashed-wrapped {border: 1px dashed gray;margin: 0 0.4em 0.5em 0.4em;box-sizing: border-box;padding-bottom: 0.4em;background-color: white;}#sk-container-id-15 div.sk-label label {font-family: monospace;font-weight: bold;display: inline-block;line-height: 1.2em;}#sk-container-id-15 div.sk-label-container {text-align: center;}#sk-container-id-15 div.sk-container {/* jupyter's `normalize.less` sets `[hidden] { display: none; }` but bootstrap.min.css set `[hidden] { display: none !important; }` so we also need the `!important` here to be able to override the default hidden behavior on the sphinx rendered scikit-learn.org. See: https://github.com/scikit-learn/scikit-learn/issues/21755 */display: inline-block !important;position: relative;}#sk-container-id-15 div.sk-text-repr-fallback {display: none;}</style><div id=\"sk-container-id-15\" class=\"sk-top-container\"><div class=\"sk-text-repr-fallback\"><pre>LogisticRegressionCV(Cs=array([1.e-02, 1.e-01, 1.e+00, 1.e+01, 1.e+02]), cv=5,\n",
       "                     l1_ratios=array([0.  , 0.25, 0.5 , 0.75, 1.  ]),\n",
       "                     max_iter=3000, penalty=&#x27;elasticnet&#x27;, solver=&#x27;saga&#x27;)</pre><b>In a Jupyter environment, please rerun this cell to show the HTML representation or trust the notebook. <br />On GitHub, the HTML representation is unable to render, please try loading this page with nbviewer.org.</b></div><div class=\"sk-container\" hidden><div class=\"sk-item\"><div class=\"sk-estimator sk-toggleable\"><input class=\"sk-toggleable__control sk-hidden--visually\" id=\"sk-estimator-id-15\" type=\"checkbox\" checked><label for=\"sk-estimator-id-15\" class=\"sk-toggleable__label sk-toggleable__label-arrow\">LogisticRegressionCV</label><div class=\"sk-toggleable__content\"><pre>LogisticRegressionCV(Cs=array([1.e-02, 1.e-01, 1.e+00, 1.e+01, 1.e+02]), cv=5,\n",
       "                     l1_ratios=array([0.  , 0.25, 0.5 , 0.75, 1.  ]),\n",
       "                     max_iter=3000, penalty=&#x27;elasticnet&#x27;, solver=&#x27;saga&#x27;)</pre></div></div></div></div></div>"
      ],
      "text/plain": [
       "LogisticRegressionCV(Cs=array([1.e-02, 1.e-01, 1.e+00, 1.e+01, 1.e+02]), cv=5,\n",
       "                     l1_ratios=array([0.  , 0.25, 0.5 , 0.75, 1.  ]),\n",
       "                     max_iter=3000, penalty='elasticnet', solver='saga')"
      ]
     },
     "execution_count": 399,
     "metadata": {},
     "output_type": "execute_result"
    }
   ],
   "source": [
    "log_model.fit(x_train_sparse, y_train)"
   ]
  },
  {
   "cell_type": "code",
   "execution_count": 5,
   "metadata": {},
   "outputs": [],
   "source": [
    "import pickle\n",
    "'''log_model_file = 'log_model_file_full_size_vocab.sav'\n",
    "pickle.dump(log_model, open(log_model_file,'wb'))'''\n",
    "log_model = pickle.load(open('log_model_file_full_size_vocab.sav', 'rb'))"
   ]
  },
  {
   "cell_type": "code",
   "execution_count": 6,
   "metadata": {},
   "outputs": [
    {
     "data": {
      "text/plain": [
       "{1.0: array([[[0.825     , 0.5       , 0.5       , 0.5       , 0.5       ],\n",
       "         [0.82708333, 0.76666667, 0.67916667, 0.63541667, 0.63541667],\n",
       "         [0.8375    , 0.82916667, 0.82083333, 0.825     , 0.81041667],\n",
       "         [0.83541667, 0.83333333, 0.82916667, 0.83541667, 0.82083333],\n",
       "         [0.82708333, 0.81875   , 0.81666667, 0.8125    , 0.8125    ]],\n",
       " \n",
       "        [[0.79166667, 0.5       , 0.5       , 0.5       , 0.5       ],\n",
       "         [0.80625   , 0.69375   , 0.64583333, 0.60833333, 0.60833333],\n",
       "         [0.8375    , 0.81458333, 0.81458333, 0.7875    , 0.77708333],\n",
       "         [0.8375    , 0.84166667, 0.8375    , 0.82916667, 0.81666667],\n",
       "         [0.80416667, 0.80208333, 0.80208333, 0.80625   , 0.78541667]],\n",
       " \n",
       "        [[0.7125    , 0.5       , 0.5       , 0.5       , 0.5       ],\n",
       "         [0.73125   , 0.60833333, 0.57708333, 0.55208333, 0.54791667],\n",
       "         [0.78333333, 0.77708333, 0.75833333, 0.74166667, 0.71875   ],\n",
       "         [0.79166667, 0.79375   , 0.79375   , 0.7875    , 0.7625    ],\n",
       "         [0.79166667, 0.7875    , 0.77708333, 0.77708333, 0.74791667]],\n",
       " \n",
       "        [[0.75      , 0.5       , 0.5       , 0.5       , 0.5       ],\n",
       "         [0.76041667, 0.65416667, 0.61041667, 0.58125   , 0.58125   ],\n",
       "         [0.77708333, 0.78125   , 0.76458333, 0.7625    , 0.75625   ],\n",
       "         [0.79166667, 0.77916667, 0.77083333, 0.77291667, 0.7625    ],\n",
       "         [0.78125   , 0.77708333, 0.76875   , 0.75625   , 0.73958333]],\n",
       " \n",
       "        [[0.79791667, 0.5       , 0.5       , 0.5       , 0.5       ],\n",
       "         [0.81875   , 0.69791667, 0.65833333, 0.65208333, 0.64583333],\n",
       "         [0.8375    , 0.83125   , 0.81666667, 0.79791667, 0.80208333],\n",
       "         [0.82916667, 0.83125   , 0.83125   , 0.82916667, 0.82708333],\n",
       "         [0.81875   , 0.81875   , 0.81875   , 0.8125    , 0.78333333]]])}"
      ]
     },
     "execution_count": 6,
     "metadata": {},
     "output_type": "execute_result"
    }
   ],
   "source": [
    "log_model.scores_"
   ]
  },
  {
   "cell_type": "code",
   "execution_count": 7,
   "metadata": {},
   "outputs": [],
   "source": [
    "val_errs = log_model.scores_[1.0]\n"
   ]
  },
  {
   "cell_type": "code",
   "execution_count": 8,
   "metadata": {},
   "outputs": [],
   "source": [
    "avg_val_std_dev = np.zeros(25).reshape(5,5)\n",
    "\n",
    "for i in range(val_errs.shape[2]):\n",
    "    for j in range(val_errs.shape[0]):\n",
    "        avg_val_std_dev[i][j] = np.std(val_errs[i][j])"
   ]
  },
  {
   "cell_type": "code",
   "execution_count": 11,
   "metadata": {},
   "outputs": [],
   "source": [
    "log_model_validation_stddevs = pd.DataFrame(avg_val_std_dev, index=ratios, columns=strengths)"
   ]
  },
  {
   "cell_type": "code",
   "execution_count": 12,
   "metadata": {},
   "outputs": [
    {
     "data": {
      "text/html": [
       "<div>\n",
       "<style scoped>\n",
       "    .dataframe tbody tr th:only-of-type {\n",
       "        vertical-align: middle;\n",
       "    }\n",
       "\n",
       "    .dataframe tbody tr th {\n",
       "        vertical-align: top;\n",
       "    }\n",
       "\n",
       "    .dataframe thead th {\n",
       "        text-align: right;\n",
       "    }\n",
       "</style>\n",
       "<table border=\"1\" class=\"dataframe\">\n",
       "  <thead>\n",
       "    <tr style=\"text-align: right;\">\n",
       "      <th></th>\n",
       "      <th>0.01</th>\n",
       "      <th>0.10</th>\n",
       "      <th>1.00</th>\n",
       "      <th>10.00</th>\n",
       "      <th>100.00</th>\n",
       "    </tr>\n",
       "  </thead>\n",
       "  <tbody>\n",
       "    <tr>\n",
       "      <th>0.00</th>\n",
       "      <td>0.130000</td>\n",
       "      <td>0.076142</td>\n",
       "      <td>0.008975</td>\n",
       "      <td>0.005496</td>\n",
       "      <td>0.005368</td>\n",
       "    </tr>\n",
       "    <tr>\n",
       "      <th>0.25</th>\n",
       "      <td>0.116667</td>\n",
       "      <td>0.073873</td>\n",
       "      <td>0.021530</td>\n",
       "      <td>0.008898</td>\n",
       "      <td>0.007454</td>\n",
       "    </tr>\n",
       "    <tr>\n",
       "      <th>0.50</th>\n",
       "      <td>0.085000</td>\n",
       "      <td>0.067490</td>\n",
       "      <td>0.023622</td>\n",
       "      <td>0.011888</td>\n",
       "      <td>0.015287</td>\n",
       "    </tr>\n",
       "    <tr>\n",
       "      <th>0.75</th>\n",
       "      <td>0.100000</td>\n",
       "      <td>0.067004</td>\n",
       "      <td>0.009354</td>\n",
       "      <td>0.009718</td>\n",
       "      <td>0.015138</td>\n",
       "    </tr>\n",
       "    <tr>\n",
       "      <th>1.00</th>\n",
       "      <td>0.119167</td>\n",
       "      <td>0.064692</td>\n",
       "      <td>0.015557</td>\n",
       "      <td>0.001559</td>\n",
       "      <td>0.013756</td>\n",
       "    </tr>\n",
       "  </tbody>\n",
       "</table>\n",
       "</div>"
      ],
      "text/plain": [
       "        0.01      0.10      1.00      10.00     100.00\n",
       "0.00  0.130000  0.076142  0.008975  0.005496  0.005368\n",
       "0.25  0.116667  0.073873  0.021530  0.008898  0.007454\n",
       "0.50  0.085000  0.067490  0.023622  0.011888  0.015287\n",
       "0.75  0.100000  0.067004  0.009354  0.009718  0.015138\n",
       "1.00  0.119167  0.064692  0.015557  0.001559  0.013756"
      ]
     },
     "execution_count": 12,
     "metadata": {},
     "output_type": "execute_result"
    }
   ],
   "source": [
    "log_model_validation_stddevs"
   ]
  },
  {
   "cell_type": "code",
   "execution_count": 165,
   "metadata": {},
   "outputs": [
    {
     "data": {
      "image/png": "[encoded data removed]",
      "text/plain": [
       "<Figure size 640x480 with 2 Axes>"
      ]
     },
     "metadata": {},
     "output_type": "display_data"
    }
   ],
   "source": [
    "sns.heatmap(log_model_validation_stddevs, annot=True)\n",
    "plt.show;"
   ]
  },
  {
   "cell_type": "code",
   "execution_count": 49,
   "metadata": {},
   "outputs": [],
   "source": [
    "avg_val_errs = np.zeros(25).reshape(5,5)\n",
    "\n",
    "for i in range(val_errs.shape[2]):\n",
    "    for j in range(val_errs.shape[0]):\n",
    "        avg_val_errs[i][j] = sum(val_errs[i][j])/5\n",
    "\n"
   ]
  },
  {
   "cell_type": "code",
   "execution_count": 50,
   "metadata": {},
   "outputs": [],
   "source": [
    "log_model_validation_accuracies = pd.DataFrame(avg_val_errs, index= ratios, columns=strengths)"
   ]
  },
  {
   "cell_type": "code",
   "execution_count": 51,
   "metadata": {},
   "outputs": [
    {
     "data": {
      "text/html": [
       "<div>\n",
       "<style scoped>\n",
       "    .dataframe tbody tr th:only-of-type {\n",
       "        vertical-align: middle;\n",
       "    }\n",
       "\n",
       "    .dataframe tbody tr th {\n",
       "        vertical-align: top;\n",
       "    }\n",
       "\n",
       "    .dataframe thead th {\n",
       "        text-align: right;\n",
       "    }\n",
       "</style>\n",
       "<table border=\"1\" class=\"dataframe\">\n",
       "  <thead>\n",
       "    <tr style=\"text-align: right;\">\n",
       "      <th></th>\n",
       "      <th>0.01</th>\n",
       "      <th>0.10</th>\n",
       "      <th>1.00</th>\n",
       "      <th>10.00</th>\n",
       "      <th>100.00</th>\n",
       "    </tr>\n",
       "  </thead>\n",
       "  <tbody>\n",
       "    <tr>\n",
       "      <th>0.00</th>\n",
       "      <td>0.565000</td>\n",
       "      <td>0.708750</td>\n",
       "      <td>0.824583</td>\n",
       "      <td>0.830833</td>\n",
       "      <td>0.817500</td>\n",
       "    </tr>\n",
       "    <tr>\n",
       "      <th>0.25</th>\n",
       "      <td>0.558333</td>\n",
       "      <td>0.672500</td>\n",
       "      <td>0.806250</td>\n",
       "      <td>0.832500</td>\n",
       "      <td>0.800000</td>\n",
       "    </tr>\n",
       "    <tr>\n",
       "      <th>0.50</th>\n",
       "      <td>0.542500</td>\n",
       "      <td>0.603333</td>\n",
       "      <td>0.755833</td>\n",
       "      <td>0.785833</td>\n",
       "      <td>0.776250</td>\n",
       "    </tr>\n",
       "    <tr>\n",
       "      <th>0.75</th>\n",
       "      <td>0.550000</td>\n",
       "      <td>0.637500</td>\n",
       "      <td>0.768333</td>\n",
       "      <td>0.775417</td>\n",
       "      <td>0.764583</td>\n",
       "    </tr>\n",
       "    <tr>\n",
       "      <th>1.00</th>\n",
       "      <td>0.559583</td>\n",
       "      <td>0.694583</td>\n",
       "      <td>0.817083</td>\n",
       "      <td>0.829583</td>\n",
       "      <td>0.810417</td>\n",
       "    </tr>\n",
       "  </tbody>\n",
       "</table>\n",
       "</div>"
      ],
      "text/plain": [
       "        0.01      0.10      1.00      10.00     100.00\n",
       "0.00  0.565000  0.708750  0.824583  0.830833  0.817500\n",
       "0.25  0.558333  0.672500  0.806250  0.832500  0.800000\n",
       "0.50  0.542500  0.603333  0.755833  0.785833  0.776250\n",
       "0.75  0.550000  0.637500  0.768333  0.775417  0.764583\n",
       "1.00  0.559583  0.694583  0.817083  0.829583  0.810417"
      ]
     },
     "execution_count": 51,
     "metadata": {},
     "output_type": "execute_result"
    }
   ],
   "source": [
    "log_model_validation_accuracies\n",
    "#columns are C value (inverse of regulation strength)\n",
    "#rows are the l1_ratios, 0 = all l2"
   ]
  },
  {
   "cell_type": "code",
   "execution_count": 406,
   "metadata": {},
   "outputs": [],
   "source": [
    "#log_model_validation_accuracies.to_pickle('log_model_validation_accuracies.pkl')\n",
    "#log_model_validation_accuracies =pd.read_pickle('log_model_validation_accuracies.pkl')\n",
    "#log_model_validation_accuracies"
   ]
  },
  {
   "cell_type": "code",
   "execution_count": 164,
   "metadata": {},
   "outputs": [
    {
     "data": {
      "image/png": "[encoded data removed]",
      "text/plain": [
       "<Figure size 640x480 with 2 Axes>"
      ]
     },
     "metadata": {},
     "output_type": "display_data"
    }
   ],
   "source": [
    "plt.figure()\n",
    "plt.xlabel('Inverse Regularization Strength')\n",
    "plt.ylabel('Percentage l1')\n",
    "\n",
    "sns.heatmap(log_model_validation_accuracies, annot=True)\n",
    "plt.show;"
   ]
  },
  {
   "cell_type": "code",
   "execution_count": 53,
   "metadata": {},
   "outputs": [
    {
     "data": {
      "text/plain": [
       "0.9908333333333333"
      ]
     },
     "execution_count": 53,
     "metadata": {},
     "output_type": "execute_result"
    }
   ],
   "source": [
    "log_model.score(x_train_sparse, y_train)"
   ]
  },
  {
   "cell_type": "code",
   "execution_count": 409,
   "metadata": {},
   "outputs": [],
   "source": [
    "#The model is definitely overfit like bananas, but does increasing regularization further actually help?"
   ]
  },
  {
   "cell_type": "code",
   "execution_count": 54,
   "metadata": {},
   "outputs": [],
   "source": [
    "high_regs = [.00001, .0001, .001, .01]\n",
    "reg_log_model = LogisticRegressionCV(Cs=high_regs, cv=5, penalty='l2', max_iter=1000)"
   ]
  },
  {
   "cell_type": "code",
   "execution_count": 55,
   "metadata": {},
   "outputs": [
    {
     "data": {
      "text/html": [
       "<style>#sk-container-id-1 {color: black;background-color: white;}#sk-container-id-1 pre{padding: 0;}#sk-container-id-1 div.sk-toggleable {background-color: white;}#sk-container-id-1 label.sk-toggleable__label {cursor: pointer;display: block;width: 100%;margin-bottom: 0;padding: 0.3em;box-sizing: border-box;text-align: center;}#sk-container-id-1 label.sk-toggleable__label-arrow:before {content: \"▸\";float: left;margin-right: 0.25em;color: #696969;}#sk-container-id-1 label.sk-toggleable__label-arrow:hover:before {color: black;}#sk-container-id-1 div.sk-estimator:hover label.sk-toggleable__label-arrow:before {color: black;}#sk-container-id-1 div.sk-toggleable__content {max-height: 0;max-width: 0;overflow: hidden;text-align: left;background-color: #f0f8ff;}#sk-container-id-1 div.sk-toggleable__content pre {margin: 0.2em;color: black;border-radius: 0.25em;background-color: #f0f8ff;}#sk-container-id-1 input.sk-toggleable__control:checked~div.sk-toggleable__content {max-height: 200px;max-width: 100%;overflow: auto;}#sk-container-id-1 input.sk-toggleable__control:checked~label.sk-toggleable__label-arrow:before {content: \"▾\";}#sk-container-id-1 div.sk-estimator input.sk-toggleable__control:checked~label.sk-toggleable__label {background-color: #d4ebff;}#sk-container-id-1 div.sk-label input.sk-toggleable__control:checked~label.sk-toggleable__label {background-color: #d4ebff;}#sk-container-id-1 input.sk-hidden--visually {border: 0;clip: rect(1px 1px 1px 1px);clip: rect(1px, 1px, 1px, 1px);height: 1px;margin: -1px;overflow: hidden;padding: 0;position: absolute;width: 1px;}#sk-container-id-1 div.sk-estimator {font-family: monospace;background-color: #f0f8ff;border: 1px dotted black;border-radius: 0.25em;box-sizing: border-box;margin-bottom: 0.5em;}#sk-container-id-1 div.sk-estimator:hover {background-color: #d4ebff;}#sk-container-id-1 div.sk-parallel-item::after {content: \"\";width: 100%;border-bottom: 1px solid gray;flex-grow: 1;}#sk-container-id-1 div.sk-label:hover label.sk-toggleable__label {background-color: #d4ebff;}#sk-container-id-1 div.sk-serial::before {content: \"\";position: absolute;border-left: 1px solid gray;box-sizing: border-box;top: 0;bottom: 0;left: 50%;z-index: 0;}#sk-container-id-1 div.sk-serial {display: flex;flex-direction: column;align-items: center;background-color: white;padding-right: 0.2em;padding-left: 0.2em;position: relative;}#sk-container-id-1 div.sk-item {position: relative;z-index: 1;}#sk-container-id-1 div.sk-parallel {display: flex;align-items: stretch;justify-content: center;background-color: white;position: relative;}#sk-container-id-1 div.sk-item::before, #sk-container-id-1 div.sk-parallel-item::before {content: \"\";position: absolute;border-left: 1px solid gray;box-sizing: border-box;top: 0;bottom: 0;left: 50%;z-index: -1;}#sk-container-id-1 div.sk-parallel-item {display: flex;flex-direction: column;z-index: 1;position: relative;background-color: white;}#sk-container-id-1 div.sk-parallel-item:first-child::after {align-self: flex-end;width: 50%;}#sk-container-id-1 div.sk-parallel-item:last-child::after {align-self: flex-start;width: 50%;}#sk-container-id-1 div.sk-parallel-item:only-child::after {width: 0;}#sk-container-id-1 div.sk-dashed-wrapped {border: 1px dashed gray;margin: 0 0.4em 0.5em 0.4em;box-sizing: border-box;padding-bottom: 0.4em;background-color: white;}#sk-container-id-1 div.sk-label label {font-family: monospace;font-weight: bold;display: inline-block;line-height: 1.2em;}#sk-container-id-1 div.sk-label-container {text-align: center;}#sk-container-id-1 div.sk-container {/* jupyter's `normalize.less` sets `[hidden] { display: none; }` but bootstrap.min.css set `[hidden] { display: none !important; }` so we also need the `!important` here to be able to override the default hidden behavior on the sphinx rendered scikit-learn.org. See: https://github.com/scikit-learn/scikit-learn/issues/21755 */display: inline-block !important;position: relative;}#sk-container-id-1 div.sk-text-repr-fallback {display: none;}</style><div id=\"sk-container-id-1\" class=\"sk-top-container\"><div class=\"sk-text-repr-fallback\"><pre>LogisticRegressionCV(Cs=[1e-05, 0.0001, 0.001, 0.01], cv=5, max_iter=1000)</pre><b>In a Jupyter environment, please rerun this cell to show the HTML representation or trust the notebook. <br />On GitHub, the HTML representation is unable to render, please try loading this page with nbviewer.org.</b></div><div class=\"sk-container\" hidden><div class=\"sk-item\"><div class=\"sk-estimator sk-toggleable\"><input class=\"sk-toggleable__control sk-hidden--visually\" id=\"sk-estimator-id-1\" type=\"checkbox\" checked><label for=\"sk-estimator-id-1\" class=\"sk-toggleable__label sk-toggleable__label-arrow\">LogisticRegressionCV</label><div class=\"sk-toggleable__content\"><pre>LogisticRegressionCV(Cs=[1e-05, 0.0001, 0.001, 0.01], cv=5, max_iter=1000)</pre></div></div></div></div></div>"
      ],
      "text/plain": [
       "LogisticRegressionCV(Cs=[1e-05, 0.0001, 0.001, 0.01], cv=5, max_iter=1000)"
      ]
     },
     "execution_count": 55,
     "metadata": {},
     "output_type": "execute_result"
    }
   ],
   "source": [
    "reg_log_model.fit(x_train_sparse,y_train)"
   ]
  },
  {
   "cell_type": "code",
   "execution_count": 57,
   "metadata": {},
   "outputs": [
    {
     "data": {
      "text/plain": [
       "0.8775"
      ]
     },
     "execution_count": 57,
     "metadata": {},
     "output_type": "execute_result"
    }
   ],
   "source": [
    "reg_log_model.score(x_train_sparse,y_train)"
   ]
  },
  {
   "cell_type": "code",
   "execution_count": 58,
   "metadata": {},
   "outputs": [],
   "source": [
    "reg_y_hat = reg_log_model.predict(x_test_sparse)"
   ]
  },
  {
   "cell_type": "code",
   "execution_count": 59,
   "metadata": {},
   "outputs": [
    {
     "data": {
      "text/plain": [
       "291.0"
      ]
     },
     "execution_count": 59,
     "metadata": {},
     "output_type": "execute_result"
    }
   ],
   "source": [
    "sum(reg_y_hat)"
   ]
  },
  {
   "cell_type": "code",
   "execution_count": 131,
   "metadata": {},
   "outputs": [
    {
     "name": "stdout",
     "output_type": "stream",
     "text": [
      "[10.]\n",
      "[0.]\n"
     ]
    }
   ],
   "source": [
    "print(log_model.C_)\n",
    "print(log_model.l1_ratio_)"
   ]
  },
  {
   "cell_type": "code",
   "execution_count": 62,
   "metadata": {},
   "outputs": [],
   "source": [
    "np.savetxt('yproba1_test.txt', reg_y_hat)"
   ]
  },
  {
   "cell_type": "code",
   "execution_count": 65,
   "metadata": {},
   "outputs": [],
   "source": [
    "#Spin from logistic regression:\n",
    "#we tested various vocab sizes, and found htat even though it led to overfitting, the full feature set led to better predictions\n",
    "#additionally, we tested increasing regularization on our best elasticnet configuration and found that heavier regularization led to worse predicttions"
   ]
  },
  {
   "cell_type": "code",
   "execution_count": null,
   "metadata": {},
   "outputs": [],
   "source": []
  },
  {
   "cell_type": "code",
   "execution_count": 74,
   "metadata": {},
   "outputs": [],
   "source": [
    "#SVM"
   ]
  },
  {
   "cell_type": "code",
   "execution_count": 259,
   "metadata": {},
   "outputs": [],
   "source": [
    "from sklearn.svm import SVC\n",
    "from sklearn.model_selection import StratifiedKFold"
   ]
  },
  {
   "cell_type": "code",
   "execution_count": 260,
   "metadata": {},
   "outputs": [],
   "source": [
    "# We are testing the kernel and the regularization, even though it's only 2 kernels, i checked gammas and 'scale' is the only good one"
   ]
  },
  {
   "cell_type": "code",
   "execution_count": 261,
   "metadata": {},
   "outputs": [],
   "source": [
    "strat = StratifiedKFold(n_splits=5)"
   ]
  },
  {
   "cell_type": "code",
   "execution_count": 262,
   "metadata": {},
   "outputs": [],
   "source": [
    "testx = x_train_sparse.copy()\n",
    "testy = np.copy(y_train)"
   ]
  },
  {
   "cell_type": "code",
   "execution_count": 263,
   "metadata": {},
   "outputs": [],
   "source": [
    "strengths = list(np.logspace(-2,2,5))\n",
    "kernels = ['rbf', 'sigmoid', 'linear', 'poly']"
   ]
  },
  {
   "cell_type": "code",
   "execution_count": 264,
   "metadata": {},
   "outputs": [],
   "source": [
    "svm_training_accuracies = np.zeros(5*5*4).reshape(4, 5, 5)\n",
    "svm_validation_accuracies = np.copy(svm_training_accuracies)"
   ]
  },
  {
   "cell_type": "code",
   "execution_count": 265,
   "metadata": {},
   "outputs": [],
   "source": [
    "mod_count = 0\n",
    "for kernel in kernels:\n",
    "    for strength in strengths:\n",
    "        for train_index, test_index in strat.split(testx,testy):\n",
    "            fold = mod_count % 5\n",
    "            kern_mod = SVC(C=strength, kernel=kernel, gamma='scale', random_state=1, probability=False)\n",
    "            x_train_kern = testx[train_index]\n",
    "            y_train_kern = testy[train_index]\n",
    "            x_val_kern = testx[test_index]\n",
    "            y_val_kern = testy[test_index]\n",
    "\n",
    "            kern_mod.fit(x_train_kern, y_train_kern)\n",
    "            train_acc = kern_mod.score(x_train_kern, y_train_kern)\n",
    "            val_acc = kern_mod.score(x_val_kern, y_val_kern)\n",
    "\n",
    "            svm_training_accuracies[kernels.index(kernel)][strengths.index(strength)][fold] = train_acc\n",
    "            svm_validation_accuracies[kernels.index(kernel)][strengths.index(strength)][fold] = val_acc\n",
    "\n",
    "            mod_count += 1\n"
   ]
  },
  {
   "cell_type": "code",
   "execution_count": 266,
   "metadata": {},
   "outputs": [
    {
     "data": {
      "text/plain": [
       "array([[0.575     , 0.54791667, 0.51041667, 0.52708333, 0.54583333],\n",
       "       [0.59791667, 0.57916667, 0.525     , 0.54375   , 0.56041667],\n",
       "       [0.7375    , 0.71875   , 0.66875   , 0.71875   , 0.73958333],\n",
       "       [0.725     , 0.68125   , 0.60208333, 0.66666667, 0.70833333],\n",
       "       [0.67916667, 0.65625   , 0.58541667, 0.6375    , 0.6625    ]])"
      ]
     },
     "execution_count": 266,
     "metadata": {},
     "output_type": "execute_result"
    }
   ],
   "source": [
    "svm_validation_accuracies[3]"
   ]
  },
  {
   "cell_type": "code",
   "execution_count": 267,
   "metadata": {},
   "outputs": [],
   "source": [
    "avg_svm_train_accuracies = np.zeros(20).reshape(4,5)\n",
    "avg_svm_val_accuracies = np.zeros(20).reshape(4,5)\n",
    "svm_train_stddev = np.copy(avg_svm_val_accuracies)\n",
    "svm_val_stddev = np.copy(avg_svm_val_accuracies)\n",
    "\n",
    "for i in range(svm_validation_accuracies.shape[0]):\n",
    "    for j in range(svm_validation_accuracies.shape[1]):\n",
    "        avg_svm_val_accuracies[i][j] = sum(svm_validation_accuracies[i][j])/5\n",
    "        svm_val_stddev[i][j] = np.std(svm_validation_accuracies[i][j])\n",
    "\n",
    "for i in range(svm_validation_accuracies.shape[0]):\n",
    "    for j in range(svm_validation_accuracies.shape[1]):\n",
    "        avg_svm_train_accuracies[i][j] = sum(svm_training_accuracies[i][j])/5\n",
    "        svm_train_stddev[i][j] = np.std(svm_training_accuracies[i][j])\n",
    "\n"
   ]
  },
  {
   "cell_type": "code",
   "execution_count": 268,
   "metadata": {},
   "outputs": [
    {
     "data": {
      "text/plain": [
       "\"'avg_svm_val_accuracies = avg_svm_val_accuracies.transpose()\\navg_svm_train_accuracies = avg_svm_train_accuracies.transpose()\\nsvm_train_stddev = svm_train_stddev.transpose()\\nsvm_val_stddev = svm_val_stddev.transpose()\\n\""
      ]
     },
     "execution_count": 268,
     "metadata": {},
     "output_type": "execute_result"
    }
   ],
   "source": [
    "''''avg_svm_val_accuracies = avg_svm_val_accuracies.transpose()\n",
    "avg_svm_train_accuracies = avg_svm_train_accuracies.transpose()\n",
    "svm_train_stddev = svm_train_stddev.transpose()\n",
    "svm_val_stddev = svm_val_stddev.transpose()\n",
    "'''"
   ]
  },
  {
   "cell_type": "code",
   "execution_count": 269,
   "metadata": {},
   "outputs": [],
   "source": [
    "svm_train_accuracy_df = pd.DataFrame(avg_svm_train_accuracies, index=kernels, columns=strengths)\n",
    "svm_val_accuracy_df = pd.DataFrame(avg_svm_val_accuracies,index=kernels, columns=strengths)\n",
    "svm_train_stddev_df = pd.DataFrame(svm_train_stddev, index=kernels, columns=strengths)\n",
    "svm_val_stddev_df = pd.DataFrame(svm_val_stddev, index=kernels, columns=strengths)\n",
    "\n"
   ]
  },
  {
   "cell_type": "code",
   "execution_count": 270,
   "metadata": {},
   "outputs": [
    {
     "data": {
      "text/html": [
       "<div>\n",
       "<style scoped>\n",
       "    .dataframe tbody tr th:only-of-type {\n",
       "        vertical-align: middle;\n",
       "    }\n",
       "\n",
       "    .dataframe tbody tr th {\n",
       "        vertical-align: top;\n",
       "    }\n",
       "\n",
       "    .dataframe thead th {\n",
       "        text-align: right;\n",
       "    }\n",
       "</style>\n",
       "<table border=\"1\" class=\"dataframe\">\n",
       "  <thead>\n",
       "    <tr style=\"text-align: right;\">\n",
       "      <th></th>\n",
       "      <th>0.01</th>\n",
       "      <th>0.10</th>\n",
       "      <th>1.00</th>\n",
       "      <th>10.00</th>\n",
       "      <th>100.00</th>\n",
       "    </tr>\n",
       "  </thead>\n",
       "  <tbody>\n",
       "    <tr>\n",
       "      <th>rbf</th>\n",
       "      <td>0.051258</td>\n",
       "      <td>0.048545</td>\n",
       "      <td>0.028988</td>\n",
       "      <td>0.032596</td>\n",
       "      <td>0.032447</td>\n",
       "    </tr>\n",
       "    <tr>\n",
       "      <th>sigmoid</th>\n",
       "      <td>0.038833</td>\n",
       "      <td>0.051225</td>\n",
       "      <td>0.020429</td>\n",
       "      <td>0.019570</td>\n",
       "      <td>0.017922</td>\n",
       "    </tr>\n",
       "    <tr>\n",
       "      <th>linear</th>\n",
       "      <td>0.040706</td>\n",
       "      <td>0.050294</td>\n",
       "      <td>0.026764</td>\n",
       "      <td>0.023511</td>\n",
       "      <td>0.019392</td>\n",
       "    </tr>\n",
       "    <tr>\n",
       "      <th>poly</th>\n",
       "      <td>0.021707</td>\n",
       "      <td>0.025638</td>\n",
       "      <td>0.025550</td>\n",
       "      <td>0.042480</td>\n",
       "      <td>0.032259</td>\n",
       "    </tr>\n",
       "  </tbody>\n",
       "</table>\n",
       "</div>"
      ],
      "text/plain": [
       "           0.01      0.10      1.00      10.00     100.00\n",
       "rbf      0.051258  0.048545  0.028988  0.032596  0.032447\n",
       "sigmoid  0.038833  0.051225  0.020429  0.019570  0.017922\n",
       "linear   0.040706  0.050294  0.026764  0.023511  0.019392\n",
       "poly     0.021707  0.025638  0.025550  0.042480  0.032259"
      ]
     },
     "execution_count": 270,
     "metadata": {},
     "output_type": "execute_result"
    }
   ],
   "source": [
    "svm_val_stddev_df"
   ]
  },
  {
   "cell_type": "code",
   "execution_count": 271,
   "metadata": {},
   "outputs": [
    {
     "data": {
      "text/html": [
       "<div>\n",
       "<style scoped>\n",
       "    .dataframe tbody tr th:only-of-type {\n",
       "        vertical-align: middle;\n",
       "    }\n",
       "\n",
       "    .dataframe tbody tr th {\n",
       "        vertical-align: top;\n",
       "    }\n",
       "\n",
       "    .dataframe thead th {\n",
       "        text-align: right;\n",
       "    }\n",
       "</style>\n",
       "<table border=\"1\" class=\"dataframe\">\n",
       "  <thead>\n",
       "    <tr style=\"text-align: right;\">\n",
       "      <th></th>\n",
       "      <th>0.01</th>\n",
       "      <th>0.10</th>\n",
       "      <th>1.00</th>\n",
       "      <th>10.00</th>\n",
       "      <th>100.00</th>\n",
       "    </tr>\n",
       "  </thead>\n",
       "  <tbody>\n",
       "    <tr>\n",
       "      <th>rbf</th>\n",
       "      <td>0.615625</td>\n",
       "      <td>0.703542</td>\n",
       "      <td>0.921250</td>\n",
       "      <td>0.962187</td>\n",
       "      <td>0.962187</td>\n",
       "    </tr>\n",
       "    <tr>\n",
       "      <th>sigmoid</th>\n",
       "      <td>0.612187</td>\n",
       "      <td>0.765625</td>\n",
       "      <td>0.774479</td>\n",
       "      <td>0.660000</td>\n",
       "      <td>0.662396</td>\n",
       "    </tr>\n",
       "    <tr>\n",
       "      <th>linear</th>\n",
       "      <td>0.619687</td>\n",
       "      <td>0.779167</td>\n",
       "      <td>0.825625</td>\n",
       "      <td>0.844167</td>\n",
       "      <td>0.849479</td>\n",
       "    </tr>\n",
       "    <tr>\n",
       "      <th>poly</th>\n",
       "      <td>0.564792</td>\n",
       "      <td>0.627500</td>\n",
       "      <td>0.956250</td>\n",
       "      <td>0.962187</td>\n",
       "      <td>0.962187</td>\n",
       "    </tr>\n",
       "  </tbody>\n",
       "</table>\n",
       "</div>"
      ],
      "text/plain": [
       "           0.01      0.10      1.00      10.00     100.00\n",
       "rbf      0.615625  0.703542  0.921250  0.962187  0.962187\n",
       "sigmoid  0.612187  0.765625  0.774479  0.660000  0.662396\n",
       "linear   0.619687  0.779167  0.825625  0.844167  0.849479\n",
       "poly     0.564792  0.627500  0.956250  0.962187  0.962187"
      ]
     },
     "execution_count": 271,
     "metadata": {},
     "output_type": "execute_result"
    }
   ],
   "source": [
    "svm_train_accuracy_df"
   ]
  },
  {
   "cell_type": "code",
   "execution_count": 272,
   "metadata": {},
   "outputs": [
    {
     "data": {
      "image/png": "[encoded data removed]",
      "text/plain": [
       "<Figure size 640x480 with 2 Axes>"
      ]
     },
     "metadata": {},
     "output_type": "display_data"
    }
   ],
   "source": [
    "sns.heatmap(svm_train_accuracy_df, annot=True)\n",
    "plt.show;"
   ]
  },
  {
   "cell_type": "code",
   "execution_count": 273,
   "metadata": {},
   "outputs": [
    {
     "data": {
      "image/png": "[encoded data removed]",
      "text/plain": [
       "<Figure size 640x480 with 2 Axes>"
      ]
     },
     "metadata": {},
     "output_type": "display_data"
    }
   ],
   "source": [
    "sns.heatmap(svm_train_stddev_df, annot=True)\n",
    "plt.show;"
   ]
  },
  {
   "cell_type": "code",
   "execution_count": 274,
   "metadata": {},
   "outputs": [
    {
     "data": {
      "image/png": "[encoded data removed]",
      "text/plain": [
       "<Figure size 640x480 with 2 Axes>"
      ]
     },
     "metadata": {},
     "output_type": "display_data"
    }
   ],
   "source": [
    "sns.heatmap(svm_val_accuracy_df, annot=True)\n",
    "plt.show;"
   ]
  },
  {
   "cell_type": "code",
   "execution_count": 185,
   "metadata": {},
   "outputs": [
    {
     "data": {
      "image/png": "[encoded data removed]",
      "text/plain": [
       "<Figure size 640x480 with 2 Axes>"
      ]
     },
     "metadata": {},
     "output_type": "display_data"
    }
   ],
   "source": [
    "sns.heatmap(svm_val_stddev_df, annot=True)\n",
    "plt.show;"
   ]
  },
  {
   "cell_type": "code",
   "execution_count": 187,
   "metadata": {},
   "outputs": [
    {
     "data": {
      "text/html": [
       "<style>#sk-container-id-4 {color: black;background-color: white;}#sk-container-id-4 pre{padding: 0;}#sk-container-id-4 div.sk-toggleable {background-color: white;}#sk-container-id-4 label.sk-toggleable__label {cursor: pointer;display: block;width: 100%;margin-bottom: 0;padding: 0.3em;box-sizing: border-box;text-align: center;}#sk-container-id-4 label.sk-toggleable__label-arrow:before {content: \"▸\";float: left;margin-right: 0.25em;color: #696969;}#sk-container-id-4 label.sk-toggleable__label-arrow:hover:before {color: black;}#sk-container-id-4 div.sk-estimator:hover label.sk-toggleable__label-arrow:before {color: black;}#sk-container-id-4 div.sk-toggleable__content {max-height: 0;max-width: 0;overflow: hidden;text-align: left;background-color: #f0f8ff;}#sk-container-id-4 div.sk-toggleable__content pre {margin: 0.2em;color: black;border-radius: 0.25em;background-color: #f0f8ff;}#sk-container-id-4 input.sk-toggleable__control:checked~div.sk-toggleable__content {max-height: 200px;max-width: 100%;overflow: auto;}#sk-container-id-4 input.sk-toggleable__control:checked~label.sk-toggleable__label-arrow:before {content: \"▾\";}#sk-container-id-4 div.sk-estimator input.sk-toggleable__control:checked~label.sk-toggleable__label {background-color: #d4ebff;}#sk-container-id-4 div.sk-label input.sk-toggleable__control:checked~label.sk-toggleable__label {background-color: #d4ebff;}#sk-container-id-4 input.sk-hidden--visually {border: 0;clip: rect(1px 1px 1px 1px);clip: rect(1px, 1px, 1px, 1px);height: 1px;margin: -1px;overflow: hidden;padding: 0;position: absolute;width: 1px;}#sk-container-id-4 div.sk-estimator {font-family: monospace;background-color: #f0f8ff;border: 1px dotted black;border-radius: 0.25em;box-sizing: border-box;margin-bottom: 0.5em;}#sk-container-id-4 div.sk-estimator:hover {background-color: #d4ebff;}#sk-container-id-4 div.sk-parallel-item::after {content: \"\";width: 100%;border-bottom: 1px solid gray;flex-grow: 1;}#sk-container-id-4 div.sk-label:hover label.sk-toggleable__label {background-color: #d4ebff;}#sk-container-id-4 div.sk-serial::before {content: \"\";position: absolute;border-left: 1px solid gray;box-sizing: border-box;top: 0;bottom: 0;left: 50%;z-index: 0;}#sk-container-id-4 div.sk-serial {display: flex;flex-direction: column;align-items: center;background-color: white;padding-right: 0.2em;padding-left: 0.2em;position: relative;}#sk-container-id-4 div.sk-item {position: relative;z-index: 1;}#sk-container-id-4 div.sk-parallel {display: flex;align-items: stretch;justify-content: center;background-color: white;position: relative;}#sk-container-id-4 div.sk-item::before, #sk-container-id-4 div.sk-parallel-item::before {content: \"\";position: absolute;border-left: 1px solid gray;box-sizing: border-box;top: 0;bottom: 0;left: 50%;z-index: -1;}#sk-container-id-4 div.sk-parallel-item {display: flex;flex-direction: column;z-index: 1;position: relative;background-color: white;}#sk-container-id-4 div.sk-parallel-item:first-child::after {align-self: flex-end;width: 50%;}#sk-container-id-4 div.sk-parallel-item:last-child::after {align-self: flex-start;width: 50%;}#sk-container-id-4 div.sk-parallel-item:only-child::after {width: 0;}#sk-container-id-4 div.sk-dashed-wrapped {border: 1px dashed gray;margin: 0 0.4em 0.5em 0.4em;box-sizing: border-box;padding-bottom: 0.4em;background-color: white;}#sk-container-id-4 div.sk-label label {font-family: monospace;font-weight: bold;display: inline-block;line-height: 1.2em;}#sk-container-id-4 div.sk-label-container {text-align: center;}#sk-container-id-4 div.sk-container {/* jupyter's `normalize.less` sets `[hidden] { display: none; }` but bootstrap.min.css set `[hidden] { display: none !important; }` so we also need the `!important` here to be able to override the default hidden behavior on the sphinx rendered scikit-learn.org. See: https://github.com/scikit-learn/scikit-learn/issues/21755 */display: inline-block !important;position: relative;}#sk-container-id-4 div.sk-text-repr-fallback {display: none;}</style><div id=\"sk-container-id-4\" class=\"sk-top-container\"><div class=\"sk-text-repr-fallback\"><pre>SVC(C=1)</pre><b>In a Jupyter environment, please rerun this cell to show the HTML representation or trust the notebook. <br />On GitHub, the HTML representation is unable to render, please try loading this page with nbviewer.org.</b></div><div class=\"sk-container\" hidden><div class=\"sk-item\"><div class=\"sk-estimator sk-toggleable\"><input class=\"sk-toggleable__control sk-hidden--visually\" id=\"sk-estimator-id-6\" type=\"checkbox\" checked><label for=\"sk-estimator-id-6\" class=\"sk-toggleable__label sk-toggleable__label-arrow\">SVC</label><div class=\"sk-toggleable__content\"><pre>SVC(C=1)</pre></div></div></div></div></div>"
      ],
      "text/plain": [
       "SVC(C=1)"
      ]
     },
     "execution_count": 187,
     "metadata": {},
     "output_type": "execute_result"
    }
   ],
   "source": [
    "sig_mod = SVC(C=1, kernel='rbf', gamma='scale')\n",
    "sig_mod.fit(testx, testy)\n"
   ]
  },
  {
   "cell_type": "code",
   "execution_count": 188,
   "metadata": {},
   "outputs": [],
   "source": [
    "svm_y_hat = sig_mod.predict(x_test_sparse)"
   ]
  },
  {
   "cell_type": "code",
   "execution_count": 189,
   "metadata": {},
   "outputs": [
    {
     "data": {
      "text/plain": [
       "262.0"
      ]
     },
     "execution_count": 189,
     "metadata": {},
     "output_type": "execute_result"
    }
   ],
   "source": [
    "sum(svm_y_hat)"
   ]
  },
  {
   "cell_type": "code",
   "execution_count": 427,
   "metadata": {},
   "outputs": [],
   "source": [
    "np.savetxt('yproba1_test.txt', svm_y_hat)"
   ]
  },
  {
   "cell_type": "code",
   "execution_count": 429,
   "metadata": {},
   "outputs": [
    {
     "data": {
      "text/plain": [
       "0.08"
      ]
     },
     "execution_count": 429,
     "metadata": {},
     "output_type": "execute_result"
    }
   ],
   "source": []
  },
  {
   "cell_type": "code",
   "execution_count": null,
   "metadata": {},
   "outputs": [],
   "source": [
    "#NEURAL NETWORKS"
   ]
  },
  {
   "cell_type": "code",
   "execution_count": null,
   "metadata": {},
   "outputs": [],
   "source": [
    "#MLP"
   ]
  },
  {
   "cell_type": "code",
   "execution_count": 67,
   "metadata": {},
   "outputs": [],
   "source": [
    "from sklearn.neural_network import MLPClassifier\n",
    "from sklearn.model_selection import GridSearchCV"
   ]
  },
  {
   "cell_type": "code",
   "execution_count": 72,
   "metadata": {},
   "outputs": [
    {
     "data": {
      "text/plain": [
       "array([1.e-04, 1.e-03, 1.e-02, 1.e-01, 1.e+00])"
      ]
     },
     "execution_count": 72,
     "metadata": {},
     "output_type": "execute_result"
    }
   ],
   "source": [
    ".1 **-np.arange(-4,1)"
   ]
  },
  {
   "cell_type": "code",
   "execution_count": 73,
   "metadata": {},
   "outputs": [],
   "source": [
    "try_params = {\n",
    "    'hidden_layer_sizes': [(32,), (64,), (64, 32), (64, 16), (64, 32, 16)],\n",
    "    'alpha': .1 **-np.arange(-4,1)\n",
    "}"
   ]
  },
  {
   "cell_type": "code",
   "execution_count": 74,
   "metadata": {},
   "outputs": [],
   "source": [
    "network = MLPClassifier(hidden_layer_sizes=((128,)), max_iter=400, batch_size = 32,random_state=13)"
   ]
  },
  {
   "cell_type": "code",
   "execution_count": 244,
   "metadata": {},
   "outputs": [
    {
     "data": {
      "text/html": [
       "<style>#sk-container-id-6 {color: black;background-color: white;}#sk-container-id-6 pre{padding: 0;}#sk-container-id-6 div.sk-toggleable {background-color: white;}#sk-container-id-6 label.sk-toggleable__label {cursor: pointer;display: block;width: 100%;margin-bottom: 0;padding: 0.3em;box-sizing: border-box;text-align: center;}#sk-container-id-6 label.sk-toggleable__label-arrow:before {content: \"▸\";float: left;margin-right: 0.25em;color: #696969;}#sk-container-id-6 label.sk-toggleable__label-arrow:hover:before {color: black;}#sk-container-id-6 div.sk-estimator:hover label.sk-toggleable__label-arrow:before {color: black;}#sk-container-id-6 div.sk-toggleable__content {max-height: 0;max-width: 0;overflow: hidden;text-align: left;background-color: #f0f8ff;}#sk-container-id-6 div.sk-toggleable__content pre {margin: 0.2em;color: black;border-radius: 0.25em;background-color: #f0f8ff;}#sk-container-id-6 input.sk-toggleable__control:checked~div.sk-toggleable__content {max-height: 200px;max-width: 100%;overflow: auto;}#sk-container-id-6 input.sk-toggleable__control:checked~label.sk-toggleable__label-arrow:before {content: \"▾\";}#sk-container-id-6 div.sk-estimator input.sk-toggleable__control:checked~label.sk-toggleable__label {background-color: #d4ebff;}#sk-container-id-6 div.sk-label input.sk-toggleable__control:checked~label.sk-toggleable__label {background-color: #d4ebff;}#sk-container-id-6 input.sk-hidden--visually {border: 0;clip: rect(1px 1px 1px 1px);clip: rect(1px, 1px, 1px, 1px);height: 1px;margin: -1px;overflow: hidden;padding: 0;position: absolute;width: 1px;}#sk-container-id-6 div.sk-estimator {font-family: monospace;background-color: #f0f8ff;border: 1px dotted black;border-radius: 0.25em;box-sizing: border-box;margin-bottom: 0.5em;}#sk-container-id-6 div.sk-estimator:hover {background-color: #d4ebff;}#sk-container-id-6 div.sk-parallel-item::after {content: \"\";width: 100%;border-bottom: 1px solid gray;flex-grow: 1;}#sk-container-id-6 div.sk-label:hover label.sk-toggleable__label {background-color: #d4ebff;}#sk-container-id-6 div.sk-serial::before {content: \"\";position: absolute;border-left: 1px solid gray;box-sizing: border-box;top: 0;bottom: 0;left: 50%;z-index: 0;}#sk-container-id-6 div.sk-serial {display: flex;flex-direction: column;align-items: center;background-color: white;padding-right: 0.2em;padding-left: 0.2em;position: relative;}#sk-container-id-6 div.sk-item {position: relative;z-index: 1;}#sk-container-id-6 div.sk-parallel {display: flex;align-items: stretch;justify-content: center;background-color: white;position: relative;}#sk-container-id-6 div.sk-item::before, #sk-container-id-6 div.sk-parallel-item::before {content: \"\";position: absolute;border-left: 1px solid gray;box-sizing: border-box;top: 0;bottom: 0;left: 50%;z-index: -1;}#sk-container-id-6 div.sk-parallel-item {display: flex;flex-direction: column;z-index: 1;position: relative;background-color: white;}#sk-container-id-6 div.sk-parallel-item:first-child::after {align-self: flex-end;width: 50%;}#sk-container-id-6 div.sk-parallel-item:last-child::after {align-self: flex-start;width: 50%;}#sk-container-id-6 div.sk-parallel-item:only-child::after {width: 0;}#sk-container-id-6 div.sk-dashed-wrapped {border: 1px dashed gray;margin: 0 0.4em 0.5em 0.4em;box-sizing: border-box;padding-bottom: 0.4em;background-color: white;}#sk-container-id-6 div.sk-label label {font-family: monospace;font-weight: bold;display: inline-block;line-height: 1.2em;}#sk-container-id-6 div.sk-label-container {text-align: center;}#sk-container-id-6 div.sk-container {/* jupyter's `normalize.less` sets `[hidden] { display: none; }` but bootstrap.min.css set `[hidden] { display: none !important; }` so we also need the `!important` here to be able to override the default hidden behavior on the sphinx rendered scikit-learn.org. See: https://github.com/scikit-learn/scikit-learn/issues/21755 */display: inline-block !important;position: relative;}#sk-container-id-6 div.sk-text-repr-fallback {display: none;}</style><div id=\"sk-container-id-6\" class=\"sk-top-container\"><div class=\"sk-text-repr-fallback\"><pre>MLPClassifier(batch_size=32, hidden_layer_sizes=(128,), max_iter=400,\n",
       "              random_state=13)</pre><b>In a Jupyter environment, please rerun this cell to show the HTML representation or trust the notebook. <br />On GitHub, the HTML representation is unable to render, please try loading this page with nbviewer.org.</b></div><div class=\"sk-container\" hidden><div class=\"sk-item\"><div class=\"sk-estimator sk-toggleable\"><input class=\"sk-toggleable__control sk-hidden--visually\" id=\"sk-estimator-id-6\" type=\"checkbox\" checked><label for=\"sk-estimator-id-6\" class=\"sk-toggleable__label sk-toggleable__label-arrow\">MLPClassifier</label><div class=\"sk-toggleable__content\"><pre>MLPClassifier(batch_size=32, hidden_layer_sizes=(128,), max_iter=400,\n",
       "              random_state=13)</pre></div></div></div></div></div>"
      ],
      "text/plain": [
       "MLPClassifier(batch_size=32, hidden_layer_sizes=(128,), max_iter=400,\n",
       "              random_state=13)"
      ]
     },
     "execution_count": 244,
     "metadata": {},
     "output_type": "execute_result"
    }
   ],
   "source": [
    "#network.fit(x_tfidf, y_train)"
   ]
  },
  {
   "cell_type": "code",
   "execution_count": 75,
   "metadata": {},
   "outputs": [],
   "source": [
    "gscv = GridSearchCV(network, try_params, cv=5, n_jobs=-1, verbose=3, return_train_score=True)\n"
   ]
  },
  {
   "cell_type": "code",
   "execution_count": 97,
   "metadata": {},
   "outputs": [
    {
     "name": "stdout",
     "output_type": "stream",
     "text": [
      "Fitting 5 folds for each of 25 candidates, totalling 125 fits\n"
     ]
    },
    {
     "data": {
      "text/html": [
       "<style>#sk-container-id-1 {color: black;background-color: white;}#sk-container-id-1 pre{padding: 0;}#sk-container-id-1 div.sk-toggleable {background-color: white;}#sk-container-id-1 label.sk-toggleable__label {cursor: pointer;display: block;width: 100%;margin-bottom: 0;padding: 0.3em;box-sizing: border-box;text-align: center;}#sk-container-id-1 label.sk-toggleable__label-arrow:before {content: \"▸\";float: left;margin-right: 0.25em;color: #696969;}#sk-container-id-1 label.sk-toggleable__label-arrow:hover:before {color: black;}#sk-container-id-1 div.sk-estimator:hover label.sk-toggleable__label-arrow:before {color: black;}#sk-container-id-1 div.sk-toggleable__content {max-height: 0;max-width: 0;overflow: hidden;text-align: left;background-color: #f0f8ff;}#sk-container-id-1 div.sk-toggleable__content pre {margin: 0.2em;color: black;border-radius: 0.25em;background-color: #f0f8ff;}#sk-container-id-1 input.sk-toggleable__control:checked~div.sk-toggleable__content {max-height: 200px;max-width: 100%;overflow: auto;}#sk-container-id-1 input.sk-toggleable__control:checked~label.sk-toggleable__label-arrow:before {content: \"▾\";}#sk-container-id-1 div.sk-estimator input.sk-toggleable__control:checked~label.sk-toggleable__label {background-color: #d4ebff;}#sk-container-id-1 div.sk-label input.sk-toggleable__control:checked~label.sk-toggleable__label {background-color: #d4ebff;}#sk-container-id-1 input.sk-hidden--visually {border: 0;clip: rect(1px 1px 1px 1px);clip: rect(1px, 1px, 1px, 1px);height: 1px;margin: -1px;overflow: hidden;padding: 0;position: absolute;width: 1px;}#sk-container-id-1 div.sk-estimator {font-family: monospace;background-color: #f0f8ff;border: 1px dotted black;border-radius: 0.25em;box-sizing: border-box;margin-bottom: 0.5em;}#sk-container-id-1 div.sk-estimator:hover {background-color: #d4ebff;}#sk-container-id-1 div.sk-parallel-item::after {content: \"\";width: 100%;border-bottom: 1px solid gray;flex-grow: 1;}#sk-container-id-1 div.sk-label:hover label.sk-toggleable__label {background-color: #d4ebff;}#sk-container-id-1 div.sk-serial::before {content: \"\";position: absolute;border-left: 1px solid gray;box-sizing: border-box;top: 0;bottom: 0;left: 50%;z-index: 0;}#sk-container-id-1 div.sk-serial {display: flex;flex-direction: column;align-items: center;background-color: white;padding-right: 0.2em;padding-left: 0.2em;position: relative;}#sk-container-id-1 div.sk-item {position: relative;z-index: 1;}#sk-container-id-1 div.sk-parallel {display: flex;align-items: stretch;justify-content: center;background-color: white;position: relative;}#sk-container-id-1 div.sk-item::before, #sk-container-id-1 div.sk-parallel-item::before {content: \"\";position: absolute;border-left: 1px solid gray;box-sizing: border-box;top: 0;bottom: 0;left: 50%;z-index: -1;}#sk-container-id-1 div.sk-parallel-item {display: flex;flex-direction: column;z-index: 1;position: relative;background-color: white;}#sk-container-id-1 div.sk-parallel-item:first-child::after {align-self: flex-end;width: 50%;}#sk-container-id-1 div.sk-parallel-item:last-child::after {align-self: flex-start;width: 50%;}#sk-container-id-1 div.sk-parallel-item:only-child::after {width: 0;}#sk-container-id-1 div.sk-dashed-wrapped {border: 1px dashed gray;margin: 0 0.4em 0.5em 0.4em;box-sizing: border-box;padding-bottom: 0.4em;background-color: white;}#sk-container-id-1 div.sk-label label {font-family: monospace;font-weight: bold;display: inline-block;line-height: 1.2em;}#sk-container-id-1 div.sk-label-container {text-align: center;}#sk-container-id-1 div.sk-container {/* jupyter's `normalize.less` sets `[hidden] { display: none; }` but bootstrap.min.css set `[hidden] { display: none !important; }` so we also need the `!important` here to be able to override the default hidden behavior on the sphinx rendered scikit-learn.org. See: https://github.com/scikit-learn/scikit-learn/issues/21755 */display: inline-block !important;position: relative;}#sk-container-id-1 div.sk-text-repr-fallback {display: none;}</style><div id=\"sk-container-id-1\" class=\"sk-top-container\"><div class=\"sk-text-repr-fallback\"><pre>GridSearchCV(cv=5,\n",
       "             estimator=MLPClassifier(batch_size=32, hidden_layer_sizes=(128,),\n",
       "                                     max_iter=400, random_state=13),\n",
       "             n_jobs=-1,\n",
       "             param_grid={&#x27;alpha&#x27;: array([1.e-04, 1.e-03, 1.e-02, 1.e-01, 1.e+00]),\n",
       "                         &#x27;hidden_layer_sizes&#x27;: [(32,), (64,), (64, 32),\n",
       "                                                (64, 16), (64, 32, 16)]},\n",
       "             return_train_score=True, verbose=3)</pre><b>In a Jupyter environment, please rerun this cell to show the HTML representation or trust the notebook. <br />On GitHub, the HTML representation is unable to render, please try loading this page with nbviewer.org.</b></div><div class=\"sk-container\" hidden><div class=\"sk-item sk-dashed-wrapped\"><div class=\"sk-label-container\"><div class=\"sk-label sk-toggleable\"><input class=\"sk-toggleable__control sk-hidden--visually\" id=\"sk-estimator-id-1\" type=\"checkbox\" ><label for=\"sk-estimator-id-1\" class=\"sk-toggleable__label sk-toggleable__label-arrow\">GridSearchCV</label><div class=\"sk-toggleable__content\"><pre>GridSearchCV(cv=5,\n",
       "             estimator=MLPClassifier(batch_size=32, hidden_layer_sizes=(128,),\n",
       "                                     max_iter=400, random_state=13),\n",
       "             n_jobs=-1,\n",
       "             param_grid={&#x27;alpha&#x27;: array([1.e-04, 1.e-03, 1.e-02, 1.e-01, 1.e+00]),\n",
       "                         &#x27;hidden_layer_sizes&#x27;: [(32,), (64,), (64, 32),\n",
       "                                                (64, 16), (64, 32, 16)]},\n",
       "             return_train_score=True, verbose=3)</pre></div></div></div><div class=\"sk-parallel\"><div class=\"sk-parallel-item\"><div class=\"sk-item\"><div class=\"sk-label-container\"><div class=\"sk-label sk-toggleable\"><input class=\"sk-toggleable__control sk-hidden--visually\" id=\"sk-estimator-id-2\" type=\"checkbox\" ><label for=\"sk-estimator-id-2\" class=\"sk-toggleable__label sk-toggleable__label-arrow\">estimator: MLPClassifier</label><div class=\"sk-toggleable__content\"><pre>MLPClassifier(batch_size=32, hidden_layer_sizes=(128,), max_iter=400,\n",
       "              random_state=13)</pre></div></div></div><div class=\"sk-serial\"><div class=\"sk-item\"><div class=\"sk-estimator sk-toggleable\"><input class=\"sk-toggleable__control sk-hidden--visually\" id=\"sk-estimator-id-3\" type=\"checkbox\" ><label for=\"sk-estimator-id-3\" class=\"sk-toggleable__label sk-toggleable__label-arrow\">MLPClassifier</label><div class=\"sk-toggleable__content\"><pre>MLPClassifier(batch_size=32, hidden_layer_sizes=(128,), max_iter=400,\n",
       "              random_state=13)</pre></div></div></div></div></div></div></div></div></div></div>"
      ],
      "text/plain": [
       "GridSearchCV(cv=5,\n",
       "             estimator=MLPClassifier(batch_size=32, hidden_layer_sizes=(128,),\n",
       "                                     max_iter=400, random_state=13),\n",
       "             n_jobs=-1,\n",
       "             param_grid={'alpha': array([1.e-04, 1.e-03, 1.e-02, 1.e-01, 1.e+00]),\n",
       "                         'hidden_layer_sizes': [(32,), (64,), (64, 32),\n",
       "                                                (64, 16), (64, 32, 16)]},\n",
       "             return_train_score=True, verbose=3)"
      ]
     },
     "execution_count": 97,
     "metadata": {},
     "output_type": "execute_result"
    }
   ],
   "source": [
    "gscv.fit(x_train_sparse, y_train)"
   ]
  },
  {
   "cell_type": "code",
   "execution_count": 100,
   "metadata": {},
   "outputs": [
    {
     "data": {
      "text/plain": [
       "0.8158333333333333"
      ]
     },
     "execution_count": 100,
     "metadata": {},
     "output_type": "execute_result"
    }
   ],
   "source": [
    "gscv.best_score_"
   ]
  },
  {
   "cell_type": "code",
   "execution_count": 436,
   "metadata": {},
   "outputs": [
    {
     "data": {
      "text/plain": [
       "dict_keys(['mean_fit_time', 'std_fit_time', 'mean_score_time', 'std_score_time', 'param_alpha', 'param_hidden_layer_sizes', 'params', 'split0_test_score', 'split1_test_score', 'split2_test_score', 'split3_test_score', 'split4_test_score', 'mean_test_score', 'std_test_score', 'rank_test_score'])"
      ]
     },
     "execution_count": 436,
     "metadata": {},
     "output_type": "execute_result"
    }
   ],
   "source": [
    "#gscv.cv_results_.keys()"
   ]
  },
  {
   "cell_type": "code",
   "execution_count": 101,
   "metadata": {},
   "outputs": [],
   "source": [
    "mlp_y_hat = gscv.predict(x_test_tfidf)"
   ]
  },
  {
   "cell_type": "code",
   "execution_count": 102,
   "metadata": {},
   "outputs": [
    {
     "data": {
      "text/plain": [
       "281.0"
      ]
     },
     "execution_count": 102,
     "metadata": {},
     "output_type": "execute_result"
    }
   ],
   "source": [
    "sum(mlp_y_hat)"
   ]
  },
  {
   "cell_type": "code",
   "execution_count": 103,
   "metadata": {},
   "outputs": [],
   "source": [
    "np.savetxt('yproba1_test.txt', mlp_y_hat)"
   ]
  },
  {
   "cell_type": "code",
   "execution_count": 98,
   "metadata": {},
   "outputs": [],
   "source": [
    "with open('mlp_gscv_results.pkl','wb') as f:\n",
    "    pickle.dump(gscv.cv_results_,f)"
   ]
  },
  {
   "cell_type": "code",
   "execution_count": 208,
   "metadata": {},
   "outputs": [],
   "source": [
    "with open('mlp_gscv_results.pkl','rb') as f:\n",
    "    gscv_results = pickle.load(f)"
   ]
  },
  {
   "cell_type": "code",
   "execution_count": 209,
   "metadata": {},
   "outputs": [
    {
     "data": {
      "text/plain": [
       "dict_keys(['mean_fit_time', 'std_fit_time', 'mean_score_time', 'std_score_time', 'param_alpha', 'param_hidden_layer_sizes', 'params', 'split0_test_score', 'split1_test_score', 'split2_test_score', 'split3_test_score', 'split4_test_score', 'mean_test_score', 'std_test_score', 'rank_test_score', 'split0_train_score', 'split1_train_score', 'split2_train_score', 'split3_train_score', 'split4_train_score', 'mean_train_score', 'std_train_score'])"
      ]
     },
     "execution_count": 209,
     "metadata": {},
     "output_type": "execute_result"
    }
   ],
   "source": [
    "gscv_results.keys()"
   ]
  },
  {
   "cell_type": "code",
   "execution_count": 210,
   "metadata": {},
   "outputs": [],
   "source": [
    "gscv_df = pd.DataFrame(gscv_results)"
   ]
  },
  {
   "cell_type": "code",
   "execution_count": 211,
   "metadata": {},
   "outputs": [
    {
     "data": {
      "text/html": [
       "<div>\n",
       "<style scoped>\n",
       "    .dataframe tbody tr th:only-of-type {\n",
       "        vertical-align: middle;\n",
       "    }\n",
       "\n",
       "    .dataframe tbody tr th {\n",
       "        vertical-align: top;\n",
       "    }\n",
       "\n",
       "    .dataframe thead th {\n",
       "        text-align: right;\n",
       "    }\n",
       "</style>\n",
       "<table border=\"1\" class=\"dataframe\">\n",
       "  <thead>\n",
       "    <tr style=\"text-align: right;\">\n",
       "      <th></th>\n",
       "      <th>mean_fit_time</th>\n",
       "      <th>std_fit_time</th>\n",
       "      <th>mean_score_time</th>\n",
       "      <th>std_score_time</th>\n",
       "      <th>param_alpha</th>\n",
       "      <th>param_hidden_layer_sizes</th>\n",
       "      <th>params</th>\n",
       "      <th>split0_test_score</th>\n",
       "      <th>split1_test_score</th>\n",
       "      <th>split2_test_score</th>\n",
       "      <th>...</th>\n",
       "      <th>mean_test_score</th>\n",
       "      <th>std_test_score</th>\n",
       "      <th>rank_test_score</th>\n",
       "      <th>split0_train_score</th>\n",
       "      <th>split1_train_score</th>\n",
       "      <th>split2_train_score</th>\n",
       "      <th>split3_train_score</th>\n",
       "      <th>split4_train_score</th>\n",
       "      <th>mean_train_score</th>\n",
       "      <th>std_train_score</th>\n",
       "    </tr>\n",
       "  </thead>\n",
       "  <tbody>\n",
       "    <tr>\n",
       "      <th>0</th>\n",
       "      <td>409.527088</td>\n",
       "      <td>69.650121</td>\n",
       "      <td>0.006433</td>\n",
       "      <td>0.006019</td>\n",
       "      <td>0.0001</td>\n",
       "      <td>(32,)</td>\n",
       "      <td>{'alpha': 0.00010000000000000002, 'hidden_laye...</td>\n",
       "      <td>0.804167</td>\n",
       "      <td>0.812500</td>\n",
       "      <td>0.781250</td>\n",
       "      <td>...</td>\n",
       "      <td>0.794167</td>\n",
       "      <td>0.015557</td>\n",
       "      <td>12</td>\n",
       "      <td>0.998958</td>\n",
       "      <td>0.999479</td>\n",
       "      <td>1.000000</td>\n",
       "      <td>1.000000</td>\n",
       "      <td>0.998958</td>\n",
       "      <td>0.999479</td>\n",
       "      <td>0.000466</td>\n",
       "    </tr>\n",
       "    <tr>\n",
       "      <th>1</th>\n",
       "      <td>680.979900</td>\n",
       "      <td>152.802551</td>\n",
       "      <td>0.016516</td>\n",
       "      <td>0.008523</td>\n",
       "      <td>0.0001</td>\n",
       "      <td>(64,)</td>\n",
       "      <td>{'alpha': 0.00010000000000000002, 'hidden_laye...</td>\n",
       "      <td>0.806250</td>\n",
       "      <td>0.806250</td>\n",
       "      <td>0.781250</td>\n",
       "      <td>...</td>\n",
       "      <td>0.794583</td>\n",
       "      <td>0.014530</td>\n",
       "      <td>11</td>\n",
       "      <td>0.998958</td>\n",
       "      <td>0.999479</td>\n",
       "      <td>1.000000</td>\n",
       "      <td>1.000000</td>\n",
       "      <td>0.998958</td>\n",
       "      <td>0.999479</td>\n",
       "      <td>0.000466</td>\n",
       "    </tr>\n",
       "    <tr>\n",
       "      <th>2</th>\n",
       "      <td>342.715524</td>\n",
       "      <td>52.330778</td>\n",
       "      <td>0.021936</td>\n",
       "      <td>0.015903</td>\n",
       "      <td>0.0001</td>\n",
       "      <td>(64, 32)</td>\n",
       "      <td>{'alpha': 0.00010000000000000002, 'hidden_laye...</td>\n",
       "      <td>0.808333</td>\n",
       "      <td>0.800000</td>\n",
       "      <td>0.781250</td>\n",
       "      <td>...</td>\n",
       "      <td>0.792917</td>\n",
       "      <td>0.016436</td>\n",
       "      <td>15</td>\n",
       "      <td>0.999479</td>\n",
       "      <td>0.999479</td>\n",
       "      <td>1.000000</td>\n",
       "      <td>1.000000</td>\n",
       "      <td>0.999479</td>\n",
       "      <td>0.999687</td>\n",
       "      <td>0.000255</td>\n",
       "    </tr>\n",
       "    <tr>\n",
       "      <th>3</th>\n",
       "      <td>434.578155</td>\n",
       "      <td>92.664258</td>\n",
       "      <td>0.011330</td>\n",
       "      <td>0.008455</td>\n",
       "      <td>0.0001</td>\n",
       "      <td>(64, 16)</td>\n",
       "      <td>{'alpha': 0.00010000000000000002, 'hidden_laye...</td>\n",
       "      <td>0.789583</td>\n",
       "      <td>0.789583</td>\n",
       "      <td>0.783333</td>\n",
       "      <td>...</td>\n",
       "      <td>0.788333</td>\n",
       "      <td>0.013411</td>\n",
       "      <td>17</td>\n",
       "      <td>0.999479</td>\n",
       "      <td>0.999479</td>\n",
       "      <td>1.000000</td>\n",
       "      <td>1.000000</td>\n",
       "      <td>0.999479</td>\n",
       "      <td>0.999687</td>\n",
       "      <td>0.000255</td>\n",
       "    </tr>\n",
       "    <tr>\n",
       "      <th>4</th>\n",
       "      <td>277.853669</td>\n",
       "      <td>44.585717</td>\n",
       "      <td>0.004998</td>\n",
       "      <td>0.006198</td>\n",
       "      <td>0.0001</td>\n",
       "      <td>(64, 32, 16)</td>\n",
       "      <td>{'alpha': 0.00010000000000000002, 'hidden_laye...</td>\n",
       "      <td>0.800000</td>\n",
       "      <td>0.791667</td>\n",
       "      <td>0.793750</td>\n",
       "      <td>...</td>\n",
       "      <td>0.793750</td>\n",
       "      <td>0.007336</td>\n",
       "      <td>13</td>\n",
       "      <td>0.999479</td>\n",
       "      <td>0.999479</td>\n",
       "      <td>1.000000</td>\n",
       "      <td>1.000000</td>\n",
       "      <td>0.999479</td>\n",
       "      <td>0.999687</td>\n",
       "      <td>0.000255</td>\n",
       "    </tr>\n",
       "    <tr>\n",
       "      <th>5</th>\n",
       "      <td>557.415396</td>\n",
       "      <td>103.764636</td>\n",
       "      <td>0.007859</td>\n",
       "      <td>0.002045</td>\n",
       "      <td>0.001</td>\n",
       "      <td>(32,)</td>\n",
       "      <td>{'alpha': 0.0010000000000000002, 'hidden_layer...</td>\n",
       "      <td>0.816667</td>\n",
       "      <td>0.793750</td>\n",
       "      <td>0.781250</td>\n",
       "      <td>...</td>\n",
       "      <td>0.797500</td>\n",
       "      <td>0.015501</td>\n",
       "      <td>9</td>\n",
       "      <td>0.998958</td>\n",
       "      <td>0.999479</td>\n",
       "      <td>1.000000</td>\n",
       "      <td>1.000000</td>\n",
       "      <td>0.998958</td>\n",
       "      <td>0.999479</td>\n",
       "      <td>0.000466</td>\n",
       "    </tr>\n",
       "    <tr>\n",
       "      <th>6</th>\n",
       "      <td>1046.814128</td>\n",
       "      <td>159.837164</td>\n",
       "      <td>0.010187</td>\n",
       "      <td>0.000785</td>\n",
       "      <td>0.001</td>\n",
       "      <td>(64,)</td>\n",
       "      <td>{'alpha': 0.0010000000000000002, 'hidden_layer...</td>\n",
       "      <td>0.818750</td>\n",
       "      <td>0.795833</td>\n",
       "      <td>0.777083</td>\n",
       "      <td>...</td>\n",
       "      <td>0.797917</td>\n",
       "      <td>0.016510</td>\n",
       "      <td>8</td>\n",
       "      <td>0.999479</td>\n",
       "      <td>0.999479</td>\n",
       "      <td>1.000000</td>\n",
       "      <td>1.000000</td>\n",
       "      <td>0.998958</td>\n",
       "      <td>0.999583</td>\n",
       "      <td>0.000390</td>\n",
       "    </tr>\n",
       "    <tr>\n",
       "      <th>7</th>\n",
       "      <td>458.188974</td>\n",
       "      <td>100.440140</td>\n",
       "      <td>0.023638</td>\n",
       "      <td>0.029047</td>\n",
       "      <td>0.001</td>\n",
       "      <td>(64, 32)</td>\n",
       "      <td>{'alpha': 0.0010000000000000002, 'hidden_layer...</td>\n",
       "      <td>0.804167</td>\n",
       "      <td>0.795833</td>\n",
       "      <td>0.772917</td>\n",
       "      <td>...</td>\n",
       "      <td>0.789167</td>\n",
       "      <td>0.017351</td>\n",
       "      <td>16</td>\n",
       "      <td>0.999479</td>\n",
       "      <td>0.999479</td>\n",
       "      <td>1.000000</td>\n",
       "      <td>1.000000</td>\n",
       "      <td>0.999479</td>\n",
       "      <td>0.999687</td>\n",
       "      <td>0.000255</td>\n",
       "    </tr>\n",
       "    <tr>\n",
       "      <th>8</th>\n",
       "      <td>455.846180</td>\n",
       "      <td>97.390204</td>\n",
       "      <td>0.013456</td>\n",
       "      <td>0.006604</td>\n",
       "      <td>0.001</td>\n",
       "      <td>(64, 16)</td>\n",
       "      <td>{'alpha': 0.0010000000000000002, 'hidden_layer...</td>\n",
       "      <td>0.804167</td>\n",
       "      <td>0.802083</td>\n",
       "      <td>0.781250</td>\n",
       "      <td>...</td>\n",
       "      <td>0.793750</td>\n",
       "      <td>0.014006</td>\n",
       "      <td>14</td>\n",
       "      <td>0.999479</td>\n",
       "      <td>0.999479</td>\n",
       "      <td>1.000000</td>\n",
       "      <td>1.000000</td>\n",
       "      <td>0.999479</td>\n",
       "      <td>0.999687</td>\n",
       "      <td>0.000255</td>\n",
       "    </tr>\n",
       "    <tr>\n",
       "      <th>9</th>\n",
       "      <td>371.845694</td>\n",
       "      <td>96.028293</td>\n",
       "      <td>0.020980</td>\n",
       "      <td>0.016707</td>\n",
       "      <td>0.001</td>\n",
       "      <td>(64, 32, 16)</td>\n",
       "      <td>{'alpha': 0.0010000000000000002, 'hidden_layer...</td>\n",
       "      <td>0.808333</td>\n",
       "      <td>0.797917</td>\n",
       "      <td>0.754167</td>\n",
       "      <td>...</td>\n",
       "      <td>0.787500</td>\n",
       "      <td>0.023680</td>\n",
       "      <td>19</td>\n",
       "      <td>0.999479</td>\n",
       "      <td>0.999479</td>\n",
       "      <td>1.000000</td>\n",
       "      <td>1.000000</td>\n",
       "      <td>0.999479</td>\n",
       "      <td>0.999687</td>\n",
       "      <td>0.000255</td>\n",
       "    </tr>\n",
       "    <tr>\n",
       "      <th>10</th>\n",
       "      <td>586.795665</td>\n",
       "      <td>17.875779</td>\n",
       "      <td>0.015340</td>\n",
       "      <td>0.013504</td>\n",
       "      <td>0.01</td>\n",
       "      <td>(32,)</td>\n",
       "      <td>{'alpha': 0.010000000000000002, 'hidden_layer_...</td>\n",
       "      <td>0.825000</td>\n",
       "      <td>0.802083</td>\n",
       "      <td>0.783333</td>\n",
       "      <td>...</td>\n",
       "      <td>0.804167</td>\n",
       "      <td>0.015756</td>\n",
       "      <td>5</td>\n",
       "      <td>0.998958</td>\n",
       "      <td>0.999479</td>\n",
       "      <td>1.000000</td>\n",
       "      <td>0.999479</td>\n",
       "      <td>0.998958</td>\n",
       "      <td>0.999375</td>\n",
       "      <td>0.000390</td>\n",
       "    </tr>\n",
       "    <tr>\n",
       "      <th>11</th>\n",
       "      <td>860.034397</td>\n",
       "      <td>69.065686</td>\n",
       "      <td>0.005391</td>\n",
       "      <td>0.004469</td>\n",
       "      <td>0.01</td>\n",
       "      <td>(64,)</td>\n",
       "      <td>{'alpha': 0.010000000000000002, 'hidden_layer_...</td>\n",
       "      <td>0.825000</td>\n",
       "      <td>0.808333</td>\n",
       "      <td>0.791667</td>\n",
       "      <td>...</td>\n",
       "      <td>0.807500</td>\n",
       "      <td>0.013216</td>\n",
       "      <td>3</td>\n",
       "      <td>0.998958</td>\n",
       "      <td>0.999479</td>\n",
       "      <td>0.999479</td>\n",
       "      <td>0.998958</td>\n",
       "      <td>0.998958</td>\n",
       "      <td>0.999167</td>\n",
       "      <td>0.000255</td>\n",
       "    </tr>\n",
       "    <tr>\n",
       "      <th>12</th>\n",
       "      <td>637.875722</td>\n",
       "      <td>58.014627</td>\n",
       "      <td>0.009076</td>\n",
       "      <td>0.005814</td>\n",
       "      <td>0.01</td>\n",
       "      <td>(64, 32)</td>\n",
       "      <td>{'alpha': 0.010000000000000002, 'hidden_layer_...</td>\n",
       "      <td>0.822917</td>\n",
       "      <td>0.783333</td>\n",
       "      <td>0.754167</td>\n",
       "      <td>...</td>\n",
       "      <td>0.787917</td>\n",
       "      <td>0.024274</td>\n",
       "      <td>18</td>\n",
       "      <td>0.999479</td>\n",
       "      <td>0.999479</td>\n",
       "      <td>1.000000</td>\n",
       "      <td>0.999479</td>\n",
       "      <td>0.999479</td>\n",
       "      <td>0.999583</td>\n",
       "      <td>0.000208</td>\n",
       "    </tr>\n",
       "    <tr>\n",
       "      <th>13</th>\n",
       "      <td>589.574834</td>\n",
       "      <td>80.621011</td>\n",
       "      <td>0.015449</td>\n",
       "      <td>0.011957</td>\n",
       "      <td>0.01</td>\n",
       "      <td>(64, 16)</td>\n",
       "      <td>{'alpha': 0.010000000000000002, 'hidden_layer_...</td>\n",
       "      <td>0.822917</td>\n",
       "      <td>0.797917</td>\n",
       "      <td>0.770833</td>\n",
       "      <td>...</td>\n",
       "      <td>0.796667</td>\n",
       "      <td>0.017310</td>\n",
       "      <td>10</td>\n",
       "      <td>0.999479</td>\n",
       "      <td>0.999479</td>\n",
       "      <td>1.000000</td>\n",
       "      <td>1.000000</td>\n",
       "      <td>0.999479</td>\n",
       "      <td>0.999687</td>\n",
       "      <td>0.000255</td>\n",
       "    </tr>\n",
       "    <tr>\n",
       "      <th>14</th>\n",
       "      <td>328.017506</td>\n",
       "      <td>31.328070</td>\n",
       "      <td>0.008017</td>\n",
       "      <td>0.005100</td>\n",
       "      <td>0.01</td>\n",
       "      <td>(64, 32, 16)</td>\n",
       "      <td>{'alpha': 0.010000000000000002, 'hidden_layer_...</td>\n",
       "      <td>0.810417</td>\n",
       "      <td>0.791667</td>\n",
       "      <td>0.764583</td>\n",
       "      <td>...</td>\n",
       "      <td>0.778333</td>\n",
       "      <td>0.026829</td>\n",
       "      <td>20</td>\n",
       "      <td>0.999479</td>\n",
       "      <td>0.999479</td>\n",
       "      <td>1.000000</td>\n",
       "      <td>1.000000</td>\n",
       "      <td>0.996354</td>\n",
       "      <td>0.999062</td>\n",
       "      <td>0.001374</td>\n",
       "    </tr>\n",
       "    <tr>\n",
       "      <th>15</th>\n",
       "      <td>308.637774</td>\n",
       "      <td>27.054190</td>\n",
       "      <td>0.008586</td>\n",
       "      <td>0.007202</td>\n",
       "      <td>0.1</td>\n",
       "      <td>(32,)</td>\n",
       "      <td>{'alpha': 0.1, 'hidden_layer_sizes': (32,)}</td>\n",
       "      <td>0.839583</td>\n",
       "      <td>0.822917</td>\n",
       "      <td>0.783333</td>\n",
       "      <td>...</td>\n",
       "      <td>0.815833</td>\n",
       "      <td>0.021107</td>\n",
       "      <td>1</td>\n",
       "      <td>0.991146</td>\n",
       "      <td>0.994792</td>\n",
       "      <td>0.994271</td>\n",
       "      <td>0.993750</td>\n",
       "      <td>0.992188</td>\n",
       "      <td>0.993229</td>\n",
       "      <td>0.001358</td>\n",
       "    </tr>\n",
       "    <tr>\n",
       "      <th>16</th>\n",
       "      <td>549.920982</td>\n",
       "      <td>84.503965</td>\n",
       "      <td>0.255090</td>\n",
       "      <td>0.473129</td>\n",
       "      <td>0.1</td>\n",
       "      <td>(64,)</td>\n",
       "      <td>{'alpha': 0.1, 'hidden_layer_sizes': (64,)}</td>\n",
       "      <td>0.825000</td>\n",
       "      <td>0.827083</td>\n",
       "      <td>0.789583</td>\n",
       "      <td>...</td>\n",
       "      <td>0.812917</td>\n",
       "      <td>0.019248</td>\n",
       "      <td>2</td>\n",
       "      <td>0.994271</td>\n",
       "      <td>0.994792</td>\n",
       "      <td>0.994792</td>\n",
       "      <td>0.994792</td>\n",
       "      <td>0.991667</td>\n",
       "      <td>0.994063</td>\n",
       "      <td>0.001215</td>\n",
       "    </tr>\n",
       "    <tr>\n",
       "      <th>17</th>\n",
       "      <td>896.071064</td>\n",
       "      <td>340.597031</td>\n",
       "      <td>0.106865</td>\n",
       "      <td>0.067618</td>\n",
       "      <td>0.1</td>\n",
       "      <td>(64, 32)</td>\n",
       "      <td>{'alpha': 0.1, 'hidden_layer_sizes': (64, 32)}</td>\n",
       "      <td>0.835417</td>\n",
       "      <td>0.797917</td>\n",
       "      <td>0.793750</td>\n",
       "      <td>...</td>\n",
       "      <td>0.804583</td>\n",
       "      <td>0.023102</td>\n",
       "      <td>4</td>\n",
       "      <td>0.998958</td>\n",
       "      <td>0.999479</td>\n",
       "      <td>0.998437</td>\n",
       "      <td>0.998958</td>\n",
       "      <td>0.998958</td>\n",
       "      <td>0.998958</td>\n",
       "      <td>0.000329</td>\n",
       "    </tr>\n",
       "    <tr>\n",
       "      <th>18</th>\n",
       "      <td>1108.217070</td>\n",
       "      <td>399.052978</td>\n",
       "      <td>0.053174</td>\n",
       "      <td>0.030360</td>\n",
       "      <td>0.1</td>\n",
       "      <td>(64, 16)</td>\n",
       "      <td>{'alpha': 0.1, 'hidden_layer_sizes': (64, 16)}</td>\n",
       "      <td>0.829167</td>\n",
       "      <td>0.814583</td>\n",
       "      <td>0.789583</td>\n",
       "      <td>...</td>\n",
       "      <td>0.803750</td>\n",
       "      <td>0.019957</td>\n",
       "      <td>6</td>\n",
       "      <td>0.999479</td>\n",
       "      <td>0.999479</td>\n",
       "      <td>0.999479</td>\n",
       "      <td>0.998958</td>\n",
       "      <td>0.999479</td>\n",
       "      <td>0.999375</td>\n",
       "      <td>0.000208</td>\n",
       "    </tr>\n",
       "    <tr>\n",
       "      <th>19</th>\n",
       "      <td>569.234227</td>\n",
       "      <td>123.818926</td>\n",
       "      <td>0.083174</td>\n",
       "      <td>0.108927</td>\n",
       "      <td>0.1</td>\n",
       "      <td>(64, 32, 16)</td>\n",
       "      <td>{'alpha': 0.1, 'hidden_layer_sizes': (64, 32, ...</td>\n",
       "      <td>0.820833</td>\n",
       "      <td>0.791667</td>\n",
       "      <td>0.775000</td>\n",
       "      <td>...</td>\n",
       "      <td>0.799583</td>\n",
       "      <td>0.025563</td>\n",
       "      <td>7</td>\n",
       "      <td>0.999479</td>\n",
       "      <td>0.999479</td>\n",
       "      <td>0.999479</td>\n",
       "      <td>1.000000</td>\n",
       "      <td>0.998437</td>\n",
       "      <td>0.999375</td>\n",
       "      <td>0.000510</td>\n",
       "    </tr>\n",
       "    <tr>\n",
       "      <th>20</th>\n",
       "      <td>245.232496</td>\n",
       "      <td>35.200506</td>\n",
       "      <td>0.007524</td>\n",
       "      <td>0.001575</td>\n",
       "      <td>1.0</td>\n",
       "      <td>(32,)</td>\n",
       "      <td>{'alpha': 1.0, 'hidden_layer_sizes': (32,)}</td>\n",
       "      <td>0.500000</td>\n",
       "      <td>0.504167</td>\n",
       "      <td>0.500000</td>\n",
       "      <td>...</td>\n",
       "      <td>0.500833</td>\n",
       "      <td>0.001667</td>\n",
       "      <td>21</td>\n",
       "      <td>0.500000</td>\n",
       "      <td>0.502083</td>\n",
       "      <td>0.500000</td>\n",
       "      <td>0.500000</td>\n",
       "      <td>0.500000</td>\n",
       "      <td>0.500417</td>\n",
       "      <td>0.000833</td>\n",
       "    </tr>\n",
       "    <tr>\n",
       "      <th>21</th>\n",
       "      <td>353.906811</td>\n",
       "      <td>57.915598</td>\n",
       "      <td>0.013140</td>\n",
       "      <td>0.003543</td>\n",
       "      <td>1.0</td>\n",
       "      <td>(64,)</td>\n",
       "      <td>{'alpha': 1.0, 'hidden_layer_sizes': (64,)}</td>\n",
       "      <td>0.500000</td>\n",
       "      <td>0.500000</td>\n",
       "      <td>0.502083</td>\n",
       "      <td>...</td>\n",
       "      <td>0.500417</td>\n",
       "      <td>0.000833</td>\n",
       "      <td>22</td>\n",
       "      <td>0.500000</td>\n",
       "      <td>0.500000</td>\n",
       "      <td>0.510417</td>\n",
       "      <td>0.502083</td>\n",
       "      <td>0.500000</td>\n",
       "      <td>0.502500</td>\n",
       "      <td>0.004040</td>\n",
       "    </tr>\n",
       "    <tr>\n",
       "      <th>22</th>\n",
       "      <td>320.192976</td>\n",
       "      <td>12.132258</td>\n",
       "      <td>0.016827</td>\n",
       "      <td>0.010776</td>\n",
       "      <td>1.0</td>\n",
       "      <td>(64, 32)</td>\n",
       "      <td>{'alpha': 1.0, 'hidden_layer_sizes': (64, 32)}</td>\n",
       "      <td>0.500000</td>\n",
       "      <td>0.500000</td>\n",
       "      <td>0.500000</td>\n",
       "      <td>...</td>\n",
       "      <td>0.500000</td>\n",
       "      <td>0.000000</td>\n",
       "      <td>23</td>\n",
       "      <td>0.500000</td>\n",
       "      <td>0.500000</td>\n",
       "      <td>0.500000</td>\n",
       "      <td>0.500000</td>\n",
       "      <td>0.500000</td>\n",
       "      <td>0.500000</td>\n",
       "      <td>0.000000</td>\n",
       "    </tr>\n",
       "    <tr>\n",
       "      <th>23</th>\n",
       "      <td>370.543663</td>\n",
       "      <td>10.600391</td>\n",
       "      <td>0.007784</td>\n",
       "      <td>0.006394</td>\n",
       "      <td>1.0</td>\n",
       "      <td>(64, 16)</td>\n",
       "      <td>{'alpha': 1.0, 'hidden_layer_sizes': (64, 16)}</td>\n",
       "      <td>0.500000</td>\n",
       "      <td>0.500000</td>\n",
       "      <td>0.500000</td>\n",
       "      <td>...</td>\n",
       "      <td>0.500000</td>\n",
       "      <td>0.000000</td>\n",
       "      <td>23</td>\n",
       "      <td>0.500000</td>\n",
       "      <td>0.500000</td>\n",
       "      <td>0.500000</td>\n",
       "      <td>0.500000</td>\n",
       "      <td>0.500000</td>\n",
       "      <td>0.500000</td>\n",
       "      <td>0.000000</td>\n",
       "    </tr>\n",
       "    <tr>\n",
       "      <th>24</th>\n",
       "      <td>287.655245</td>\n",
       "      <td>24.626595</td>\n",
       "      <td>0.009690</td>\n",
       "      <td>0.002944</td>\n",
       "      <td>1.0</td>\n",
       "      <td>(64, 32, 16)</td>\n",
       "      <td>{'alpha': 1.0, 'hidden_layer_sizes': (64, 32, ...</td>\n",
       "      <td>0.500000</td>\n",
       "      <td>0.500000</td>\n",
       "      <td>0.500000</td>\n",
       "      <td>...</td>\n",
       "      <td>0.500000</td>\n",
       "      <td>0.000000</td>\n",
       "      <td>23</td>\n",
       "      <td>0.500000</td>\n",
       "      <td>0.500000</td>\n",
       "      <td>0.500000</td>\n",
       "      <td>0.500000</td>\n",
       "      <td>0.500000</td>\n",
       "      <td>0.500000</td>\n",
       "      <td>0.000000</td>\n",
       "    </tr>\n",
       "  </tbody>\n",
       "</table>\n",
       "<p>25 rows × 22 columns</p>\n",
       "</div>"
      ],
      "text/plain": [
       "    mean_fit_time  std_fit_time  mean_score_time  std_score_time param_alpha  \\\n",
       "0      409.527088     69.650121         0.006433        0.006019      0.0001   \n",
       "1      680.979900    152.802551         0.016516        0.008523      0.0001   \n",
       "2      342.715524     52.330778         0.021936        0.015903      0.0001   \n",
       "3      434.578155     92.664258         0.011330        0.008455      0.0001   \n",
       "4      277.853669     44.585717         0.004998        0.006198      0.0001   \n",
       "5      557.415396    103.764636         0.007859        0.002045       0.001   \n",
       "6     1046.814128    159.837164         0.010187        0.000785       0.001   \n",
       "7      458.188974    100.440140         0.023638        0.029047       0.001   \n",
       "8      455.846180     97.390204         0.013456        0.006604       0.001   \n",
       "9      371.845694     96.028293         0.020980        0.016707       0.001   \n",
       "10     586.795665     17.875779         0.015340        0.013504        0.01   \n",
       "11     860.034397     69.065686         0.005391        0.004469        0.01   \n",
       "12     637.875722     58.014627         0.009076        0.005814        0.01   \n",
       "13     589.574834     80.621011         0.015449        0.011957        0.01   \n",
       "14     328.017506     31.328070         0.008017        0.005100        0.01   \n",
       "15     308.637774     27.054190         0.008586        0.007202         0.1   \n",
       "16     549.920982     84.503965         0.255090        0.473129         0.1   \n",
       "17     896.071064    340.597031         0.106865        0.067618         0.1   \n",
       "18    1108.217070    399.052978         0.053174        0.030360         0.1   \n",
       "19     569.234227    123.818926         0.083174        0.108927         0.1   \n",
       "20     245.232496     35.200506         0.007524        0.001575         1.0   \n",
       "21     353.906811     57.915598         0.013140        0.003543         1.0   \n",
       "22     320.192976     12.132258         0.016827        0.010776         1.0   \n",
       "23     370.543663     10.600391         0.007784        0.006394         1.0   \n",
       "24     287.655245     24.626595         0.009690        0.002944         1.0   \n",
       "\n",
       "   param_hidden_layer_sizes  \\\n",
       "0                     (32,)   \n",
       "1                     (64,)   \n",
       "2                  (64, 32)   \n",
       "3                  (64, 16)   \n",
       "4              (64, 32, 16)   \n",
       "5                     (32,)   \n",
       "6                     (64,)   \n",
       "7                  (64, 32)   \n",
       "8                  (64, 16)   \n",
       "9              (64, 32, 16)   \n",
       "10                    (32,)   \n",
       "11                    (64,)   \n",
       "12                 (64, 32)   \n",
       "13                 (64, 16)   \n",
       "14             (64, 32, 16)   \n",
       "15                    (32,)   \n",
       "16                    (64,)   \n",
       "17                 (64, 32)   \n",
       "18                 (64, 16)   \n",
       "19             (64, 32, 16)   \n",
       "20                    (32,)   \n",
       "21                    (64,)   \n",
       "22                 (64, 32)   \n",
       "23                 (64, 16)   \n",
       "24             (64, 32, 16)   \n",
       "\n",
       "                                               params  split0_test_score  \\\n",
       "0   {'alpha': 0.00010000000000000002, 'hidden_laye...           0.804167   \n",
       "1   {'alpha': 0.00010000000000000002, 'hidden_laye...           0.806250   \n",
       "2   {'alpha': 0.00010000000000000002, 'hidden_laye...           0.808333   \n",
       "3   {'alpha': 0.00010000000000000002, 'hidden_laye...           0.789583   \n",
       "4   {'alpha': 0.00010000000000000002, 'hidden_laye...           0.800000   \n",
       "5   {'alpha': 0.0010000000000000002, 'hidden_layer...           0.816667   \n",
       "6   {'alpha': 0.0010000000000000002, 'hidden_layer...           0.818750   \n",
       "7   {'alpha': 0.0010000000000000002, 'hidden_layer...           0.804167   \n",
       "8   {'alpha': 0.0010000000000000002, 'hidden_layer...           0.804167   \n",
       "9   {'alpha': 0.0010000000000000002, 'hidden_layer...           0.808333   \n",
       "10  {'alpha': 0.010000000000000002, 'hidden_layer_...           0.825000   \n",
       "11  {'alpha': 0.010000000000000002, 'hidden_layer_...           0.825000   \n",
       "12  {'alpha': 0.010000000000000002, 'hidden_layer_...           0.822917   \n",
       "13  {'alpha': 0.010000000000000002, 'hidden_layer_...           0.822917   \n",
       "14  {'alpha': 0.010000000000000002, 'hidden_layer_...           0.810417   \n",
       "15        {'alpha': 0.1, 'hidden_layer_sizes': (32,)}           0.839583   \n",
       "16        {'alpha': 0.1, 'hidden_layer_sizes': (64,)}           0.825000   \n",
       "17     {'alpha': 0.1, 'hidden_layer_sizes': (64, 32)}           0.835417   \n",
       "18     {'alpha': 0.1, 'hidden_layer_sizes': (64, 16)}           0.829167   \n",
       "19  {'alpha': 0.1, 'hidden_layer_sizes': (64, 32, ...           0.820833   \n",
       "20        {'alpha': 1.0, 'hidden_layer_sizes': (32,)}           0.500000   \n",
       "21        {'alpha': 1.0, 'hidden_layer_sizes': (64,)}           0.500000   \n",
       "22     {'alpha': 1.0, 'hidden_layer_sizes': (64, 32)}           0.500000   \n",
       "23     {'alpha': 1.0, 'hidden_layer_sizes': (64, 16)}           0.500000   \n",
       "24  {'alpha': 1.0, 'hidden_layer_sizes': (64, 32, ...           0.500000   \n",
       "\n",
       "    split1_test_score  split2_test_score  ...  mean_test_score  \\\n",
       "0            0.812500           0.781250  ...         0.794167   \n",
       "1            0.806250           0.781250  ...         0.794583   \n",
       "2            0.800000           0.781250  ...         0.792917   \n",
       "3            0.789583           0.783333  ...         0.788333   \n",
       "4            0.791667           0.793750  ...         0.793750   \n",
       "5            0.793750           0.781250  ...         0.797500   \n",
       "6            0.795833           0.777083  ...         0.797917   \n",
       "7            0.795833           0.772917  ...         0.789167   \n",
       "8            0.802083           0.781250  ...         0.793750   \n",
       "9            0.797917           0.754167  ...         0.787500   \n",
       "10           0.802083           0.783333  ...         0.804167   \n",
       "11           0.808333           0.791667  ...         0.807500   \n",
       "12           0.783333           0.754167  ...         0.787917   \n",
       "13           0.797917           0.770833  ...         0.796667   \n",
       "14           0.791667           0.764583  ...         0.778333   \n",
       "15           0.822917           0.783333  ...         0.815833   \n",
       "16           0.827083           0.789583  ...         0.812917   \n",
       "17           0.797917           0.793750  ...         0.804583   \n",
       "18           0.814583           0.789583  ...         0.803750   \n",
       "19           0.791667           0.775000  ...         0.799583   \n",
       "20           0.504167           0.500000  ...         0.500833   \n",
       "21           0.500000           0.502083  ...         0.500417   \n",
       "22           0.500000           0.500000  ...         0.500000   \n",
       "23           0.500000           0.500000  ...         0.500000   \n",
       "24           0.500000           0.500000  ...         0.500000   \n",
       "\n",
       "    std_test_score  rank_test_score  split0_train_score  split1_train_score  \\\n",
       "0         0.015557               12            0.998958            0.999479   \n",
       "1         0.014530               11            0.998958            0.999479   \n",
       "2         0.016436               15            0.999479            0.999479   \n",
       "3         0.013411               17            0.999479            0.999479   \n",
       "4         0.007336               13            0.999479            0.999479   \n",
       "5         0.015501                9            0.998958            0.999479   \n",
       "6         0.016510                8            0.999479            0.999479   \n",
       "7         0.017351               16            0.999479            0.999479   \n",
       "8         0.014006               14            0.999479            0.999479   \n",
       "9         0.023680               19            0.999479            0.999479   \n",
       "10        0.015756                5            0.998958            0.999479   \n",
       "11        0.013216                3            0.998958            0.999479   \n",
       "12        0.024274               18            0.999479            0.999479   \n",
       "13        0.017310               10            0.999479            0.999479   \n",
       "14        0.026829               20            0.999479            0.999479   \n",
       "15        0.021107                1            0.991146            0.994792   \n",
       "16        0.019248                2            0.994271            0.994792   \n",
       "17        0.023102                4            0.998958            0.999479   \n",
       "18        0.019957                6            0.999479            0.999479   \n",
       "19        0.025563                7            0.999479            0.999479   \n",
       "20        0.001667               21            0.500000            0.502083   \n",
       "21        0.000833               22            0.500000            0.500000   \n",
       "22        0.000000               23            0.500000            0.500000   \n",
       "23        0.000000               23            0.500000            0.500000   \n",
       "24        0.000000               23            0.500000            0.500000   \n",
       "\n",
       "    split2_train_score  split3_train_score  split4_train_score  \\\n",
       "0             1.000000            1.000000            0.998958   \n",
       "1             1.000000            1.000000            0.998958   \n",
       "2             1.000000            1.000000            0.999479   \n",
       "3             1.000000            1.000000            0.999479   \n",
       "4             1.000000            1.000000            0.999479   \n",
       "5             1.000000            1.000000            0.998958   \n",
       "6             1.000000            1.000000            0.998958   \n",
       "7             1.000000            1.000000            0.999479   \n",
       "8             1.000000            1.000000            0.999479   \n",
       "9             1.000000            1.000000            0.999479   \n",
       "10            1.000000            0.999479            0.998958   \n",
       "11            0.999479            0.998958            0.998958   \n",
       "12            1.000000            0.999479            0.999479   \n",
       "13            1.000000            1.000000            0.999479   \n",
       "14            1.000000            1.000000            0.996354   \n",
       "15            0.994271            0.993750            0.992188   \n",
       "16            0.994792            0.994792            0.991667   \n",
       "17            0.998437            0.998958            0.998958   \n",
       "18            0.999479            0.998958            0.999479   \n",
       "19            0.999479            1.000000            0.998437   \n",
       "20            0.500000            0.500000            0.500000   \n",
       "21            0.510417            0.502083            0.500000   \n",
       "22            0.500000            0.500000            0.500000   \n",
       "23            0.500000            0.500000            0.500000   \n",
       "24            0.500000            0.500000            0.500000   \n",
       "\n",
       "    mean_train_score  std_train_score  \n",
       "0           0.999479         0.000466  \n",
       "1           0.999479         0.000466  \n",
       "2           0.999687         0.000255  \n",
       "3           0.999687         0.000255  \n",
       "4           0.999687         0.000255  \n",
       "5           0.999479         0.000466  \n",
       "6           0.999583         0.000390  \n",
       "7           0.999687         0.000255  \n",
       "8           0.999687         0.000255  \n",
       "9           0.999687         0.000255  \n",
       "10          0.999375         0.000390  \n",
       "11          0.999167         0.000255  \n",
       "12          0.999583         0.000208  \n",
       "13          0.999687         0.000255  \n",
       "14          0.999062         0.001374  \n",
       "15          0.993229         0.001358  \n",
       "16          0.994063         0.001215  \n",
       "17          0.998958         0.000329  \n",
       "18          0.999375         0.000208  \n",
       "19          0.999375         0.000510  \n",
       "20          0.500417         0.000833  \n",
       "21          0.502500         0.004040  \n",
       "22          0.500000         0.000000  \n",
       "23          0.500000         0.000000  \n",
       "24          0.500000         0.000000  \n",
       "\n",
       "[25 rows x 22 columns]"
      ]
     },
     "execution_count": 211,
     "metadata": {},
     "output_type": "execute_result"
    }
   ],
   "source": [
    "gscv_df"
   ]
  },
  {
   "cell_type": "code",
   "execution_count": 102,
   "metadata": {},
   "outputs": [],
   "source": [
    "'''new_params = {\n",
    "    'hidden_layer_sizes': [(64,), (128,), (128, 64)],\n",
    "    'alpha': .10 **-np.arange(-4,0)\n",
    "}\n",
    ".10**-np.arange(-4,0)\n",
    "gscv2 = GridSearchCV(network, new_params, cv=5, n_jobs=-1)\n",
    "gscv2.fit(x_train_sparse,y_train)\n",
    "#import pickle\n",
    "#final_mlp_mod = 'final_mlp_model.sav'\n",
    "#pickle.dump(gscv2, open(final_mlp_mod,'wb'))\n",
    "gscv2 = pickle.load(open('final_mlp_model.sav', 'rb'))\n",
    "gscv2_df = pd.DataFrame(gscv2.cv_results_)\n",
    "gscv2_df'''"
   ]
  },
  {
   "cell_type": "code",
   "execution_count": 18,
   "metadata": {},
   "outputs": [
    {
     "data": {
      "text/html": [
       "<div>\n",
       "<style scoped>\n",
       "    .dataframe tbody tr th:only-of-type {\n",
       "        vertical-align: middle;\n",
       "    }\n",
       "\n",
       "    .dataframe tbody tr th {\n",
       "        vertical-align: top;\n",
       "    }\n",
       "\n",
       "    .dataframe thead th {\n",
       "        text-align: right;\n",
       "    }\n",
       "</style>\n",
       "<table border=\"1\" class=\"dataframe\">\n",
       "  <thead>\n",
       "    <tr style=\"text-align: right;\">\n",
       "      <th></th>\n",
       "      <th>mean_fit_time</th>\n",
       "      <th>std_fit_time</th>\n",
       "      <th>mean_score_time</th>\n",
       "      <th>std_score_time</th>\n",
       "      <th>param_alpha</th>\n",
       "      <th>param_hidden_layer_sizes</th>\n",
       "      <th>params</th>\n",
       "      <th>split0_test_score</th>\n",
       "      <th>split1_test_score</th>\n",
       "      <th>split2_test_score</th>\n",
       "      <th>split3_test_score</th>\n",
       "      <th>split4_test_score</th>\n",
       "      <th>mean_test_score</th>\n",
       "      <th>std_test_score</th>\n",
       "      <th>rank_test_score</th>\n",
       "    </tr>\n",
       "  </thead>\n",
       "  <tbody>\n",
       "    <tr>\n",
       "      <th>0</th>\n",
       "      <td>793.038048</td>\n",
       "      <td>164.708013</td>\n",
       "      <td>0.012720</td>\n",
       "      <td>0.003807</td>\n",
       "      <td>0.0001</td>\n",
       "      <td>(64,)</td>\n",
       "      <td>{'alpha': 0.00010000000000000002, 'hidden_laye...</td>\n",
       "      <td>0.806250</td>\n",
       "      <td>0.806250</td>\n",
       "      <td>0.781250</td>\n",
       "      <td>0.772917</td>\n",
       "      <td>0.806250</td>\n",
       "      <td>0.794583</td>\n",
       "      <td>0.014530</td>\n",
       "      <td>9</td>\n",
       "    </tr>\n",
       "    <tr>\n",
       "      <th>1</th>\n",
       "      <td>1413.265707</td>\n",
       "      <td>395.683793</td>\n",
       "      <td>0.027646</td>\n",
       "      <td>0.013147</td>\n",
       "      <td>0.0001</td>\n",
       "      <td>(128,)</td>\n",
       "      <td>{'alpha': 0.00010000000000000002, 'hidden_laye...</td>\n",
       "      <td>0.800000</td>\n",
       "      <td>0.814583</td>\n",
       "      <td>0.781250</td>\n",
       "      <td>0.772917</td>\n",
       "      <td>0.804167</td>\n",
       "      <td>0.794583</td>\n",
       "      <td>0.015287</td>\n",
       "      <td>8</td>\n",
       "    </tr>\n",
       "    <tr>\n",
       "      <th>2</th>\n",
       "      <td>680.378312</td>\n",
       "      <td>172.218501</td>\n",
       "      <td>0.018133</td>\n",
       "      <td>0.001979</td>\n",
       "      <td>0.0001</td>\n",
       "      <td>(128, 64)</td>\n",
       "      <td>{'alpha': 0.00010000000000000002, 'hidden_laye...</td>\n",
       "      <td>0.793750</td>\n",
       "      <td>0.808333</td>\n",
       "      <td>0.785417</td>\n",
       "      <td>0.775000</td>\n",
       "      <td>0.804167</td>\n",
       "      <td>0.793333</td>\n",
       "      <td>0.012176</td>\n",
       "      <td>10</td>\n",
       "    </tr>\n",
       "    <tr>\n",
       "      <th>3</th>\n",
       "      <td>1150.969330</td>\n",
       "      <td>197.807693</td>\n",
       "      <td>0.016929</td>\n",
       "      <td>0.005821</td>\n",
       "      <td>0.001</td>\n",
       "      <td>(64,)</td>\n",
       "      <td>{'alpha': 0.0010000000000000002, 'hidden_layer...</td>\n",
       "      <td>0.818750</td>\n",
       "      <td>0.795833</td>\n",
       "      <td>0.777083</td>\n",
       "      <td>0.783333</td>\n",
       "      <td>0.814583</td>\n",
       "      <td>0.797917</td>\n",
       "      <td>0.016510</td>\n",
       "      <td>6</td>\n",
       "    </tr>\n",
       "    <tr>\n",
       "      <th>4</th>\n",
       "      <td>1778.493181</td>\n",
       "      <td>119.099321</td>\n",
       "      <td>0.036312</td>\n",
       "      <td>0.017954</td>\n",
       "      <td>0.001</td>\n",
       "      <td>(128,)</td>\n",
       "      <td>{'alpha': 0.0010000000000000002, 'hidden_layer...</td>\n",
       "      <td>0.812500</td>\n",
       "      <td>0.797917</td>\n",
       "      <td>0.777083</td>\n",
       "      <td>0.770833</td>\n",
       "      <td>0.820833</td>\n",
       "      <td>0.795833</td>\n",
       "      <td>0.019410</td>\n",
       "      <td>7</td>\n",
       "    </tr>\n",
       "    <tr>\n",
       "      <th>5</th>\n",
       "      <td>859.306335</td>\n",
       "      <td>105.515489</td>\n",
       "      <td>0.030271</td>\n",
       "      <td>0.010655</td>\n",
       "      <td>0.001</td>\n",
       "      <td>(128, 64)</td>\n",
       "      <td>{'alpha': 0.0010000000000000002, 'hidden_layer...</td>\n",
       "      <td>0.797917</td>\n",
       "      <td>0.802083</td>\n",
       "      <td>0.781250</td>\n",
       "      <td>0.770833</td>\n",
       "      <td>0.814583</td>\n",
       "      <td>0.793333</td>\n",
       "      <td>0.015501</td>\n",
       "      <td>10</td>\n",
       "    </tr>\n",
       "    <tr>\n",
       "      <th>6</th>\n",
       "      <td>977.188730</td>\n",
       "      <td>60.061341</td>\n",
       "      <td>0.026293</td>\n",
       "      <td>0.018715</td>\n",
       "      <td>0.01</td>\n",
       "      <td>(64,)</td>\n",
       "      <td>{'alpha': 0.010000000000000002, 'hidden_layer_...</td>\n",
       "      <td>0.825000</td>\n",
       "      <td>0.808333</td>\n",
       "      <td>0.791667</td>\n",
       "      <td>0.793750</td>\n",
       "      <td>0.818750</td>\n",
       "      <td>0.807500</td>\n",
       "      <td>0.013216</td>\n",
       "      <td>3</td>\n",
       "    </tr>\n",
       "    <tr>\n",
       "      <th>7</th>\n",
       "      <td>1511.252145</td>\n",
       "      <td>92.098807</td>\n",
       "      <td>0.039754</td>\n",
       "      <td>0.021923</td>\n",
       "      <td>0.01</td>\n",
       "      <td>(128,)</td>\n",
       "      <td>{'alpha': 0.010000000000000002, 'hidden_layer_...</td>\n",
       "      <td>0.822917</td>\n",
       "      <td>0.797917</td>\n",
       "      <td>0.797917</td>\n",
       "      <td>0.781250</td>\n",
       "      <td>0.827083</td>\n",
       "      <td>0.805417</td>\n",
       "      <td>0.017159</td>\n",
       "      <td>4</td>\n",
       "    </tr>\n",
       "    <tr>\n",
       "      <th>8</th>\n",
       "      <td>800.337580</td>\n",
       "      <td>40.371003</td>\n",
       "      <td>0.045042</td>\n",
       "      <td>0.032184</td>\n",
       "      <td>0.01</td>\n",
       "      <td>(128, 64)</td>\n",
       "      <td>{'alpha': 0.010000000000000002, 'hidden_layer_...</td>\n",
       "      <td>0.816667</td>\n",
       "      <td>0.791667</td>\n",
       "      <td>0.762500</td>\n",
       "      <td>0.760417</td>\n",
       "      <td>0.808333</td>\n",
       "      <td>0.787917</td>\n",
       "      <td>0.023064</td>\n",
       "      <td>12</td>\n",
       "    </tr>\n",
       "    <tr>\n",
       "      <th>9</th>\n",
       "      <td>700.123869</td>\n",
       "      <td>92.080179</td>\n",
       "      <td>0.013202</td>\n",
       "      <td>0.003353</td>\n",
       "      <td>0.1</td>\n",
       "      <td>(64,)</td>\n",
       "      <td>{'alpha': 0.1, 'hidden_layer_sizes': (64,)}</td>\n",
       "      <td>0.825000</td>\n",
       "      <td>0.827083</td>\n",
       "      <td>0.789583</td>\n",
       "      <td>0.789583</td>\n",
       "      <td>0.833333</td>\n",
       "      <td>0.812917</td>\n",
       "      <td>0.019248</td>\n",
       "      <td>2</td>\n",
       "    </tr>\n",
       "    <tr>\n",
       "      <th>10</th>\n",
       "      <td>1077.835234</td>\n",
       "      <td>118.208824</td>\n",
       "      <td>0.015929</td>\n",
       "      <td>0.003821</td>\n",
       "      <td>0.1</td>\n",
       "      <td>(128,)</td>\n",
       "      <td>{'alpha': 0.1, 'hidden_layer_sizes': (128,)}</td>\n",
       "      <td>0.841667</td>\n",
       "      <td>0.829167</td>\n",
       "      <td>0.802083</td>\n",
       "      <td>0.779167</td>\n",
       "      <td>0.831250</td>\n",
       "      <td>0.816667</td>\n",
       "      <td>0.022860</td>\n",
       "      <td>1</td>\n",
       "    </tr>\n",
       "    <tr>\n",
       "      <th>11</th>\n",
       "      <td>1603.460804</td>\n",
       "      <td>174.543498</td>\n",
       "      <td>0.008635</td>\n",
       "      <td>0.005133</td>\n",
       "      <td>0.1</td>\n",
       "      <td>(128, 64)</td>\n",
       "      <td>{'alpha': 0.1, 'hidden_layer_sizes': (128, 64)}</td>\n",
       "      <td>0.827083</td>\n",
       "      <td>0.804167</td>\n",
       "      <td>0.795833</td>\n",
       "      <td>0.781250</td>\n",
       "      <td>0.812500</td>\n",
       "      <td>0.804167</td>\n",
       "      <td>0.015422</td>\n",
       "      <td>5</td>\n",
       "    </tr>\n",
       "  </tbody>\n",
       "</table>\n",
       "</div>"
      ],
      "text/plain": [
       "    mean_fit_time  std_fit_time  mean_score_time  std_score_time param_alpha  \\\n",
       "0      793.038048    164.708013         0.012720        0.003807      0.0001   \n",
       "1     1413.265707    395.683793         0.027646        0.013147      0.0001   \n",
       "2      680.378312    172.218501         0.018133        0.001979      0.0001   \n",
       "3     1150.969330    197.807693         0.016929        0.005821       0.001   \n",
       "4     1778.493181    119.099321         0.036312        0.017954       0.001   \n",
       "5      859.306335    105.515489         0.030271        0.010655       0.001   \n",
       "6      977.188730     60.061341         0.026293        0.018715        0.01   \n",
       "7     1511.252145     92.098807         0.039754        0.021923        0.01   \n",
       "8      800.337580     40.371003         0.045042        0.032184        0.01   \n",
       "9      700.123869     92.080179         0.013202        0.003353         0.1   \n",
       "10    1077.835234    118.208824         0.015929        0.003821         0.1   \n",
       "11    1603.460804    174.543498         0.008635        0.005133         0.1   \n",
       "\n",
       "   param_hidden_layer_sizes  \\\n",
       "0                     (64,)   \n",
       "1                    (128,)   \n",
       "2                 (128, 64)   \n",
       "3                     (64,)   \n",
       "4                    (128,)   \n",
       "5                 (128, 64)   \n",
       "6                     (64,)   \n",
       "7                    (128,)   \n",
       "8                 (128, 64)   \n",
       "9                     (64,)   \n",
       "10                   (128,)   \n",
       "11                (128, 64)   \n",
       "\n",
       "                                               params  split0_test_score  \\\n",
       "0   {'alpha': 0.00010000000000000002, 'hidden_laye...           0.806250   \n",
       "1   {'alpha': 0.00010000000000000002, 'hidden_laye...           0.800000   \n",
       "2   {'alpha': 0.00010000000000000002, 'hidden_laye...           0.793750   \n",
       "3   {'alpha': 0.0010000000000000002, 'hidden_layer...           0.818750   \n",
       "4   {'alpha': 0.0010000000000000002, 'hidden_layer...           0.812500   \n",
       "5   {'alpha': 0.0010000000000000002, 'hidden_layer...           0.797917   \n",
       "6   {'alpha': 0.010000000000000002, 'hidden_layer_...           0.825000   \n",
       "7   {'alpha': 0.010000000000000002, 'hidden_layer_...           0.822917   \n",
       "8   {'alpha': 0.010000000000000002, 'hidden_layer_...           0.816667   \n",
       "9         {'alpha': 0.1, 'hidden_layer_sizes': (64,)}           0.825000   \n",
       "10       {'alpha': 0.1, 'hidden_layer_sizes': (128,)}           0.841667   \n",
       "11    {'alpha': 0.1, 'hidden_layer_sizes': (128, 64)}           0.827083   \n",
       "\n",
       "    split1_test_score  split2_test_score  split3_test_score  \\\n",
       "0            0.806250           0.781250           0.772917   \n",
       "1            0.814583           0.781250           0.772917   \n",
       "2            0.808333           0.785417           0.775000   \n",
       "3            0.795833           0.777083           0.783333   \n",
       "4            0.797917           0.777083           0.770833   \n",
       "5            0.802083           0.781250           0.770833   \n",
       "6            0.808333           0.791667           0.793750   \n",
       "7            0.797917           0.797917           0.781250   \n",
       "8            0.791667           0.762500           0.760417   \n",
       "9            0.827083           0.789583           0.789583   \n",
       "10           0.829167           0.802083           0.779167   \n",
       "11           0.804167           0.795833           0.781250   \n",
       "\n",
       "    split4_test_score  mean_test_score  std_test_score  rank_test_score  \n",
       "0            0.806250         0.794583        0.014530                9  \n",
       "1            0.804167         0.794583        0.015287                8  \n",
       "2            0.804167         0.793333        0.012176               10  \n",
       "3            0.814583         0.797917        0.016510                6  \n",
       "4            0.820833         0.795833        0.019410                7  \n",
       "5            0.814583         0.793333        0.015501               10  \n",
       "6            0.818750         0.807500        0.013216                3  \n",
       "7            0.827083         0.805417        0.017159                4  \n",
       "8            0.808333         0.787917        0.023064               12  \n",
       "9            0.833333         0.812917        0.019248                2  \n",
       "10           0.831250         0.816667        0.022860                1  \n",
       "11           0.812500         0.804167        0.015422                5  "
      ]
     },
     "execution_count": 18,
     "metadata": {},
     "output_type": "execute_result"
    }
   ],
   "source": []
  },
  {
   "cell_type": "markdown",
   "metadata": {},
   "source": []
  },
  {
   "cell_type": "code",
   "execution_count": 220,
   "metadata": {},
   "outputs": [],
   "source": [
    "params_alpha = np.array(gscv_results['param_alpha'])\n",
    "param_hidden_layer_sizes = np.array(gscv_results['param_hidden_layer_sizes'])\n",
    "gscv_mean_test_score = np.array(gscv_results['mean_test_score'])\n",
    "gscv_val_stddev = np.array(gscv_results['std_test_score'])\n",
    "gscv_mean_train_score = np.array(gscv_results['mean_train_score'])\n",
    "gscv_train_stddev = np.array(gscv_results['std_train_score'])\n"
   ]
  },
  {
   "cell_type": "code",
   "execution_count": 221,
   "metadata": {},
   "outputs": [
    {
     "data": {
      "text/plain": [
       "array([(32,), (64,), (64, 32), (64, 16), (64, 32, 16)], dtype=object)"
      ]
     },
     "execution_count": 221,
     "metadata": {},
     "output_type": "execute_result"
    }
   ],
   "source": [
    "param_hidden_layer_sizes[0:5]"
   ]
  },
  {
   "cell_type": "code",
   "execution_count": 222,
   "metadata": {},
   "outputs": [],
   "source": [
    "gscv_mean_test_score = gscv_mean_test_score.reshape(5,5).transpose()\n",
    "gscv_val_stddev = gscv_val_stddev.reshape(5,5).transpose()\n",
    "gscv_mean_train_score = gscv_mean_train_score.reshape(5,5).transpose()\n",
    "gscv_train_stddev = gscv_train_stddev.reshape(5,5).transpose()\n"
   ]
  },
  {
   "cell_type": "code",
   "execution_count": 232,
   "metadata": {},
   "outputs": [
    {
     "ename": "AttributeError",
     "evalue": "'numpy.ndarray' object has no attribute 'float'",
     "output_type": "error",
     "traceback": [
      "\u001b[1;31m---------------------------------------------------------------------------\u001b[0m",
      "\u001b[1;31mAttributeError\u001b[0m                            Traceback (most recent call last)",
      "Cell \u001b[1;32mIn[232], line 1\u001b[0m\n\u001b[1;32m----> 1\u001b[0m unique_alpha \u001b[39m=\u001b[39m params_alpha[[\u001b[39m0\u001b[39;49m,\u001b[39m5\u001b[39;49m,\u001b[39m10\u001b[39;49m,\u001b[39m15\u001b[39;49m,\u001b[39m20\u001b[39;49m]]\u001b[39m.\u001b[39;49mfloat()\n\u001b[0;32m      2\u001b[0m \u001b[39mprint\u001b[39m(unique_alpha)\n\u001b[0;32m      3\u001b[0m unique_alpha \u001b[39m=\u001b[39m np\u001b[39m.\u001b[39mround(unique_alpha,\u001b[39m4\u001b[39m)\n",
      "\u001b[1;31mAttributeError\u001b[0m: 'numpy.ndarray' object has no attribute 'float'"
     ]
    }
   ],
   "source": [
    "unique_alpha = params_alpha[[0,5,10,15,20]]\n",
    "print(unique_alpha)\n"
   ]
  },
  {
   "cell_type": "code",
   "execution_count": 238,
   "metadata": {},
   "outputs": [],
   "source": [
    "unique_alpha = unique_alpha.astype(float)"
   ]
  },
  {
   "cell_type": "code",
   "execution_count": 239,
   "metadata": {},
   "outputs": [],
   "source": [
    "unique_alpha = np.round(unique_alpha,4)"
   ]
  },
  {
   "cell_type": "code",
   "execution_count": 240,
   "metadata": {},
   "outputs": [
    {
     "data": {
      "text/plain": [
       "array([1.e-04, 1.e-03, 1.e-02, 1.e-01, 1.e+00])"
      ]
     },
     "execution_count": 240,
     "metadata": {},
     "output_type": "execute_result"
    }
   ],
   "source": [
    "unique_alpha"
   ]
  },
  {
   "cell_type": "code",
   "execution_count": 241,
   "metadata": {},
   "outputs": [],
   "source": [
    "gscv_train_mean_df = pd.DataFrame(gscv_mean_train_score, index=param_hidden_layer_sizes[0:5], columns=unique_alpha)\n",
    "gscv_val_mean_df = pd.DataFrame(gscv_mean_test_score, index=param_hidden_layer_sizes[0:5], columns=unique_alpha)\n",
    "gscv_train_std_df = pd.DataFrame(gscv_train_stddev, index=param_hidden_layer_sizes[0:5], columns=unique_alpha)\n",
    "gscv_val_std_df = pd.DataFrame(gscv_val_stddev, index=param_hidden_layer_sizes[0:5], columns=unique_alpha)\n"
   ]
  },
  {
   "cell_type": "code",
   "execution_count": 242,
   "metadata": {},
   "outputs": [
    {
     "data": {
      "image/png": "[encoded data removed]",
      "text/plain": [
       "<Figure size 640x480 with 2 Axes>"
      ]
     },
     "metadata": {},
     "output_type": "display_data"
    }
   ],
   "source": [
    "sns.heatmap(gscv_train_mean_df, annot=True)\n",
    "plt.show;"
   ]
  },
  {
   "cell_type": "code",
   "execution_count": 243,
   "metadata": {},
   "outputs": [
    {
     "data": {
      "image/png": "[encoded data removed]",
      "text/plain": [
       "<Figure size 640x480 with 2 Axes>"
      ]
     },
     "metadata": {},
     "output_type": "display_data"
    }
   ],
   "source": [
    "sns.heatmap(gscv_train_std_df,annot=True)\n",
    "plt.show;"
   ]
  },
  {
   "cell_type": "code",
   "execution_count": 244,
   "metadata": {},
   "outputs": [
    {
     "data": {
      "image/png": "[encoded data removed]",
      "text/plain": [
       "<Figure size 640x480 with 2 Axes>"
      ]
     },
     "metadata": {},
     "output_type": "display_data"
    }
   ],
   "source": [
    "sns.heatmap(gscv_val_mean_df, annot=True)\n",
    "plt.show;"
   ]
  },
  {
   "cell_type": "code",
   "execution_count": 245,
   "metadata": {},
   "outputs": [
    {
     "data": {
      "image/png": "[encoded data removed]",
      "text/plain": [
       "<Figure size 640x480 with 2 Axes>"
      ]
     },
     "metadata": {},
     "output_type": "display_data"
    }
   ],
   "source": [
    "sns.heatmap(gscv_val_std_df, annot=True)\n",
    "plt.show;"
   ]
  },
  {
   "cell_type": "code",
   "execution_count": null,
   "metadata": {},
   "outputs": [],
   "source": [
    "sum(mlp_y_hat)"
   ]
  },
  {
   "cell_type": "code",
   "execution_count": 114,
   "metadata": {},
   "outputs": [],
   "source": [
    "np.savetxt('yproba1_test.txt', mlp_y_hat)"
   ]
  },
  {
   "cell_type": "code",
   "execution_count": 275,
   "metadata": {},
   "outputs": [
    {
     "data": {
      "text/html": [
       "<style>#sk-container-id-5 {color: black;background-color: white;}#sk-container-id-5 pre{padding: 0;}#sk-container-id-5 div.sk-toggleable {background-color: white;}#sk-container-id-5 label.sk-toggleable__label {cursor: pointer;display: block;width: 100%;margin-bottom: 0;padding: 0.3em;box-sizing: border-box;text-align: center;}#sk-container-id-5 label.sk-toggleable__label-arrow:before {content: \"▸\";float: left;margin-right: 0.25em;color: #696969;}#sk-container-id-5 label.sk-toggleable__label-arrow:hover:before {color: black;}#sk-container-id-5 div.sk-estimator:hover label.sk-toggleable__label-arrow:before {color: black;}#sk-container-id-5 div.sk-toggleable__content {max-height: 0;max-width: 0;overflow: hidden;text-align: left;background-color: #f0f8ff;}#sk-container-id-5 div.sk-toggleable__content pre {margin: 0.2em;color: black;border-radius: 0.25em;background-color: #f0f8ff;}#sk-container-id-5 input.sk-toggleable__control:checked~div.sk-toggleable__content {max-height: 200px;max-width: 100%;overflow: auto;}#sk-container-id-5 input.sk-toggleable__control:checked~label.sk-toggleable__label-arrow:before {content: \"▾\";}#sk-container-id-5 div.sk-estimator input.sk-toggleable__control:checked~label.sk-toggleable__label {background-color: #d4ebff;}#sk-container-id-5 div.sk-label input.sk-toggleable__control:checked~label.sk-toggleable__label {background-color: #d4ebff;}#sk-container-id-5 input.sk-hidden--visually {border: 0;clip: rect(1px 1px 1px 1px);clip: rect(1px, 1px, 1px, 1px);height: 1px;margin: -1px;overflow: hidden;padding: 0;position: absolute;width: 1px;}#sk-container-id-5 div.sk-estimator {font-family: monospace;background-color: #f0f8ff;border: 1px dotted black;border-radius: 0.25em;box-sizing: border-box;margin-bottom: 0.5em;}#sk-container-id-5 div.sk-estimator:hover {background-color: #d4ebff;}#sk-container-id-5 div.sk-parallel-item::after {content: \"\";width: 100%;border-bottom: 1px solid gray;flex-grow: 1;}#sk-container-id-5 div.sk-label:hover label.sk-toggleable__label {background-color: #d4ebff;}#sk-container-id-5 div.sk-serial::before {content: \"\";position: absolute;border-left: 1px solid gray;box-sizing: border-box;top: 0;bottom: 0;left: 50%;z-index: 0;}#sk-container-id-5 div.sk-serial {display: flex;flex-direction: column;align-items: center;background-color: white;padding-right: 0.2em;padding-left: 0.2em;position: relative;}#sk-container-id-5 div.sk-item {position: relative;z-index: 1;}#sk-container-id-5 div.sk-parallel {display: flex;align-items: stretch;justify-content: center;background-color: white;position: relative;}#sk-container-id-5 div.sk-item::before, #sk-container-id-5 div.sk-parallel-item::before {content: \"\";position: absolute;border-left: 1px solid gray;box-sizing: border-box;top: 0;bottom: 0;left: 50%;z-index: -1;}#sk-container-id-5 div.sk-parallel-item {display: flex;flex-direction: column;z-index: 1;position: relative;background-color: white;}#sk-container-id-5 div.sk-parallel-item:first-child::after {align-self: flex-end;width: 50%;}#sk-container-id-5 div.sk-parallel-item:last-child::after {align-self: flex-start;width: 50%;}#sk-container-id-5 div.sk-parallel-item:only-child::after {width: 0;}#sk-container-id-5 div.sk-dashed-wrapped {border: 1px dashed gray;margin: 0 0.4em 0.5em 0.4em;box-sizing: border-box;padding-bottom: 0.4em;background-color: white;}#sk-container-id-5 div.sk-label label {font-family: monospace;font-weight: bold;display: inline-block;line-height: 1.2em;}#sk-container-id-5 div.sk-label-container {text-align: center;}#sk-container-id-5 div.sk-container {/* jupyter's `normalize.less` sets `[hidden] { display: none; }` but bootstrap.min.css set `[hidden] { display: none !important; }` so we also need the `!important` here to be able to override the default hidden behavior on the sphinx rendered scikit-learn.org. See: https://github.com/scikit-learn/scikit-learn/issues/21755 */display: inline-block !important;position: relative;}#sk-container-id-5 div.sk-text-repr-fallback {display: none;}</style><div id=\"sk-container-id-5\" class=\"sk-top-container\"><div class=\"sk-text-repr-fallback\"><pre>MLPClassifier(alpha=0.1, batch_size=32, hidden_layer_sizes=(32,), max_iter=400,\n",
       "              random_state=13)</pre><b>In a Jupyter environment, please rerun this cell to show the HTML representation or trust the notebook. <br />On GitHub, the HTML representation is unable to render, please try loading this page with nbviewer.org.</b></div><div class=\"sk-container\" hidden><div class=\"sk-item\"><div class=\"sk-estimator sk-toggleable\"><input class=\"sk-toggleable__control sk-hidden--visually\" id=\"sk-estimator-id-7\" type=\"checkbox\" checked><label for=\"sk-estimator-id-7\" class=\"sk-toggleable__label sk-toggleable__label-arrow\">MLPClassifier</label><div class=\"sk-toggleable__content\"><pre>MLPClassifier(alpha=0.1, batch_size=32, hidden_layer_sizes=(32,), max_iter=400,\n",
       "              random_state=13)</pre></div></div></div></div></div>"
      ],
      "text/plain": [
       "MLPClassifier(alpha=0.1, batch_size=32, hidden_layer_sizes=(32,), max_iter=400,\n",
       "              random_state=13)"
      ]
     },
     "execution_count": 275,
     "metadata": {},
     "output_type": "execute_result"
    }
   ],
   "source": [
    "gscv.best_estimator_"
   ]
  },
  {
   "cell_type": "code",
   "execution_count": 276,
   "metadata": {},
   "outputs": [],
   "source": [
    "## Built simple model using best parameters from each of the original three models\n",
    "## train them on the same 90% training data\n",
    "## make predictions for each on the 10% hold out\n",
    "## review what websites they got wrong most, spot check 2-3  each (6-9 total)"
   ]
  },
  {
   "cell_type": "code",
   "execution_count": 282,
   "metadata": {},
   "outputs": [],
   "source": [
    "from sklearn.linear_model import LogisticRegression\n",
    "from sklearn.neural_network import MLPClassifier\n",
    "from sklearn.svm import SVC\n",
    "from sklearn.model_selection import StratifiedKFold\n"
   ]
  },
  {
   "cell_type": "code",
   "execution_count": 327,
   "metadata": {},
   "outputs": [],
   "source": [
    "final_log = LogisticRegression(C=10, penalty='l2')\n",
    "final_svm = SVC(C=10, kernel='rbf')\n",
    "final_mlp = MLPClassifier(hidden_layer_sizes=(32,), alpha=0.1, batch_size=32, random_state=13, max_iter=400)"
   ]
  },
  {
   "cell_type": "code",
   "execution_count": 336,
   "metadata": {},
   "outputs": [],
   "source": [
    "f_strat = StratifiedKFold(n_splits=10)"
   ]
  },
  {
   "cell_type": "code",
   "execution_count": 337,
   "metadata": {},
   "outputs": [
    {
     "data": {
      "text/plain": [
       "<generator object _BaseKFold.split at 0x000001ECD4404F20>"
      ]
     },
     "execution_count": 337,
     "metadata": {},
     "output_type": "execute_result"
    }
   ],
   "source": [
    "f_strat.split(x_train_sparse, y_train)"
   ]
  },
  {
   "cell_type": "code",
   "execution_count": 338,
   "metadata": {},
   "outputs": [],
   "source": [
    "for train_ind, test_ind in f_strat.split(x_train_sparse,y_train):\n",
    "    f_train_index = train_ind\n",
    "    f_test_index = test_ind\n",
    "    break"
   ]
  },
  {
   "cell_type": "code",
   "execution_count": 339,
   "metadata": {},
   "outputs": [],
   "source": [
    "\n",
    "f_train_sparse = x_train_sparse[f_train_index]\n",
    "fy_train = y_train[f_train_index]\n",
    "\n",
    "f_test_full = x_train_full[f_test_index]\n",
    "f_test_sparse = x_train_sparse[f_test_index]\n",
    "fy_test = y_train[f_test_index]"
   ]
  },
  {
   "cell_type": "code",
   "execution_count": 340,
   "metadata": {},
   "outputs": [
    {
     "data": {
      "text/html": [
       "<style>#sk-container-id-9 {color: black;background-color: white;}#sk-container-id-9 pre{padding: 0;}#sk-container-id-9 div.sk-toggleable {background-color: white;}#sk-container-id-9 label.sk-toggleable__label {cursor: pointer;display: block;width: 100%;margin-bottom: 0;padding: 0.3em;box-sizing: border-box;text-align: center;}#sk-container-id-9 label.sk-toggleable__label-arrow:before {content: \"▸\";float: left;margin-right: 0.25em;color: #696969;}#sk-container-id-9 label.sk-toggleable__label-arrow:hover:before {color: black;}#sk-container-id-9 div.sk-estimator:hover label.sk-toggleable__label-arrow:before {color: black;}#sk-container-id-9 div.sk-toggleable__content {max-height: 0;max-width: 0;overflow: hidden;text-align: left;background-color: #f0f8ff;}#sk-container-id-9 div.sk-toggleable__content pre {margin: 0.2em;color: black;border-radius: 0.25em;background-color: #f0f8ff;}#sk-container-id-9 input.sk-toggleable__control:checked~div.sk-toggleable__content {max-height: 200px;max-width: 100%;overflow: auto;}#sk-container-id-9 input.sk-toggleable__control:checked~label.sk-toggleable__label-arrow:before {content: \"▾\";}#sk-container-id-9 div.sk-estimator input.sk-toggleable__control:checked~label.sk-toggleable__label {background-color: #d4ebff;}#sk-container-id-9 div.sk-label input.sk-toggleable__control:checked~label.sk-toggleable__label {background-color: #d4ebff;}#sk-container-id-9 input.sk-hidden--visually {border: 0;clip: rect(1px 1px 1px 1px);clip: rect(1px, 1px, 1px, 1px);height: 1px;margin: -1px;overflow: hidden;padding: 0;position: absolute;width: 1px;}#sk-container-id-9 div.sk-estimator {font-family: monospace;background-color: #f0f8ff;border: 1px dotted black;border-radius: 0.25em;box-sizing: border-box;margin-bottom: 0.5em;}#sk-container-id-9 div.sk-estimator:hover {background-color: #d4ebff;}#sk-container-id-9 div.sk-parallel-item::after {content: \"\";width: 100%;border-bottom: 1px solid gray;flex-grow: 1;}#sk-container-id-9 div.sk-label:hover label.sk-toggleable__label {background-color: #d4ebff;}#sk-container-id-9 div.sk-serial::before {content: \"\";position: absolute;border-left: 1px solid gray;box-sizing: border-box;top: 0;bottom: 0;left: 50%;z-index: 0;}#sk-container-id-9 div.sk-serial {display: flex;flex-direction: column;align-items: center;background-color: white;padding-right: 0.2em;padding-left: 0.2em;position: relative;}#sk-container-id-9 div.sk-item {position: relative;z-index: 1;}#sk-container-id-9 div.sk-parallel {display: flex;align-items: stretch;justify-content: center;background-color: white;position: relative;}#sk-container-id-9 div.sk-item::before, #sk-container-id-9 div.sk-parallel-item::before {content: \"\";position: absolute;border-left: 1px solid gray;box-sizing: border-box;top: 0;bottom: 0;left: 50%;z-index: -1;}#sk-container-id-9 div.sk-parallel-item {display: flex;flex-direction: column;z-index: 1;position: relative;background-color: white;}#sk-container-id-9 div.sk-parallel-item:first-child::after {align-self: flex-end;width: 50%;}#sk-container-id-9 div.sk-parallel-item:last-child::after {align-self: flex-start;width: 50%;}#sk-container-id-9 div.sk-parallel-item:only-child::after {width: 0;}#sk-container-id-9 div.sk-dashed-wrapped {border: 1px dashed gray;margin: 0 0.4em 0.5em 0.4em;box-sizing: border-box;padding-bottom: 0.4em;background-color: white;}#sk-container-id-9 div.sk-label label {font-family: monospace;font-weight: bold;display: inline-block;line-height: 1.2em;}#sk-container-id-9 div.sk-label-container {text-align: center;}#sk-container-id-9 div.sk-container {/* jupyter's `normalize.less` sets `[hidden] { display: none; }` but bootstrap.min.css set `[hidden] { display: none !important; }` so we also need the `!important` here to be able to override the default hidden behavior on the sphinx rendered scikit-learn.org. See: https://github.com/scikit-learn/scikit-learn/issues/21755 */display: inline-block !important;position: relative;}#sk-container-id-9 div.sk-text-repr-fallback {display: none;}</style><div id=\"sk-container-id-9\" class=\"sk-top-container\"><div class=\"sk-text-repr-fallback\"><pre>MLPClassifier(alpha=0.1, batch_size=32, hidden_layer_sizes=(32,), max_iter=400,\n",
       "              random_state=13)</pre><b>In a Jupyter environment, please rerun this cell to show the HTML representation or trust the notebook. <br />On GitHub, the HTML representation is unable to render, please try loading this page with nbviewer.org.</b></div><div class=\"sk-container\" hidden><div class=\"sk-item\"><div class=\"sk-estimator sk-toggleable\"><input class=\"sk-toggleable__control sk-hidden--visually\" id=\"sk-estimator-id-11\" type=\"checkbox\" checked><label for=\"sk-estimator-id-11\" class=\"sk-toggleable__label sk-toggleable__label-arrow\">MLPClassifier</label><div class=\"sk-toggleable__content\"><pre>MLPClassifier(alpha=0.1, batch_size=32, hidden_layer_sizes=(32,), max_iter=400,\n",
       "              random_state=13)</pre></div></div></div></div></div>"
      ],
      "text/plain": [
       "MLPClassifier(alpha=0.1, batch_size=32, hidden_layer_sizes=(32,), max_iter=400,\n",
       "              random_state=13)"
      ]
     },
     "execution_count": 340,
     "metadata": {},
     "output_type": "execute_result"
    }
   ],
   "source": [
    "final_log.fit(f_train_sparse, fy_train)\n",
    "final_svm.fit(f_train_sparse, fy_train)\n",
    "final_mlp.fit(f_train_sparse, fy_train)"
   ]
  },
  {
   "cell_type": "code",
   "execution_count": 341,
   "metadata": {},
   "outputs": [],
   "source": [
    "final_log_preds = final_log.predict(f_test_sparse)\n",
    "final_svm_preds = final_svm.predict(f_test_sparse)\n",
    "final_mlp_preds = final_mlp.predict(f_test_sparse)"
   ]
  },
  {
   "cell_type": "code",
   "execution_count": 342,
   "metadata": {},
   "outputs": [
    {
     "name": "stdout",
     "output_type": "stream",
     "text": [
      "119.0\n",
      "115.0\n",
      "118.0\n"
     ]
    }
   ],
   "source": [
    "print(sum(final_log_preds))\n",
    "print(sum(final_svm_preds))\n",
    "print(sum(final_mlp_preds))"
   ]
  },
  {
   "cell_type": "code",
   "execution_count": 343,
   "metadata": {},
   "outputs": [
    {
     "name": "stdout",
     "output_type": "stream",
     "text": [
      "Log model Score on test set: 0.8625\n",
      "SVM model Score on test set: 0.8625\n",
      "MLP model Score on test set: 0.85\n"
     ]
    }
   ],
   "source": [
    "print('Log model Score on test set:', final_log.score(f_test_sparse, fy_test))\n",
    "print('SVM model Score on test set:' ,final_svm.score(f_test_sparse, fy_test))\n",
    "print('MLP model Score on test set:', final_mlp.score(f_test_sparse, fy_test))"
   ]
  },
  {
   "cell_type": "code",
   "execution_count": 349,
   "metadata": {},
   "outputs": [],
   "source": [
    "from sklearn.metrics import confusion_matrix"
   ]
  },
  {
   "cell_type": "code",
   "execution_count": 352,
   "metadata": {},
   "outputs": [],
   "source": [
    "def calc_confusion_matrix_for_threshold(ytrue_N, yproba1_N, thresh=0.5):\n",
    "    ''' Compute the confusion matrix for a given probabilistic classifier and threshold\n",
    "    \n",
    "    Args\n",
    "    ----\n",
    "    ytrue_N : 1D array of floats\n",
    "        Each entry represents the binary value (0 or 1) of 'true' label of one example\n",
    "        One entry per example in current dataset\n",
    "    yproba1_N : 1D array of floats\n",
    "        Each entry represents a probability (between 0 and 1) that correct label is positive (1)\n",
    "        One entry per example in current dataset\n",
    "        Needs to be same size as ytrue_N\n",
    "    thresh : float\n",
    "        Scalar threshold for converting probabilities into hard decisions\n",
    "        Calls an example \"positive\" if yproba1 >= thresh\n",
    "        Default value reflects a majority-classification approach (class is the one that gets\n",
    "        highest probability)\n",
    "\n",
    "    Returns\n",
    "    -------\n",
    "    cm_df : Pandas DataFrame\n",
    "        Can be printed like print(cm_df) to easily display results\n",
    "    '''\n",
    "    cm = confusion_matrix(ytrue_N, yproba1_N >= thresh)\n",
    "    cm_df = pd.DataFrame(data=cm, columns=[0, 1], index=[0, 1])\n",
    "    cm_df.columns.name = 'Predicted'\n",
    "    cm_df.index.name = 'True'\n",
    "    return cm_df"
   ]
  },
  {
   "cell_type": "code",
   "execution_count": 369,
   "metadata": {},
   "outputs": [
    {
     "name": "stdout",
     "output_type": "stream",
     "text": [
      "Final Logistic Reg Model\n",
      "Predicted    0    1\n",
      "True               \n",
      "0          104   16\n",
      "1           17  103\n"
     ]
    }
   ],
   "source": [
    "print(\"Final Logistic Reg Model\")\n",
    "print(calc_confusion_matrix_for_threshold(fy_test, final_log_preds))"
   ]
  },
  {
   "cell_type": "code",
   "execution_count": 370,
   "metadata": {},
   "outputs": [
    {
     "name": "stdout",
     "output_type": "stream",
     "text": [
      "Final SVM Model\n",
      "Predicted    0    1\n",
      "True               \n",
      "0          106   14\n",
      "1           19  101\n"
     ]
    }
   ],
   "source": [
    "print(\"Final SVM Model\")\n",
    "print(calc_confusion_matrix_for_threshold(fy_test, final_svm_preds))"
   ]
  },
  {
   "cell_type": "code",
   "execution_count": 371,
   "metadata": {},
   "outputs": [
    {
     "name": "stdout",
     "output_type": "stream",
     "text": [
      "Final MLP Model\n",
      "Predicted    0    1\n",
      "True               \n",
      "0          103   17\n",
      "1           19  101\n"
     ]
    }
   ],
   "source": [
    "print(\"Final MLP Model\")\n",
    "print(calc_confusion_matrix_for_threshold(fy_test, final_mlp_preds))"
   ]
  },
  {
   "cell_type": "code",
   "execution_count": 359,
   "metadata": {},
   "outputs": [],
   "source": [
    "f_test_reviews = np.array(x_tr_norm_list)[f_test_index]"
   ]
  },
  {
   "cell_type": "code",
   "execution_count": 386,
   "metadata": {},
   "outputs": [],
   "source": [
    "f_test_sites = np.array(train_sites)[f_test_index]"
   ]
  },
  {
   "cell_type": "code",
   "execution_count": 361,
   "metadata": {},
   "outputs": [],
   "source": [
    "def return_error_indices(preds, trues):\n",
    "    #Generate indices for false positives and false negatives\n",
    "    false_positives = []\n",
    "    false_negatives = []\n",
    "\n",
    "    for i in range(len(preds)):\n",
    "        if preds[i] == 1:\n",
    "            if trues[i] == 0:\n",
    "                false_positives.append(i)\n",
    "            else:\n",
    "                pass\n",
    "        elif preds[i] == 0:\n",
    "            if trues[i] == 1:\n",
    "                false_negatives.append(i)\n",
    "            else:\n",
    "                pass\n",
    "    false_negatives = np.array(false_negatives)\n",
    "    false_positives = np.array(false_positives)\n",
    "\n",
    "    return false_positives, false_negatives\n",
    "    "
   ]
  },
  {
   "cell_type": "code",
   "execution_count": 363,
   "metadata": {},
   "outputs": [],
   "source": [
    "log_fp_inds, log_fn_inds = return_error_indices(final_log_preds, fy_test)\n",
    "svm_fp_inds, svm_fn_inds = return_error_indices(final_svm_preds, fy_test)\n",
    "mlp_fp_inds, mlp_fn_inds = return_error_indices(final_mlp_preds, fy_test)"
   ]
  },
  {
   "cell_type": "code",
   "execution_count": 399,
   "metadata": {},
   "outputs": [
    {
     "name": "stdout",
     "output_type": "stream",
     "text": [
      "['imdb' 'yelp' 'imdb' 'yelp' 'imdb' 'imdb' 'yelp' 'imdb' 'amazon' 'yelp'\n",
      " 'yelp' 'yelp' 'yelp' 'imdb' 'amazon' 'imdb' 'yelp' 'imdb' 'yelp']\n"
     ]
    }
   ],
   "source": [
    "print(test_sites[mlp_fn_inds])"
   ]
  },
  {
   "cell_type": "code",
   "execution_count": null,
   "metadata": {},
   "outputs": [],
   "source": []
  },
  {
   "cell_type": "code",
   "execution_count": null,
   "metadata": {},
   "outputs": [],
   "source": []
  },
  {
   "cell_type": "code",
   "execution_count": null,
   "metadata": {},
   "outputs": [],
   "source": []
  },
  {
   "cell_type": "code",
   "execution_count": null,
   "metadata": {},
   "outputs": [],
   "source": []
  },
  {
   "cell_type": "code",
   "execution_count": 365,
   "metadata": {},
   "outputs": [
    {
     "name": "stdout",
     "output_type": "stream",
     "text": [
      "[  0   4  22  24  42  46  53  54  61  69  72  85  89  95  98 104]\n",
      "[ 0  4 22 42 46 53 54 61 69 72 89 95 98 99]\n",
      "[  0   4  17  22  42  46  53  54  61  69  72  85  89  95  98  99 104]\n"
     ]
    }
   ],
   "source": [
    "print(log_fp_inds)\n",
    "print(svm_fp_inds)\n",
    "print(mlp_fp_inds)"
   ]
  },
  {
   "cell_type": "code",
   "execution_count": 383,
   "metadata": {},
   "outputs": [
    {
     "name": "stdout",
     "output_type": "stream",
     "text": [
      "['oh i forgot also mention weird color effect phone'\n",
      " 'none three sizes sent heads would stay ears'\n",
      " 'give bluetoooth heads time still not comfortable way fits ear']\n"
     ]
    }
   ],
   "source": [
    "print(f_test_reviews[[0,4,61]])"
   ]
  },
  {
   "cell_type": "code",
   "execution_count": 367,
   "metadata": {},
   "outputs": [
    {
     "name": "stdout",
     "output_type": "stream",
     "text": [
      "[127 132 148 181 184 186 190 192 197 200 211 212 221 226 229 230 238]\n",
      "[127 132 143 148 160 181 184 186 190 192 197 200 211 212 221 226 229 230\n",
      " 238]\n",
      "[127 132 143 148 160 184 186 190 192 196 197 200 211 212 221 226 229 230\n",
      " 238]\n"
     ]
    }
   ],
   "source": [
    "print(log_fn_inds)\n",
    "print(svm_fn_inds)\n",
    "print(mlp_fn_inds)"
   ]
  },
  {
   "cell_type": "code",
   "execution_count": 384,
   "metadata": {},
   "outputs": [
    {
     "name": "stdout",
     "output_type": "stream",
     "text": [
      "['their research development division obviously knows there doing'\n",
      " 'plan ordering again'\n",
      " 'little weeks think that sex toast rocks oozes sex right battery embedded sleek stylish leather case']\n"
     ]
    }
   ],
   "source": [
    "print(f_test_reviews[[212,132,230]])"
   ]
  },
  {
   "cell_type": "code",
   "execution_count": 376,
   "metadata": {},
   "outputs": [
    {
     "data": {
      "text/plain": [
       "array([[-1.65639161e+00],\n",
       "       [ 1.31804841e+00],\n",
       "       [ 1.45290299e+00],\n",
       "       [-1.44851682e+00],\n",
       "       [ 1.51931112e+00],\n",
       "       [ 1.51345881e+00],\n",
       "       [ 1.67377755e+00],\n",
       "       [ 8.66544137e-01],\n",
       "       [ 1.63829274e+00],\n",
       "       [-2.69858968e-88],\n",
       "       [ 6.70609554e-89],\n",
       "       [ 1.25757946e+00],\n",
       "       [-1.60681675e+00],\n",
       "       [-1.45237375e+00],\n",
       "       [-1.18142589e-43],\n",
       "       [-1.49857782e+00],\n",
       "       [-1.31567061e+00],\n",
       "       [-2.45549063e-94],\n",
       "       [-1.50458448e+00],\n",
       "       [-9.46107180e-01],\n",
       "       [ 1.68495205e+00],\n",
       "       [ 1.73079871e+00],\n",
       "       [ 1.75460123e+00],\n",
       "       [-1.64775868e+00],\n",
       "       [ 1.61300267e+00],\n",
       "       [ 1.06116221e+00],\n",
       "       [ 1.34401128e+00],\n",
       "       [ 1.67891009e+00],\n",
       "       [ 1.65620427e+00],\n",
       "       [-1.13728236e+00],\n",
       "       [ 1.37578132e+00],\n",
       "       [ 1.71954222e+00]])"
      ]
     },
     "execution_count": 376,
     "metadata": {},
     "output_type": "execute_result"
    }
   ],
   "source": [
    "final_mlp.coefs_[1]"
   ]
  },
  {
   "cell_type": "code",
   "execution_count": 400,
   "metadata": {},
   "outputs": [
    {
     "name": "stdout",
     "output_type": "stream",
     "text": [
      "291.0\n",
      "281.0\n",
      "281.0\n"
     ]
    }
   ],
   "source": [
    "final_log_y_hat = final_log.predict(x_test_sparse)\n",
    "final_svm_y_hat = final_svm.predict(x_test_sparse)\n",
    "final_mlp_y_hat = final_mlp.predict(x_test_sparse)\n",
    "\n",
    "\n",
    "print(sum(final_log_y_hat))\n",
    "print(sum(final_svm_y_hat))\n",
    "print(sum(final_mlp_y_hat))\n"
   ]
  },
  {
   "cell_type": "code",
   "execution_count": 403,
   "metadata": {},
   "outputs": [],
   "source": [
    "np.savetxt('yproba1_test.txt', final_mlp_y_hat)"
   ]
  },
  {
   "cell_type": "code",
   "execution_count": null,
   "metadata": {},
   "outputs": [],
   "source": []
  }
 ],
 "metadata": {
  "kernelspec": {
   "display_name": "Python 3.9.0 ('tf')",
   "language": "python",
   "name": "python3"
  },
  "language_info": {
   "codemirror_mode": {
    "name": "ipython",
    "version": 3
   },
   "file_extension": ".py",
   "mimetype": "text/x-python",
   "name": "python",
   "nbconvert_exporter": "python",
   "pygments_lexer": "ipython3",
   "version": "3.9.0"
  },
  "orig_nbformat": 4,
  "vscode": {
   "interpreter": {
    "hash": "2af03d7e22c24bf2e6d190a35b261c407267ffc2225e910495761a73f1323185"
   }
  }
 },
 "nbformat": 4,
 "nbformat_minor": 2
}
