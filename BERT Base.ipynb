{
 "cells": [
  {
   "cell_type": "code",
   "execution_count": 1,
   "metadata": {},
   "outputs": [
    {
     "name": "stderr",
     "output_type": "stream",
     "text": [
      "c:\\Users\\Joe\\miniconda3\\envs\\tf\\lib\\site-packages\\tqdm\\auto.py:22: TqdmWarning: IProgress not found. Please update jupyter and ipywidgets. See https://ipywidgets.readthedocs.io/en/stable/user_install.html\n",
      "  from .autonotebook import tqdm as notebook_tqdm\n"
     ]
    }
   ],
   "source": [
    "import tensorflow as tf\n",
    "import transformers"
   ]
  },
  {
   "cell_type": "code",
   "execution_count": 2,
   "metadata": {},
   "outputs": [
    {
     "data": {
      "text/plain": [
       "'2.10.0'"
      ]
     },
     "execution_count": 2,
     "metadata": {},
     "output_type": "execute_result"
    }
   ],
   "source": [
    "tf.__version__"
   ]
  },
  {
   "cell_type": "code",
   "execution_count": 8,
   "metadata": {},
   "outputs": [],
   "source": [
    "import numpy as np\n",
    "import pandas as pd"
   ]
  },
  {
   "cell_type": "code",
   "execution_count": 4,
   "metadata": {},
   "outputs": [],
   "source": [
    "from transformers import TFAutoModel, AutoTokenizer\n",
    "\n",
    "tokenizer = AutoTokenizer.from_pretrained(\"bert-base-cased\")"
   ]
  },
  {
   "cell_type": "code",
   "execution_count": 5,
   "metadata": {},
   "outputs": [],
   "source": [
    "x_train_df = pd.read_csv('data/data_reviews/x_train.csv')\n",
    "y_train_df = pd.read_csv('data/data_reviews/y_train.csv')\n",
    "\n",
    "tr_text_list = x_train_df['text'].values.tolist()"
   ]
  },
  {
   "cell_type": "code",
   "execution_count": 6,
   "metadata": {},
   "outputs": [],
   "source": [
    "x_test_df = pd.read_csv('data/data_reviews/x_test.csv')\n",
    "\n",
    "test_text_list = x_test_df['text'].values.tolist()"
   ]
  },
  {
   "cell_type": "code",
   "execution_count": 7,
   "metadata": {},
   "outputs": [],
   "source": [
    "x_test_df = x_test_df['text']"
   ]
  },
  {
   "cell_type": "code",
   "execution_count": 8,
   "metadata": {},
   "outputs": [],
   "source": [
    "all_data = pd.concat([x_train_df,y_train_df], axis=1)"
   ]
  },
  {
   "cell_type": "code",
   "execution_count": 9,
   "metadata": {},
   "outputs": [],
   "source": [
    "all_data = all_data[['text','is_positive_sentiment']]"
   ]
  },
  {
   "cell_type": "code",
   "execution_count": 10,
   "metadata": {},
   "outputs": [],
   "source": [
    "testids = np.zeros((len(x_test_df),61))\n",
    "testmask = np.zeros((len(x_test_df),61))\n"
   ]
  },
  {
   "cell_type": "code",
   "execution_count": 11,
   "metadata": {},
   "outputs": [],
   "source": [
    "xids = np.zeros((len(all_data),61))\n",
    "xmask = np.zeros((len(all_data),61))"
   ]
  },
  {
   "cell_type": "code",
   "execution_count": 12,
   "metadata": {},
   "outputs": [
    {
     "data": {
      "text/plain": [
       "(2400, 61)"
      ]
     },
     "execution_count": 12,
     "metadata": {},
     "output_type": "execute_result"
    }
   ],
   "source": [
    "xids.shape"
   ]
  },
  {
   "cell_type": "code",
   "execution_count": 13,
   "metadata": {},
   "outputs": [],
   "source": [
    "for i , sequence in enumerate(all_data['text']):\n",
    "    tokens = tokenizer.encode_plus(sequence, max_length=61, truncation=True,\n",
    "                      padding='max_length', add_special_tokens=True,\n",
    "                      return_attention_mask=True, return_token_type_ids=False,\n",
    "                      return_tensors='tf')\n",
    "    xids[i, :], xmask[i,:] = tokens['input_ids'], tokens['attention_mask']\n"
   ]
  },
  {
   "cell_type": "code",
   "execution_count": 14,
   "metadata": {},
   "outputs": [],
   "source": [
    "for i , sequence in enumerate(x_test_df):\n",
    "    tokens = tokenizer.encode_plus(sequence, max_length=61, truncation=True,\n",
    "                      padding='max_length', add_special_tokens=True,\n",
    "                      return_attention_mask=True, return_token_type_ids=False,\n",
    "                      return_tensors='tf')\n",
    "    testids[i, :], testmask[i,:] = tokens['input_ids'], tokens['attention_mask']\n"
   ]
  },
  {
   "cell_type": "code",
   "execution_count": 15,
   "metadata": {},
   "outputs": [
    {
     "name": "stdout",
     "output_type": "stream",
     "text": [
      "[[  101.  2048.  1105. ...     0.     0.     0.]\n",
      " [  101.   157. 11612. ...     0.     0.     0.]\n",
      " [  101. 27124.  1104. ...     0.     0.     0.]\n",
      " ...\n",
      " [  101.  7277.  9725. ...     0.     0.     0.]\n",
      " [  101.  1284.  2802. ...     0.     0.     0.]\n",
      " [  101.  2516.  1108. ...     0.     0.     0.]]\n",
      "[[1. 1. 1. ... 0. 0. 0.]\n",
      " [1. 1. 1. ... 0. 0. 0.]\n",
      " [1. 1. 1. ... 0. 0. 0.]\n",
      " ...\n",
      " [1. 1. 1. ... 0. 0. 0.]\n",
      " [1. 1. 1. ... 0. 0. 0.]\n",
      " [1. 1. 1. ... 0. 0. 0.]]\n"
     ]
    }
   ],
   "source": [
    "print(xids)\n",
    "print(xmask)"
   ]
  },
  {
   "cell_type": "code",
   "execution_count": 16,
   "metadata": {},
   "outputs": [
    {
     "name": "stdout",
     "output_type": "stream",
     "text": [
      "[[ 101. 6846. 1193. ...    0.    0.    0.]\n",
      " [ 101.  106.  119. ...    0.    0.    0.]\n",
      " [ 101. 1184.  170. ...    0.    0.    0.]\n",
      " ...\n",
      " [ 101. 1109. 1178. ...    0.    0.    0.]\n",
      " [ 101. 1422. 1334. ...    0.    0.    0.]\n",
      " [ 101. 1438.  117. ...    0.    0.    0.]]\n",
      "[[1. 1. 1. ... 0. 0. 0.]\n",
      " [1. 1. 1. ... 0. 0. 0.]\n",
      " [1. 1. 1. ... 0. 0. 0.]\n",
      " ...\n",
      " [1. 1. 1. ... 0. 0. 0.]\n",
      " [1. 1. 1. ... 0. 0. 0.]\n",
      " [1. 1. 1. ... 0. 0. 0.]]\n"
     ]
    }
   ],
   "source": [
    "print(testids)\n",
    "print(testmask)"
   ]
  },
  {
   "cell_type": "code",
   "execution_count": 17,
   "metadata": {},
   "outputs": [],
   "source": [
    "labels = all_data.is_positive_sentiment.values"
   ]
  },
  {
   "cell_type": "code",
   "execution_count": 18,
   "metadata": {},
   "outputs": [
    {
     "data": {
      "text/plain": [
       "[PhysicalDevice(name='/physical_device:GPU:0', device_type='GPU')]"
      ]
     },
     "execution_count": 18,
     "metadata": {},
     "output_type": "execute_result"
    }
   ],
   "source": [
    "import tensorflow as tf\n",
    "tf.config.experimental.list_physical_devices('GPU')"
   ]
  },
  {
   "cell_type": "code",
   "execution_count": 19,
   "metadata": {},
   "outputs": [],
   "source": [
    "dataset = tf.data.Dataset.from_tensor_slices((xids, xmask, labels))"
   ]
  },
  {
   "cell_type": "code",
   "execution_count": 20,
   "metadata": {},
   "outputs": [],
   "source": [
    "testdata = tf.data.Dataset.from_tensor_slices((testids,testmask))"
   ]
  },
  {
   "cell_type": "code",
   "execution_count": 21,
   "metadata": {},
   "outputs": [
    {
     "data": {
      "text/plain": [
       "<TensorSliceDataset element_spec=(TensorSpec(shape=(61,), dtype=tf.float64, name=None), TensorSpec(shape=(61,), dtype=tf.float64, name=None))>"
      ]
     },
     "execution_count": 21,
     "metadata": {},
     "output_type": "execute_result"
    }
   ],
   "source": [
    "testdata"
   ]
  },
  {
   "cell_type": "code",
   "execution_count": 22,
   "metadata": {},
   "outputs": [
    {
     "name": "stdout",
     "output_type": "stream",
     "text": [
      "(<tf.Tensor: shape=(61,), dtype=float64, numpy=\n",
      "array([ 101., 2048., 1105.,  146., 9424., 1106., 1145., 4734., 1103.,\n",
      "       6994., 2942., 2629., 1122., 1144., 1113., 1240., 2179.,  119.,\n",
      "        102.,    0.,    0.,    0.,    0.,    0.,    0.,    0.,    0.,\n",
      "          0.,    0.,    0.,    0.,    0.,    0.,    0.,    0.,    0.,\n",
      "          0.,    0.,    0.,    0.,    0.,    0.,    0.,    0.,    0.,\n",
      "          0.,    0.,    0.,    0.,    0.,    0.,    0.,    0.,    0.,\n",
      "          0.,    0.,    0.,    0.,    0.,    0.,    0.])>, <tf.Tensor: shape=(61,), dtype=float64, numpy=\n",
      "array([1., 1., 1., 1., 1., 1., 1., 1., 1., 1., 1., 1., 1., 1., 1., 1., 1.,\n",
      "       1., 1., 0., 0., 0., 0., 0., 0., 0., 0., 0., 0., 0., 0., 0., 0., 0.,\n",
      "       0., 0., 0., 0., 0., 0., 0., 0., 0., 0., 0., 0., 0., 0., 0., 0., 0.,\n",
      "       0., 0., 0., 0., 0., 0., 0., 0., 0., 0.])>, <tf.Tensor: shape=(), dtype=int64, numpy=0>)\n"
     ]
    }
   ],
   "source": [
    "for i in dataset.take(1):\n",
    "    print(i)"
   ]
  },
  {
   "cell_type": "code",
   "execution_count": 23,
   "metadata": {},
   "outputs": [],
   "source": [
    "def map_func(input_ids, masks, labels):\n",
    "\n",
    "    return {'inputs_ids': input_ids, 'attention_mask': masks}, labels"
   ]
  },
  {
   "cell_type": "code",
   "execution_count": 24,
   "metadata": {},
   "outputs": [],
   "source": [
    "def new_map(input_ids, masks):\n",
    "    return {'inputs_ids': input_ids, 'attention_mask' : masks}"
   ]
  },
  {
   "cell_type": "code",
   "execution_count": 25,
   "metadata": {},
   "outputs": [],
   "source": [
    "testdata = testdata.map(new_map)"
   ]
  },
  {
   "cell_type": "code",
   "execution_count": 26,
   "metadata": {},
   "outputs": [],
   "source": [
    "dataset = dataset.map(map_func)"
   ]
  },
  {
   "cell_type": "code",
   "execution_count": 27,
   "metadata": {},
   "outputs": [
    {
     "data": {
      "text/plain": [
       "<MapDataset element_spec={'inputs_ids': TensorSpec(shape=(61,), dtype=tf.float64, name=None), 'attention_mask': TensorSpec(shape=(61,), dtype=tf.float64, name=None)}>"
      ]
     },
     "execution_count": 27,
     "metadata": {},
     "output_type": "execute_result"
    }
   ],
   "source": [
    "testdata"
   ]
  },
  {
   "cell_type": "code",
   "execution_count": 28,
   "metadata": {},
   "outputs": [
    {
     "name": "stdout",
     "output_type": "stream",
     "text": [
      "({'inputs_ids': <tf.Tensor: shape=(61,), dtype=float64, numpy=\n",
      "array([ 101., 2048., 1105.,  146., 9424., 1106., 1145., 4734., 1103.,\n",
      "       6994., 2942., 2629., 1122., 1144., 1113., 1240., 2179.,  119.,\n",
      "        102.,    0.,    0.,    0.,    0.,    0.,    0.,    0.,    0.,\n",
      "          0.,    0.,    0.,    0.,    0.,    0.,    0.,    0.,    0.,\n",
      "          0.,    0.,    0.,    0.,    0.,    0.,    0.,    0.,    0.,\n",
      "          0.,    0.,    0.,    0.,    0.,    0.,    0.,    0.,    0.,\n",
      "          0.,    0.,    0.,    0.,    0.,    0.,    0.])>, 'attention_mask': <tf.Tensor: shape=(61,), dtype=float64, numpy=\n",
      "array([1., 1., 1., 1., 1., 1., 1., 1., 1., 1., 1., 1., 1., 1., 1., 1., 1.,\n",
      "       1., 1., 0., 0., 0., 0., 0., 0., 0., 0., 0., 0., 0., 0., 0., 0., 0.,\n",
      "       0., 0., 0., 0., 0., 0., 0., 0., 0., 0., 0., 0., 0., 0., 0., 0., 0.,\n",
      "       0., 0., 0., 0., 0., 0., 0., 0., 0., 0.])>}, <tf.Tensor: shape=(), dtype=int64, numpy=0>)\n"
     ]
    }
   ],
   "source": [
    "for i in dataset.take(1):\n",
    "    print(i)"
   ]
  },
  {
   "cell_type": "code",
   "execution_count": 29,
   "metadata": {},
   "outputs": [],
   "source": [
    "dataset = dataset.shuffle(100000).batch(32)"
   ]
  },
  {
   "cell_type": "code",
   "execution_count": 30,
   "metadata": {},
   "outputs": [],
   "source": [
    "testdata = testdata.batch(32)"
   ]
  },
  {
   "cell_type": "code",
   "execution_count": 31,
   "metadata": {},
   "outputs": [
    {
     "data": {
      "text/plain": [
       "<BatchDataset element_spec={'inputs_ids': TensorSpec(shape=(None, 61), dtype=tf.float64, name=None), 'attention_mask': TensorSpec(shape=(None, 61), dtype=tf.float64, name=None)}>"
      ]
     },
     "execution_count": 31,
     "metadata": {},
     "output_type": "execute_result"
    }
   ],
   "source": [
    "testdata"
   ]
  },
  {
   "cell_type": "code",
   "execution_count": 32,
   "metadata": {},
   "outputs": [],
   "source": [
    "DS_LEN = len(list(dataset))"
   ]
  },
  {
   "cell_type": "code",
   "execution_count": 33,
   "metadata": {},
   "outputs": [
    {
     "data": {
      "text/plain": [
       "75"
      ]
     },
     "execution_count": 33,
     "metadata": {},
     "output_type": "execute_result"
    }
   ],
   "source": [
    "DS_LEN"
   ]
  },
  {
   "cell_type": "code",
   "execution_count": 34,
   "metadata": {},
   "outputs": [],
   "source": [
    "SPLIT = .9\n",
    "\n",
    "train = dataset.take(round(DS_LEN*SPLIT))\n",
    "val = dataset.skip(round(DS_LEN*SPLIT))"
   ]
  },
  {
   "cell_type": "code",
   "execution_count": 35,
   "metadata": {},
   "outputs": [
    {
     "name": "stderr",
     "output_type": "stream",
     "text": [
      "Some layers from the model checkpoint at bert-base-cased were not used when initializing TFBertModel: ['nsp___cls', 'mlm___cls']\n",
      "- This IS expected if you are initializing TFBertModel from the checkpoint of a model trained on another task or with another architecture (e.g. initializing a BertForSequenceClassification model from a BertForPreTraining model).\n",
      "- This IS NOT expected if you are initializing TFBertModel from the checkpoint of a model that you expect to be exactly identical (initializing a BertForSequenceClassification model from a BertForSequenceClassification model).\n",
      "All the layers of TFBertModel were initialized from the model checkpoint at bert-base-cased.\n",
      "If your task is similar to the task the model of the checkpoint was trained on, you can already use TFBertModel for predictions without further training.\n"
     ]
    }
   ],
   "source": [
    "model = TFAutoModel.from_pretrained(\"bert-base-cased\")"
   ]
  },
  {
   "cell_type": "code",
   "execution_count": 36,
   "metadata": {},
   "outputs": [],
   "source": [
    "input_ids = tf.keras.layers.Input(shape=(61,), name='inputs_ids', dtype='int32')\n",
    "mask = tf.keras.layers.Input(shape=(61,), name='attention_mask', dtype='int32')\n",
    "\n",
    "embeddings = model(input_ids, attention_mask = mask)[0]\n",
    "\n",
    "#x = tf.keras.layers.Bidirectional(tf.keras.layers.GRU(128))(embeddings)\n",
    "x = tf.keras.layers.GlobalMaxPool1D()(embeddings)\n",
    "x = tf.keras.layers.BatchNormalization()(x)\n",
    "x = tf.keras.layers.Dense(128, activation='relu')(x)\n",
    "x = tf.keras.layers.Dropout(0.50)(x)\n",
    "x = tf.keras.layers.Dense(32, activation='relu')(x)\n",
    "y = tf.keras.layers.Dense(1, activation='sigmoid', name='outputs')(x)\n",
    "\n",
    "modelt = tf.keras.Model(inputs=[input_ids,mask], outputs = y)\n",
    "\n",
    "modelt.layers[2].trainable = False"
   ]
  },
  {
   "cell_type": "code",
   "execution_count": 37,
   "metadata": {},
   "outputs": [
    {
     "name": "stdout",
     "output_type": "stream",
     "text": [
      "Model: \"model\"\n",
      "__________________________________________________________________________________________________\n",
      " Layer (type)                   Output Shape         Param #     Connected to                     \n",
      "==================================================================================================\n",
      " inputs_ids (InputLayer)        [(None, 61)]         0           []                               \n",
      "                                                                                                  \n",
      " attention_mask (InputLayer)    [(None, 61)]         0           []                               \n",
      "                                                                                                  \n",
      " tf_bert_model (TFBertModel)    TFBaseModelOutputWi  108310272   ['inputs_ids[0][0]',             \n",
      "                                thPoolingAndCrossAt               'attention_mask[0][0]']         \n",
      "                                tentions(last_hidde                                               \n",
      "                                n_state=(None, 61,                                                \n",
      "                                768),                                                             \n",
      "                                 pooler_output=(Non                                               \n",
      "                                e, 768),                                                          \n",
      "                                 past_key_values=No                                               \n",
      "                                ne, hidden_states=N                                               \n",
      "                                one, attentions=Non                                               \n",
      "                                e, cross_attentions                                               \n",
      "                                =None)                                                            \n",
      "                                                                                                  \n",
      " global_max_pooling1d (GlobalMa  (None, 768)         0           ['tf_bert_model[0][0]']          \n",
      " xPooling1D)                                                                                      \n",
      "                                                                                                  \n",
      " batch_normalization (BatchNorm  (None, 768)         3072        ['global_max_pooling1d[0][0]']   \n",
      " alization)                                                                                       \n",
      "                                                                                                  \n",
      " dense (Dense)                  (None, 128)          98432       ['batch_normalization[0][0]']    \n",
      "                                                                                                  \n",
      " dropout_37 (Dropout)           (None, 128)          0           ['dense[0][0]']                  \n",
      "                                                                                                  \n",
      " dense_1 (Dense)                (None, 32)           4128        ['dropout_37[0][0]']             \n",
      "                                                                                                  \n",
      " outputs (Dense)                (None, 1)            33          ['dense_1[0][0]']                \n",
      "                                                                                                  \n",
      "==================================================================================================\n",
      "Total params: 108,415,937\n",
      "Trainable params: 104,129\n",
      "Non-trainable params: 108,311,808\n",
      "__________________________________________________________________________________________________\n"
     ]
    }
   ],
   "source": [
    "modelt.summary()"
   ]
  },
  {
   "cell_type": "code",
   "execution_count": 38,
   "metadata": {},
   "outputs": [],
   "source": [
    "modelt.compile(\n",
    "    loss='binary_crossentropy', optimizer='adam', metrics=['accuracy']\n",
    ")"
   ]
  },
  {
   "cell_type": "code",
   "execution_count": 39,
   "metadata": {},
   "outputs": [
    {
     "name": "stdout",
     "output_type": "stream",
     "text": [
      "Epoch 1/25\n",
      "68/68 [==============================] - 41s 402ms/step - loss: 0.5613 - accuracy: 0.7146 - val_loss: 0.5305 - val_accuracy: 0.8571\n",
      "Epoch 2/25\n",
      "68/68 [==============================] - 24s 356ms/step - loss: 0.4143 - accuracy: 0.8143 - val_loss: 0.3786 - val_accuracy: 0.8839\n",
      "Epoch 3/25\n",
      "68/68 [==============================] - 24s 359ms/step - loss: 0.3777 - accuracy: 0.8309 - val_loss: 0.2815 - val_accuracy: 0.9018\n",
      "Epoch 4/25\n",
      "68/68 [==============================] - 24s 359ms/step - loss: 0.3309 - accuracy: 0.8603 - val_loss: 0.2314 - val_accuracy: 0.9018\n",
      "Epoch 5/25\n",
      "68/68 [==============================] - 24s 360ms/step - loss: 0.3289 - accuracy: 0.8585 - val_loss: 0.1918 - val_accuracy: 0.9509\n",
      "Epoch 6/25\n",
      "68/68 [==============================] - 25s 361ms/step - loss: 0.2963 - accuracy: 0.8722 - val_loss: 0.1480 - val_accuracy: 0.9420\n",
      "Epoch 7/25\n",
      "68/68 [==============================] - 25s 363ms/step - loss: 0.2984 - accuracy: 0.8773 - val_loss: 0.1375 - val_accuracy: 0.9509\n",
      "Epoch 8/25\n",
      "68/68 [==============================] - 25s 363ms/step - loss: 0.2828 - accuracy: 0.8787 - val_loss: 0.1440 - val_accuracy: 0.9509\n",
      "Epoch 9/25\n",
      "68/68 [==============================] - 25s 362ms/step - loss: 0.2658 - accuracy: 0.8897 - val_loss: 0.1029 - val_accuracy: 0.9777\n",
      "Epoch 10/25\n",
      "68/68 [==============================] - 25s 367ms/step - loss: 0.2806 - accuracy: 0.8851 - val_loss: 0.1318 - val_accuracy: 0.9643\n",
      "Epoch 11/25\n",
      "68/68 [==============================] - 25s 366ms/step - loss: 0.2630 - accuracy: 0.8837 - val_loss: 0.1256 - val_accuracy: 0.9643\n",
      "Epoch 12/25\n",
      "68/68 [==============================] - 25s 370ms/step - loss: 0.2564 - accuracy: 0.8869 - val_loss: 0.1251 - val_accuracy: 0.9643\n",
      "Epoch 13/25\n",
      "68/68 [==============================] - 26s 375ms/step - loss: 0.2582 - accuracy: 0.8892 - val_loss: 0.1415 - val_accuracy: 0.9509\n",
      "Epoch 14/25\n",
      "68/68 [==============================] - 25s 368ms/step - loss: 0.2367 - accuracy: 0.9007 - val_loss: 0.0829 - val_accuracy: 0.9821\n",
      "Epoch 15/25\n",
      "68/68 [==============================] - 25s 370ms/step - loss: 0.2347 - accuracy: 0.9072 - val_loss: 0.0891 - val_accuracy: 0.9821\n",
      "Epoch 16/25\n",
      "68/68 [==============================] - 25s 374ms/step - loss: 0.2223 - accuracy: 0.9085 - val_loss: 0.0786 - val_accuracy: 0.9777\n",
      "Epoch 17/25\n",
      "68/68 [==============================] - 25s 369ms/step - loss: 0.2237 - accuracy: 0.9067 - val_loss: 0.0719 - val_accuracy: 0.9866\n",
      "Epoch 18/25\n",
      "68/68 [==============================] - 25s 372ms/step - loss: 0.2379 - accuracy: 0.9044 - val_loss: 0.0635 - val_accuracy: 0.9866\n",
      "Epoch 19/25\n",
      "68/68 [==============================] - 25s 371ms/step - loss: 0.2230 - accuracy: 0.9196 - val_loss: 0.0543 - val_accuracy: 0.9955\n",
      "Epoch 20/25\n",
      "68/68 [==============================] - 26s 382ms/step - loss: 0.2035 - accuracy: 0.9154 - val_loss: 0.0626 - val_accuracy: 0.9777\n",
      "Epoch 21/25\n",
      "68/68 [==============================] - 25s 374ms/step - loss: 0.1834 - accuracy: 0.9260 - val_loss: 0.0740 - val_accuracy: 0.9866\n",
      "Epoch 22/25\n",
      "68/68 [==============================] - 25s 374ms/step - loss: 0.2033 - accuracy: 0.9182 - val_loss: 0.0652 - val_accuracy: 0.9866\n",
      "Epoch 23/25\n",
      "68/68 [==============================] - 25s 367ms/step - loss: 0.2015 - accuracy: 0.9145 - val_loss: 0.0529 - val_accuracy: 0.9911\n",
      "Epoch 24/25\n",
      "68/68 [==============================] - 24s 360ms/step - loss: 0.1863 - accuracy: 0.9269 - val_loss: 0.0595 - val_accuracy: 0.9866\n",
      "Epoch 25/25\n",
      "68/68 [==============================] - 24s 360ms/step - loss: 0.1921 - accuracy: 0.9256 - val_loss: 0.0396 - val_accuracy: 1.0000\n"
     ]
    }
   ],
   "source": [
    "history_dr50_long = modelt.fit(train, validation_data=val, epochs=25)"
   ]
  },
  {
   "cell_type": "code",
   "execution_count": 40,
   "metadata": {},
   "outputs": [
    {
     "name": "stdout",
     "output_type": "stream",
     "text": [
      "19/19 [==============================] - 10s 304ms/step\n"
     ]
    }
   ],
   "source": [
    "y_hat = modelt.predict(testdata)"
   ]
  },
  {
   "cell_type": "code",
   "execution_count": 41,
   "metadata": {},
   "outputs": [],
   "source": [
    "np.savetxt('yproba1_test.txt', y_hat)"
   ]
  },
  {
   "cell_type": "code",
   "execution_count": 43,
   "metadata": {},
   "outputs": [
    {
     "data": {
      "text/plain": [
       "0.05"
      ]
     },
     "execution_count": 43,
     "metadata": {},
     "output_type": "execute_result"
    }
   ],
   "source": [
    "30/600"
   ]
  },
  {
   "cell_type": "code",
   "execution_count": 2,
   "metadata": {},
   "outputs": [],
   "source": [
    "import pickle"
   ]
  },
  {
   "cell_type": "code",
   "execution_count": 94,
   "metadata": {},
   "outputs": [],
   "source": [
    "'''with open('history_dr1.pkl','wb') as f:\n",
    "    pickle.dump(history_dr1.history,f)'''"
   ]
  },
  {
   "cell_type": "code",
   "execution_count": 3,
   "metadata": {},
   "outputs": [],
   "source": [
    "with open('history_dr1.pkl','rb') as f:\n",
    "    history_dr1 = pickle.load(f)"
   ]
  },
  {
   "cell_type": "code",
   "execution_count": 104,
   "metadata": {},
   "outputs": [],
   "source": [
    "'''with open('history_dr25.pkl','wb') as f:\n",
    "    pickle.dump(history_dr25.history,f)'''"
   ]
  },
  {
   "cell_type": "code",
   "execution_count": 4,
   "metadata": {},
   "outputs": [],
   "source": [
    "with open('history_dr25.pkl','rb') as f:\n",
    "    history_dr25 = pickle.load(f)"
   ]
  },
  {
   "cell_type": "code",
   "execution_count": 115,
   "metadata": {},
   "outputs": [],
   "source": [
    "'''with open('history_dr50.pkl','wb') as f:\n",
    "    pickle.dump(history_dr50.history,f)'''"
   ]
  },
  {
   "cell_type": "code",
   "execution_count": 5,
   "metadata": {},
   "outputs": [],
   "source": [
    "with open('history_dr50.pkl','rb') as f:\n",
    "    history_dr50 = pickle.load(f)"
   ]
  },
  {
   "cell_type": "code",
   "execution_count": 7,
   "metadata": {},
   "outputs": [
    {
     "data": {
      "text/plain": [
       "dict_keys(['loss', 'accuracy', 'val_loss', 'val_accuracy'])"
      ]
     },
     "execution_count": 7,
     "metadata": {},
     "output_type": "execute_result"
    }
   ],
   "source": [
    "history_dr1.keys()"
   ]
  },
  {
   "cell_type": "code",
   "execution_count": 9,
   "metadata": {},
   "outputs": [
    {
     "name": "stdout",
     "output_type": "stream",
     "text": [
      "[ 1  2  3  4  5  6  7  8  9 10 11 12 13 14 15]\n"
     ]
    }
   ],
   "source": [
    "epochs = np.arange(1,16)\n",
    "print(epochs)"
   ]
  },
  {
   "cell_type": "code",
   "execution_count": 11,
   "metadata": {},
   "outputs": [
    {
     "name": "stdout",
     "output_type": "stream",
     "text": [
      "[0.1  0.25 0.5 ]\n"
     ]
    }
   ],
   "source": [
    "dr_rate = np.array([0.10, 0.25, 0.50])\n",
    "print(dr_rate)"
   ]
  },
  {
   "cell_type": "code",
   "execution_count": 39,
   "metadata": {},
   "outputs": [
    {
     "data": {
      "text/plain": [
       "[0.7229166626930237,\n",
       " 0.8578125238418579,\n",
       " 0.8588541746139526,\n",
       " 0.8760416507720947,\n",
       " 0.8989583253860474,\n",
       " 0.878125011920929,\n",
       " 0.890625,\n",
       " 0.8932291865348816,\n",
       " 0.9140625,\n",
       " 0.9114583134651184,\n",
       " 0.90625,\n",
       " 0.9182291626930237,\n",
       " 0.9354166388511658,\n",
       " 0.9255208373069763,\n",
       " 0.9286458492279053]"
      ]
     },
     "execution_count": 39,
     "metadata": {},
     "output_type": "execute_result"
    }
   ],
   "source": [
    "history_dr25.get('accuracy')"
   ]
  },
  {
   "cell_type": "code",
   "execution_count": 38,
   "metadata": {},
   "outputs": [],
   "source": [
    "dr1_train_acc = np.array(history_dr1.get('accuracy'))\n",
    "dr25_train_acc = np.array(history_dr25.get('accuracy'))\n",
    "dr50_train_acc = np.array(history_dr50.get('accuracy'))"
   ]
  },
  {
   "cell_type": "code",
   "execution_count": 42,
   "metadata": {},
   "outputs": [
    {
     "data": {
      "text/plain": [
       "(15,)"
      ]
     },
     "execution_count": 42,
     "metadata": {},
     "output_type": "execute_result"
    }
   ],
   "source": [
    "dr25_train_acc.shape"
   ]
  },
  {
   "cell_type": "code",
   "execution_count": 43,
   "metadata": {},
   "outputs": [],
   "source": [
    "train_acc = np.vstack((np.vstack((dr1_train_acc,dr25_train_acc)),dr50_train_acc))"
   ]
  },
  {
   "cell_type": "code",
   "execution_count": 46,
   "metadata": {},
   "outputs": [
    {
     "data": {
      "text/plain": [
       "(3, 15)"
      ]
     },
     "execution_count": 46,
     "metadata": {},
     "output_type": "execute_result"
    }
   ],
   "source": [
    "train_acc.shape"
   ]
  },
  {
   "cell_type": "code",
   "execution_count": 47,
   "metadata": {},
   "outputs": [],
   "source": [
    "train_acc = train_acc.transpose()"
   ]
  },
  {
   "cell_type": "code",
   "execution_count": 48,
   "metadata": {},
   "outputs": [
    {
     "data": {
      "text/plain": [
       "array([[0.75312501, 0.72291666, 0.69947916],\n",
       "       [0.85364586, 0.85781252, 0.81822914],\n",
       "       [0.87864584, 0.85885417, 0.83177084],\n",
       "       [0.90208334, 0.87604165, 0.84843749],\n",
       "       [0.89375001, 0.89895833, 0.8671875 ],\n",
       "       [0.90104169, 0.87812501, 0.86770833],\n",
       "       [0.90729165, 0.890625  , 0.86614585],\n",
       "       [0.92447919, 0.89322919, 0.86770833],\n",
       "       [0.92552084, 0.9140625 , 0.88229167],\n",
       "       [0.91093749, 0.91145831, 0.88906252],\n",
       "       [0.93281251, 0.90625   , 0.89010417],\n",
       "       [0.93020833, 0.91822916, 0.89999998],\n",
       "       [0.93906248, 0.93541664, 0.88489586],\n",
       "       [0.94427085, 0.92552084, 0.8984375 ],\n",
       "       [0.9453125 , 0.92864585, 0.90937501]])"
      ]
     },
     "execution_count": 48,
     "metadata": {},
     "output_type": "execute_result"
    }
   ],
   "source": [
    "train_acc"
   ]
  },
  {
   "cell_type": "code",
   "execution_count": 49,
   "metadata": {},
   "outputs": [],
   "source": [
    "train_acc_df = pd.DataFrame(train_acc, index=epochs, columns=dr_rate)"
   ]
  },
  {
   "cell_type": "code",
   "execution_count": 50,
   "metadata": {},
   "outputs": [
    {
     "data": {
      "text/html": [
       "<div>\n",
       "<style scoped>\n",
       "    .dataframe tbody tr th:only-of-type {\n",
       "        vertical-align: middle;\n",
       "    }\n",
       "\n",
       "    .dataframe tbody tr th {\n",
       "        vertical-align: top;\n",
       "    }\n",
       "\n",
       "    .dataframe thead th {\n",
       "        text-align: right;\n",
       "    }\n",
       "</style>\n",
       "<table border=\"1\" class=\"dataframe\">\n",
       "  <thead>\n",
       "    <tr style=\"text-align: right;\">\n",
       "      <th></th>\n",
       "      <th>0.10</th>\n",
       "      <th>0.25</th>\n",
       "      <th>0.50</th>\n",
       "    </tr>\n",
       "  </thead>\n",
       "  <tbody>\n",
       "    <tr>\n",
       "      <th>1</th>\n",
       "      <td>0.753125</td>\n",
       "      <td>0.722917</td>\n",
       "      <td>0.699479</td>\n",
       "    </tr>\n",
       "    <tr>\n",
       "      <th>2</th>\n",
       "      <td>0.853646</td>\n",
       "      <td>0.857813</td>\n",
       "      <td>0.818229</td>\n",
       "    </tr>\n",
       "    <tr>\n",
       "      <th>3</th>\n",
       "      <td>0.878646</td>\n",
       "      <td>0.858854</td>\n",
       "      <td>0.831771</td>\n",
       "    </tr>\n",
       "    <tr>\n",
       "      <th>4</th>\n",
       "      <td>0.902083</td>\n",
       "      <td>0.876042</td>\n",
       "      <td>0.848437</td>\n",
       "    </tr>\n",
       "    <tr>\n",
       "      <th>5</th>\n",
       "      <td>0.893750</td>\n",
       "      <td>0.898958</td>\n",
       "      <td>0.867188</td>\n",
       "    </tr>\n",
       "    <tr>\n",
       "      <th>6</th>\n",
       "      <td>0.901042</td>\n",
       "      <td>0.878125</td>\n",
       "      <td>0.867708</td>\n",
       "    </tr>\n",
       "    <tr>\n",
       "      <th>7</th>\n",
       "      <td>0.907292</td>\n",
       "      <td>0.890625</td>\n",
       "      <td>0.866146</td>\n",
       "    </tr>\n",
       "    <tr>\n",
       "      <th>8</th>\n",
       "      <td>0.924479</td>\n",
       "      <td>0.893229</td>\n",
       "      <td>0.867708</td>\n",
       "    </tr>\n",
       "    <tr>\n",
       "      <th>9</th>\n",
       "      <td>0.925521</td>\n",
       "      <td>0.914062</td>\n",
       "      <td>0.882292</td>\n",
       "    </tr>\n",
       "    <tr>\n",
       "      <th>10</th>\n",
       "      <td>0.910937</td>\n",
       "      <td>0.911458</td>\n",
       "      <td>0.889063</td>\n",
       "    </tr>\n",
       "    <tr>\n",
       "      <th>11</th>\n",
       "      <td>0.932813</td>\n",
       "      <td>0.906250</td>\n",
       "      <td>0.890104</td>\n",
       "    </tr>\n",
       "    <tr>\n",
       "      <th>12</th>\n",
       "      <td>0.930208</td>\n",
       "      <td>0.918229</td>\n",
       "      <td>0.900000</td>\n",
       "    </tr>\n",
       "    <tr>\n",
       "      <th>13</th>\n",
       "      <td>0.939062</td>\n",
       "      <td>0.935417</td>\n",
       "      <td>0.884896</td>\n",
       "    </tr>\n",
       "    <tr>\n",
       "      <th>14</th>\n",
       "      <td>0.944271</td>\n",
       "      <td>0.925521</td>\n",
       "      <td>0.898438</td>\n",
       "    </tr>\n",
       "    <tr>\n",
       "      <th>15</th>\n",
       "      <td>0.945312</td>\n",
       "      <td>0.928646</td>\n",
       "      <td>0.909375</td>\n",
       "    </tr>\n",
       "  </tbody>\n",
       "</table>\n",
       "</div>"
      ],
      "text/plain": [
       "        0.10      0.25      0.50\n",
       "1   0.753125  0.722917  0.699479\n",
       "2   0.853646  0.857813  0.818229\n",
       "3   0.878646  0.858854  0.831771\n",
       "4   0.902083  0.876042  0.848437\n",
       "5   0.893750  0.898958  0.867188\n",
       "6   0.901042  0.878125  0.867708\n",
       "7   0.907292  0.890625  0.866146\n",
       "8   0.924479  0.893229  0.867708\n",
       "9   0.925521  0.914062  0.882292\n",
       "10  0.910937  0.911458  0.889063\n",
       "11  0.932813  0.906250  0.890104\n",
       "12  0.930208  0.918229  0.900000\n",
       "13  0.939062  0.935417  0.884896\n",
       "14  0.944271  0.925521  0.898438\n",
       "15  0.945312  0.928646  0.909375"
      ]
     },
     "execution_count": 50,
     "metadata": {},
     "output_type": "execute_result"
    }
   ],
   "source": [
    "train_acc_df"
   ]
  },
  {
   "cell_type": "code",
   "execution_count": 51,
   "metadata": {},
   "outputs": [],
   "source": [
    "import matplotlib.pyplot as plt\n",
    "import seaborn as sns"
   ]
  },
  {
   "cell_type": "code",
   "execution_count": 52,
   "metadata": {},
   "outputs": [
    {
     "data": {
      "image/png": "[encoded data removed]",
      "text/plain": [
       "<Figure size 640x480 with 1 Axes>"
      ]
     },
     "metadata": {},
     "output_type": "display_data"
    }
   ],
   "source": [
    "sns.lineplot(data=train_acc_df)\n",
    "plt.xlabel('Training Epochs')\n",
    "plt.ylabel('Training Accuracy')\n",
    "plt.title('Training Accuracy Progression Through Epochs')\n",
    "plt.show;"
   ]
  },
  {
   "cell_type": "code",
   "execution_count": 53,
   "metadata": {},
   "outputs": [],
   "source": [
    "dr1_val_acc = np.array(history_dr1.get('val_accuracy'))\n",
    "dr25_val_acc = np.array(history_dr25.get('val_accuracy'))\n",
    "dr50_val_acc = np.array(history_dr50.get('val_accuracy'))"
   ]
  },
  {
   "cell_type": "code",
   "execution_count": 54,
   "metadata": {},
   "outputs": [],
   "source": [
    "val_acc = np.vstack((np.vstack((dr1_val_acc,dr25_val_acc)),dr50_val_acc))"
   ]
  },
  {
   "cell_type": "code",
   "execution_count": 55,
   "metadata": {},
   "outputs": [],
   "source": [
    "val_acc = val_acc.transpose()"
   ]
  },
  {
   "cell_type": "code",
   "execution_count": 56,
   "metadata": {},
   "outputs": [],
   "source": [
    "val_acc_df = pd.DataFrame(val_acc, index=epochs, columns=dr_rate)"
   ]
  },
  {
   "cell_type": "code",
   "execution_count": 58,
   "metadata": {},
   "outputs": [
    {
     "data": {
      "image/png": "[encoded data removed]",
      "text/plain": [
       "<Figure size 640x480 with 1 Axes>"
      ]
     },
     "metadata": {},
     "output_type": "display_data"
    }
   ],
   "source": [
    "sns.lineplot(data=val_acc_df)\n",
    "plt.xlabel('Training Epochs')\n",
    "plt.ylabel('Training Accuracy')\n",
    "plt.title('Validation Accuracy Progression Through Epochs')\n",
    "plt.show;"
   ]
  },
  {
   "cell_type": "code",
   "execution_count": null,
   "metadata": {},
   "outputs": [],
   "source": []
  },
  {
   "cell_type": "code",
   "execution_count": null,
   "metadata": {},
   "outputs": [],
   "source": []
  },
  {
   "cell_type": "code",
   "execution_count": 117,
   "metadata": {},
   "outputs": [],
   "source": [
    "#analyze results"
   ]
  },
  {
   "cell_type": "code",
   "execution_count": 121,
   "metadata": {},
   "outputs": [
    {
     "data": {
      "text/plain": [
       "[0.8687499761581421,\n",
       " 0.8812500238418579,\n",
       " 0.8729166388511658,\n",
       " 0.9354166388511658,\n",
       " 0.9437500238418579,\n",
       " 0.9541666507720947,\n",
       " 0.9666666388511658,\n",
       " 0.9666666388511658,\n",
       " 0.9854166507720947,\n",
       " 0.9833333492279053,\n",
       " 0.9791666865348816,\n",
       " 0.9895833134651184,\n",
       " 0.9958333373069763,\n",
       " 0.9937499761581421,\n",
       " 0.9854166507720947]"
      ]
     },
     "execution_count": 121,
     "metadata": {},
     "output_type": "execute_result"
    }
   ],
   "source": [
    "history_dr1.get('val_accuracy')"
   ]
  },
  {
   "cell_type": "code",
   "execution_count": 122,
   "metadata": {},
   "outputs": [
    {
     "data": {
      "text/plain": [
       "[0.7666666507720947,\n",
       " 0.9083333611488342,\n",
       " 0.9229166507720947,\n",
       " 0.9291666746139526,\n",
       " 0.956250011920929,\n",
       " 0.9395833611488342,\n",
       " 0.9375,\n",
       " 0.9666666388511658,\n",
       " 0.9624999761581421,\n",
       " 0.9750000238418579,\n",
       " 0.981249988079071,\n",
       " 0.981249988079071,\n",
       " 0.981249988079071,\n",
       " 0.9916666746139526,\n",
       " 0.9937499761581421]"
      ]
     },
     "execution_count": 122,
     "metadata": {},
     "output_type": "execute_result"
    }
   ],
   "source": [
    "history_dr25.get('val_accuracy')"
   ]
  },
  {
   "cell_type": "code",
   "execution_count": 123,
   "metadata": {},
   "outputs": [
    {
     "data": {
      "text/plain": [
       "[0.887499988079071,\n",
       " 0.8812500238418579,\n",
       " 0.8958333134651184,\n",
       " 0.893750011920929,\n",
       " 0.9229166507720947,\n",
       " 0.9208333492279053,\n",
       " 0.9312499761581421,\n",
       " 0.9520833492279053,\n",
       " 0.96875,\n",
       " 0.949999988079071,\n",
       " 0.956250011920929,\n",
       " 0.9583333134651184,\n",
       " 0.9583333134651184,\n",
       " 0.9583333134651184,\n",
       " 0.9708333611488342]"
      ]
     },
     "execution_count": 123,
     "metadata": {},
     "output_type": "execute_result"
    }
   ],
   "source": [
    "history_dr50.get('val_accuracy')"
   ]
  },
  {
   "cell_type": "code",
   "execution_count": null,
   "metadata": {},
   "outputs": [],
   "source": []
  }
 ],
 "metadata": {
  "kernelspec": {
   "display_name": "Python 3.9.0 ('tf')",
   "language": "python",
   "name": "python3"
  },
  "language_info": {
   "codemirror_mode": {
    "name": "ipython",
    "version": 3
   },
   "file_extension": ".py",
   "mimetype": "text/x-python",
   "name": "python",
   "nbconvert_exporter": "python",
   "pygments_lexer": "ipython3",
   "version": "3.9.0"
  },
  "orig_nbformat": 4,
  "vscode": {
   "interpreter": {
    "hash": "2af03d7e22c24bf2e6d190a35b261c407267ffc2225e910495761a73f1323185"
   }
  }
 },
 "nbformat": 4,
 "nbformat_minor": 2
}
